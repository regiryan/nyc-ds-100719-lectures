{
 "cells": [
  {
   "cell_type": "markdown",
   "metadata": {},
   "source": [
    "# Data Structures Review"
   ]
  },
  {
   "cell_type": "markdown",
   "metadata": {},
   "source": [
    "## Types of Collections \n",
    "\n",
    "What are the 4 types of data structures in python?"
   ]
  },
  {
   "cell_type": "markdown",
   "metadata": {},
   "source": [
    "\n",
    "\n",
    "## Selecting the appropriate data structure\n",
    "**Imagine you are creating a multiple choice test for a class and you want to store information about the test. Identify which would be the appropriate collection type for each of the following collections.**\n",
    "\n",
    "1. A collection fo the possible answers, which will always be A, B, C, D, E.\n",
    "      - a tuple\n",
    "\n",
    "2. A collection of the questions and the possible choices/answers:\n",
    "     - a dictionary with lists or tuples as values\n",
    "     \n",
    " *Which of the following is the largestof the Great Lakes?*\n",
    "  * Lake Superior\n",
    "  * Lake Huron\n",
    "  * Lake Michigan\n",
    "  * Lake Ontario\n",
    "  * Lake Erie\n",
    "\n",
    "\n",
    "3. A collection of all the students who will take the test. \n",
    "    - a list"
   ]
  },
  {
   "cell_type": "markdown",
   "metadata": {},
   "source": [
    "## Creating your own dictionary\n",
    "Imagine we have conducted a survey of all students and we asked them the following 4 questions:\n",
    "\n",
    "- What is your name?\n",
    "- What is your DOB?\n",
    "- What are some of the nicknames you've had in the past?\n",
    "- What are some of your interest?\n",
    "Which data collection would be best to use to save these responses?\n",
    "\n",
    "Below create an instance of this data structure with your personal responses to the question. ONce you have it created send it to me directly on Slack.\n"
   ]
  },
  {
   "cell_type": "markdown",
   "metadata": {},
   "source": [
    "# Data Structures Lab"
   ]
  },
  {
   "cell_type": "markdown",
   "metadata": {},
   "source": [
    "# Instructions:"
   ]
  },
  {
   "cell_type": "markdown",
   "metadata": {},
   "source": [
    "## Getting Started\n",
    "In this exercise, we will be using data from `rolling stone's top 500 albums`. We have this data contained in the `data.csv` file. We will be building out the following functions to answer questions and interact with this data.\n",
    "\n",
    "> **remember:** reading from a csv file in python looks like the following:\n",
    "\n",
    "```python \n",
    "import csv\n",
    "\n",
    "    with open(file_name) as f:\n",
    "        # we are using DictReader because we want our information to be in dictionary format.\n",
    "        reader = csv.DictReader(f)\n",
    "        # some more code\n",
    "```\n",
    "\n",
    "Once we have our `reader` reading our file as dictionaries, we want our data to be a list of dictionaries. So, we need to loop through our `reader` and create a list. *hint: list comprehension / for loops are your friend\"\n",
    "\n",
    "```python\n",
    "# our data will look something like this once we have read it and turned it into a list of `OrderedDict`s\n",
    "# don't worry, the ordered dicts look different but we can interact with them the same way we do normal dicts\n",
    "[OrderedDict([('number', '1'), ('year', '1967'), ('album', \"Sgt. Pepper's Lonely Hearts Club Band\"), ('artist', 'The Beatles'), ('genre', 'Rock'), ('subgenre', 'Rock & Roll, Psychedelic Rock')]), OrderedDict([('number', '2'), ('year', '1966'), ('album', 'Pet Sounds'), ('artist', 'The Beach Boys'), ('genre', 'Rock'), ('subgenre', 'Pop Rock, Psychedelic Rock')]), OrderedDict([('number', '3'), ('year', '1966'), ('album', 'Revolver'), ('artist', 'The Beatles'), ('genre', 'Rock'), ('subgenre', 'Psychedelic Rock, Pop Rock')])]\n",
    "```\n",
    "\n",
    "After we have our data formated the way we want it, we can now begin working on defining our functions."
   ]
  },
  {
   "cell_type": "code",
   "execution_count": 1,
   "metadata": {},
   "outputs": [],
   "source": [
    "import csv\n",
    "\n",
    "rs_top500 = []\n",
    "\n",
    "with open('data.csv') as f:\n",
    "    reader = csv.DictReader(f)\n",
    "    for i in reader:\n",
    "        rs_top500.append(i)\n",
    "        \n",
    "\n"
   ]
  },
  {
   "cell_type": "code",
   "execution_count": 2,
   "metadata": {},
   "outputs": [],
   "source": [
    "def all_titles(data):\n",
    "    titles = []\n",
    "    for entry in data:\n",
    "         titles.append(entry['album'])\n",
    "    return titles"
   ]
  },
  {
   "cell_type": "code",
   "execution_count": 3,
   "metadata": {},
   "outputs": [
    {
     "data": {
      "text/plain": [
       "478"
      ]
     },
     "execution_count": 3,
     "metadata": {},
     "output_type": "execute_result"
    }
   ],
   "source": [
    "len(all_titles(rs_top500))"
   ]
  },
  {
   "cell_type": "markdown",
   "metadata": {},
   "source": [
    "ajnagn\n"
   ]
  },
  {
   "cell_type": "markdown",
   "metadata": {},
   "source": [
    "\n",
    "### Functions to build-out:\n",
    "\n",
    "Each of the following functions can be defined in the `functions.py` file. \n",
    "\n",
    "* **Searching functions**\n",
    "  * Find by name - Takes in a string that represents the name of an album. Should return a dictionary with the correct album, or return `None`.\n",
    "  * Find by rank - Takes in a number that represents the rank in the list of top albums and returns the album with that rank. If there is no album with that rank, it returns `None`.\n",
    "  * Find by year - Takes in a number for the year in which an album was released and returns a list of albums that were released in that year. If there are no albums released in the given year, it returns an empty list.\n",
    "  * Find by years - Takes in a start year and end year. Returns a list of all albums that were released on or between the start and end years. If no albums are found for those years, then an empty list is returned. \n",
    "  * Find by ranks - Takes in a start rank and end rank. Returns a list of albums that are ranked between the start and end ranks. If no albums are found for those ranks, then an empty list is returned.\n",
    "* **All functions**\n",
    "  * All titles - Returns a list of titles for each album.\n",
    "  * All artists - Returns a list of artist names for each album.\n",
    "* **Questions to answer / functions**\n",
    "  * Artists with the most albums - Returns the artist with the highest amount of albums on the list of top albums \n",
    "  * Most popular word - Returns the word used most in amongst all album titles\n",
    "  * Histogram of albums by decade - Returns a histogram with each decade pointing to the number of albums released during that decade.\n",
    "  * Histogram by genre - Returns a histogram with each genre pointing to the number of albums that are categorized as being in that genre."
   ]
  },
  {
   "cell_type": "code",
   "execution_count": 142,
   "metadata": {},
   "outputs": [
    {
     "name": "stdout",
     "output_type": "stream",
     "text": [
      "['Rock', 'Rock', 'Rock', 'Rock', 'Rock', 'Pop', 'Funk / Soul', 'Rock', 'Rock', 'Rock', 'Blues', 'Rock', 'Rock', 'Jazz', 'Rock', 'Rock', 'Rock', 'Blues', 'Rock', 'Rock', 'Rock', 'Jazz', 'Rock', 'Blues', 'Folk', 'World', 'Country', 'Funk / Soul', 'Pop', 'Rock', 'Blues', 'Rock', 'Funk / Soul', 'Funk / Soul', 'Rock', 'Rock', 'Rock', 'Rock', 'Pop', 'Rock', 'Folk', 'World', 'Country', 'Rock', 'Rock', 'Rock', 'Rock', 'Rock', 'Pop', 'Rock', 'Folk', 'World', 'Country', 'Rock', 'Rock', 'Rock', 'Rock', 'Rock', 'Rock', 'Classical', 'Stage & Screen', 'Reggae', 'Jazz', 'Hip Hop', 'Rock', 'Blues', 'Rock', 'Blues', 'Rock', 'Funk / Soul', 'Rock', 'Jazz', 'Funk / Soul', 'Rock', 'Blues', 'Rock', 'Funk / Soul', 'Rock', 'Funk / Soul', 'Pop', 'Rock', 'Funk / Soul', 'Rock', 'Electronic', 'Rock', 'Rock', 'Rock', 'Funk / Soul', 'Pop', 'Jazz', 'Rock', 'Funk / Soul', 'Folk', 'World', 'Country', 'Electronic', 'Rock', 'Funk / Soul', 'Pop', 'Rock', 'Rock', 'Jazz', 'Rock', 'Funk / Soul', 'Pop', 'Folk', 'World', 'Country', 'Funk / Soul', 'Stage & Screen', 'Rock', 'Rock', 'Funk / Soul', 'Electronic', 'Rock', 'Funk / Soul', 'Stage & Screen', 'Rock', 'Funk / Soul', 'Rock', 'Rock', 'Rock', 'Rock', 'Rock', 'Funk / Soul', 'Funk / Soul', 'Rock', 'Rock', 'Folk', 'World', 'Country', 'Rock', 'Funk / Soul', 'Funk / Soul', 'Rock', 'Rock', 'Rock', 'Reggae', 'Folk', 'World', 'Country', 'Jazz', 'Rock', 'Folk', 'World', 'Country', 'Rock', 'Funk / Soul', 'Rock', 'Jazz', 'Pop', 'Rock', 'Blues', 'Jazz', 'Rock', 'Rock', 'Latin', 'Funk / Soul', 'Rock', 'Rock', 'Rock', 'Rock', 'Rock', 'Rock', 'Rock', 'Rock', 'Rock', 'Rock', 'Hip Hop', 'Funk / Soul', 'Blues', 'Rock', 'Funk / Soul', 'Reggae', 'Pop', 'Folk', 'World', 'Country', 'Stage & Screen', 'Hip Hop', 'Rock', 'Rock', 'Blues', 'Reggae', 'Rock', 'Rock', 'Electronic', 'Rock', 'Rock', 'Rock', 'Electronic', 'Stage & Screen', 'Rock', 'Hip Hop', 'Rock', 'Rock', 'Rock', 'Hip Hop', 'Funk / Soul', 'Electronic', 'Rock', 'Blues', 'Rock', 'Funk / Soul', 'Pop', 'Jazz', 'Rock', 'Funk / Soul', 'Blues', 'Hip Hop', 'Jazz', 'Rock', 'Rock', 'Rock', 'Rock', 'Rock', 'Latin', 'Funk / Soul', 'Rock', 'Rock', 'Electronic', 'Rock', 'Pop', 'Hip Hop', 'Blues', 'Rock', 'Hip Hop', 'Rock', 'Funk / Soul', 'Rock', 'Rock', 'Rock', 'Rock', 'Funk / Soul', 'Electronic', 'Rock', 'Funk / Soul', 'Pop', 'Funk / Soul', 'Rock', 'Rock', 'Rock', 'Reggae', 'Rock', 'Rock', 'Rock', 'Rock', 'Rock', 'Rock', 'Pop', 'Rock', 'Funk / Soul', 'Funk / Soul', 'Electronic', 'Pop', 'Rock', 'Blues', 'Pop', 'Reggae', 'Rock', 'Pop', 'Folk', 'World', 'Country', 'Electronic', 'Pop', 'Rock', 'Funk / Soul', 'Electronic', 'Rock', 'Funk / Soul', 'Pop', 'Rock', 'Pop', 'Rock', 'Rock', 'Funk / Soul', 'Folk', 'World', 'Country', 'Rock', 'Rock', 'Folk', 'World', 'Country', 'Rock', 'Rock', 'Rock', 'Blues', 'Rock', 'Rock', 'Rock', 'Electronic', 'Rock', 'Rock', 'Pop', 'Folk', 'World', 'Country', 'Funk / Soul', 'Pop', 'Rock', 'Rock', 'Blues', 'Funk / Soul', 'Rock', 'Latin', 'Rock', 'Stage & Screen', 'Rock', 'Rock', 'Rock', 'Rock', 'Rock', 'Rock', 'Rock', 'Blues', 'Funk / Soul', 'Blues', 'Rock', 'Pop', 'Hip Hop', 'Funk / Soul', 'Rock', 'Funk / Soul', 'Blues', 'Rock', 'Rock', 'Pop', 'Rock', 'Rock', 'Rock', 'Hip Hop', 'Rock', 'Rock', 'Pop', 'Rock', 'Rock', 'Rock', 'Folk', 'World', 'Country', 'Funk / Soul', 'Rock', 'Blues', 'Electronic', 'Pop', 'Rock', 'Rock', 'Hip Hop', 'Rock', 'Hip Hop', 'Electronic', 'Rock', 'Rock', 'Jazz', 'Rock', 'Hip Hop', 'Electronic', 'Rock', 'Hip Hop', 'Rock', 'Funk / Soul', 'Rock', 'Funk / Soul', 'Pop', 'Rock', 'Electronic', 'Funk / Soul', 'Pop', 'Pop', 'Folk', 'World', 'Country', 'Rock', 'Rock', 'Folk', 'World', 'Country', 'Rock', 'Rock', 'Jazz', 'Pop', 'Rock', 'Rock', 'Rock', 'Rock', 'Rock', 'Rock', 'Rock', 'Funk / Soul', 'Funk / Soul', 'Hip Hop', 'Funk / Soul', 'Electronic', 'Hip Hop', 'Pop', 'Rock', 'Rock', 'Hip Hop', 'Blues', 'Funk / Soul', 'Electronic', 'Rock', 'Funk / Soul', 'Funk / Soul', 'Rock', 'Rock', 'Funk / Soul', 'Rock', 'Rock', 'Rock', 'Rock', 'Folk', 'World', 'Country', 'Rock', 'Electronic', 'Rock', 'Hip Hop', 'Rock', 'Rock', 'Folk', 'World', 'Country', 'Hip Hop', 'Rock', 'Rock', 'Folk', 'World', 'Country', 'Electronic', 'Hip Hop', 'Funk / Soul', 'Pop', 'Rock', 'Stage & Screen', 'Rock', 'Rock', 'Rock', 'Funk / Soul', 'Blues', 'Pop', 'Folk', 'World', 'Country', 'Rock', 'Rock', 'Hip Hop', 'Rock', 'Rock', 'Rock', 'Funk / Soul', 'Reggae', 'Electronic', 'Rock', 'Rock', 'Folk', 'World', 'Country', 'Rock', 'Pop', 'Rock', 'Pop', 'Rock', 'Funk / Soul', 'Rock', 'Electronic', 'Rock', 'Rock', 'Rock', 'Funk / Soul', 'Rock', 'Rock', 'Stage & Screen', 'Rock', 'Folk', 'World', 'Country', 'Rock', 'Rock', 'Blues', 'Rock', 'Electronic', 'Rock', 'Rock', 'Rock', 'Jazz', 'Pop', 'Folk', 'World', 'Country', 'Rock', 'Electronic', 'Electronic', 'Rock', 'Rock', 'Rock', 'Funk / Soul', 'Rock', 'Rock', 'Blues', 'Hip Hop', 'Rock', 'Blues', 'Rock', 'Rock', 'Hip Hop', 'Jazz', 'Rock', 'Pop', 'Rock', 'Pop', 'Rock', 'Jazz', 'Rock', 'Hip Hop', 'Funk / Soul', 'Rock', 'Rock', 'Hip Hop', 'Rock', 'Folk', 'World', 'Country', 'Electronic', 'Pop', 'Rock', 'Rock', 'Rock', 'Rock', 'Rock', 'Pop', 'Rock', 'Rock', 'Rock', 'Electronic', 'Rock', 'Pop', 'Electronic', 'Hip Hop', 'Funk / Soul', 'Reggae', 'Rock', 'Rock', 'Rock', 'Rock', 'Rock', 'Jazz', 'Rock', 'Hip Hop', 'Funk / Soul', 'Folk', 'World', 'Country', 'Rock', 'Rock', 'Rock', 'Rock', 'Electronic', 'Hip Hop', 'Reggae', 'Pop', 'Rock', 'Pop', 'Electronic', 'Rock', 'Rock', 'Electronic', 'Reggae', 'Rock', 'Rock', 'Blues', 'Rock', 'Hip Hop', 'Rock', 'Funk / Soul', 'Rock', 'Rock', 'Rock', 'Reggae', 'Rock', 'Funk / Soul', 'Blues', 'Rock', 'Rock', 'Blues', 'Rock', 'Rock', 'Rock', 'Rock', 'Rock', 'Electronic', 'Rock', 'Rock', 'Rock', 'Electronic', 'Rock', 'Pop', 'Rock', 'Pop', 'Electronic', 'Funk / Soul', 'Rock', 'Rock', 'Folk', 'World', 'Country', 'Rock', 'Blues', 'Pop', 'Rock', 'Electronic', 'Rock', 'Rock', 'Rock', 'Rock', 'Rock', 'Rock', 'Rock', 'Hip Hop', 'Funk / Soul', 'Rock', 'Funk / Soul', 'Rock', 'Folk', 'World', 'Country', 'Electronic', 'Rock', 'Rock', 'Rock', 'Funk / Soul', 'Rock', 'Rock', 'Jazz', 'Rock', 'Pop', 'Rock', 'Funk / Soul', 'Pop', 'Folk', 'World', 'Country', 'Hip Hop', 'Rock', 'Rock', 'Latin', 'Funk / Soul', 'Rock', 'Rock', 'Folk', 'World', 'Country', 'Rock', 'Electronic', 'Rock', 'Rock', 'Rock', 'Rock', 'Electronic', 'Rock', 'Rock', 'Rock', 'Rock', 'Blues', 'Hip Hop', 'Hip Hop', 'Rock', 'Electronic', 'Rock', 'Funk / Soul', 'Blues', 'Pop', 'Rock', 'Rock', 'Reggae', 'Latin', 'Rock', 'Hip Hop', 'Folk', 'World', 'Country', 'Folk', 'World', 'Country', 'Rock', 'Funk / Soul', 'Hip Hop', 'Hip Hop', 'Funk / Soul', 'Rock', 'Folk', 'World', 'Country', 'Rock', 'Rock', 'Rock', 'Funk / Soul', 'Electronic', 'Rock', 'Rock', 'Rock', 'Rock', 'Funk / Soul', 'Blues', 'Electronic', 'Pop', 'Rock', 'Electronic', 'Rock', 'Pop', 'Rock', 'Rock', 'Rock', 'Rock', 'Blues', 'Hip Hop']\n",
      "['Country', 'World', 'Jazz', 'Rock', 'Latin', 'Reggae', 'Folk', 'Stage & Screen', 'Classical', 'Electronic', 'Funk / Soul', 'Blues', 'Hip Hop', 'Pop']\n"
     ]
    },
    {
     "ename": "ValueError",
     "evalue": "`bins` must increase monotonically, when an array",
     "output_type": "error",
     "traceback": [
      "\u001b[0;31m---------------------------------------------------------------------------\u001b[0m",
      "\u001b[0;31mValueError\u001b[0m                                Traceback (most recent call last)",
      "\u001b[0;32m<ipython-input-142-7c5e5b0632a2>\u001b[0m in \u001b[0;36m<module>\u001b[0;34m\u001b[0m\n\u001b[1;32m     38\u001b[0m     \u001b[0mplt\u001b[0m\u001b[0;34m.\u001b[0m\u001b[0mshow\u001b[0m\u001b[0;34m(\u001b[0m\u001b[0;34m)\u001b[0m\u001b[0;34m\u001b[0m\u001b[0;34m\u001b[0m\u001b[0m\n\u001b[1;32m     39\u001b[0m \u001b[0;34m\u001b[0m\u001b[0m\n\u001b[0;32m---> 40\u001b[0;31m \u001b[0mplot_genre_hist\u001b[0m\u001b[0;34m(\u001b[0m\u001b[0mrs_top500\u001b[0m\u001b[0;34m,\u001b[0m \u001b[0;34m'genre'\u001b[0m\u001b[0;34m,\u001b[0m \u001b[0;34m'Genres'\u001b[0m\u001b[0;34m,\u001b[0m \u001b[0;34m'Albums'\u001b[0m\u001b[0;34m,\u001b[0m \u001b[0;34m'Top 500 Albums by Genre'\u001b[0m\u001b[0;34m)\u001b[0m\u001b[0;34m\u001b[0m\u001b[0;34m\u001b[0m\u001b[0m\n\u001b[0m\u001b[1;32m     41\u001b[0m \u001b[0;34m\u001b[0m\u001b[0m\n",
      "\u001b[0;32m<ipython-input-142-7c5e5b0632a2>\u001b[0m in \u001b[0;36mplot_genre_hist\u001b[0;34m(dataset, value_key, xlabel, ylabel, title)\u001b[0m\n\u001b[1;32m     31\u001b[0m     \u001b[0mprint\u001b[0m\u001b[0;34m(\u001b[0m\u001b[0mx\u001b[0m\u001b[0;34m)\u001b[0m\u001b[0;34m\u001b[0m\u001b[0;34m\u001b[0m\u001b[0m\n\u001b[1;32m     32\u001b[0m     \u001b[0mprint\u001b[0m\u001b[0;34m(\u001b[0m\u001b[0mbins\u001b[0m\u001b[0;34m)\u001b[0m\u001b[0;34m\u001b[0m\u001b[0;34m\u001b[0m\u001b[0m\n\u001b[0;32m---> 33\u001b[0;31m     \u001b[0mplt\u001b[0m\u001b[0;34m.\u001b[0m\u001b[0mhist\u001b[0m\u001b[0;34m(\u001b[0m\u001b[0mx\u001b[0m\u001b[0;34m,\u001b[0m \u001b[0mbins\u001b[0m\u001b[0;34m)\u001b[0m\u001b[0;34m\u001b[0m\u001b[0;34m\u001b[0m\u001b[0m\n\u001b[0m\u001b[1;32m     34\u001b[0m     \u001b[0mplt\u001b[0m\u001b[0;34m.\u001b[0m\u001b[0mxticks\u001b[0m\u001b[0;34m(\u001b[0m\u001b[0mbins\u001b[0m\u001b[0;34m)\u001b[0m\u001b[0;34m\u001b[0m\u001b[0;34m\u001b[0m\u001b[0m\n\u001b[1;32m     35\u001b[0m     \u001b[0mplt\u001b[0m\u001b[0;34m.\u001b[0m\u001b[0mxlabel\u001b[0m\u001b[0;34m(\u001b[0m\u001b[0mxlabel\u001b[0m\u001b[0;34m)\u001b[0m\u001b[0;34m\u001b[0m\u001b[0;34m\u001b[0m\u001b[0m\n",
      "\u001b[0;32m~/miniconda3/lib/python3.7/site-packages/matplotlib/pyplot.py\u001b[0m in \u001b[0;36mhist\u001b[0;34m(x, bins, range, density, weights, cumulative, bottom, histtype, align, orientation, rwidth, log, color, label, stacked, normed, data, **kwargs)\u001b[0m\n\u001b[1;32m   2634\u001b[0m         \u001b[0malign\u001b[0m\u001b[0;34m=\u001b[0m\u001b[0malign\u001b[0m\u001b[0;34m,\u001b[0m \u001b[0morientation\u001b[0m\u001b[0;34m=\u001b[0m\u001b[0morientation\u001b[0m\u001b[0;34m,\u001b[0m \u001b[0mrwidth\u001b[0m\u001b[0;34m=\u001b[0m\u001b[0mrwidth\u001b[0m\u001b[0;34m,\u001b[0m \u001b[0mlog\u001b[0m\u001b[0;34m=\u001b[0m\u001b[0mlog\u001b[0m\u001b[0;34m,\u001b[0m\u001b[0;34m\u001b[0m\u001b[0;34m\u001b[0m\u001b[0m\n\u001b[1;32m   2635\u001b[0m         \u001b[0mcolor\u001b[0m\u001b[0;34m=\u001b[0m\u001b[0mcolor\u001b[0m\u001b[0;34m,\u001b[0m \u001b[0mlabel\u001b[0m\u001b[0;34m=\u001b[0m\u001b[0mlabel\u001b[0m\u001b[0;34m,\u001b[0m \u001b[0mstacked\u001b[0m\u001b[0;34m=\u001b[0m\u001b[0mstacked\u001b[0m\u001b[0;34m,\u001b[0m \u001b[0mnormed\u001b[0m\u001b[0;34m=\u001b[0m\u001b[0mnormed\u001b[0m\u001b[0;34m,\u001b[0m\u001b[0;34m\u001b[0m\u001b[0;34m\u001b[0m\u001b[0m\n\u001b[0;32m-> 2636\u001b[0;31m         **({\"data\": data} if data is not None else {}), **kwargs)\n\u001b[0m\u001b[1;32m   2637\u001b[0m \u001b[0;34m\u001b[0m\u001b[0m\n\u001b[1;32m   2638\u001b[0m \u001b[0;34m\u001b[0m\u001b[0m\n",
      "\u001b[0;32m~/miniconda3/lib/python3.7/site-packages/matplotlib/__init__.py\u001b[0m in \u001b[0;36minner\u001b[0;34m(ax, data, *args, **kwargs)\u001b[0m\n\u001b[1;32m   1587\u001b[0m     \u001b[0;32mdef\u001b[0m \u001b[0minner\u001b[0m\u001b[0;34m(\u001b[0m\u001b[0max\u001b[0m\u001b[0;34m,\u001b[0m \u001b[0;34m*\u001b[0m\u001b[0margs\u001b[0m\u001b[0;34m,\u001b[0m \u001b[0mdata\u001b[0m\u001b[0;34m=\u001b[0m\u001b[0;32mNone\u001b[0m\u001b[0;34m,\u001b[0m \u001b[0;34m**\u001b[0m\u001b[0mkwargs\u001b[0m\u001b[0;34m)\u001b[0m\u001b[0;34m:\u001b[0m\u001b[0;34m\u001b[0m\u001b[0;34m\u001b[0m\u001b[0m\n\u001b[1;32m   1588\u001b[0m         \u001b[0;32mif\u001b[0m \u001b[0mdata\u001b[0m \u001b[0;32mis\u001b[0m \u001b[0;32mNone\u001b[0m\u001b[0;34m:\u001b[0m\u001b[0;34m\u001b[0m\u001b[0;34m\u001b[0m\u001b[0m\n\u001b[0;32m-> 1589\u001b[0;31m             \u001b[0;32mreturn\u001b[0m \u001b[0mfunc\u001b[0m\u001b[0;34m(\u001b[0m\u001b[0max\u001b[0m\u001b[0;34m,\u001b[0m \u001b[0;34m*\u001b[0m\u001b[0mmap\u001b[0m\u001b[0;34m(\u001b[0m\u001b[0msanitize_sequence\u001b[0m\u001b[0;34m,\u001b[0m \u001b[0margs\u001b[0m\u001b[0;34m)\u001b[0m\u001b[0;34m,\u001b[0m \u001b[0;34m**\u001b[0m\u001b[0mkwargs\u001b[0m\u001b[0;34m)\u001b[0m\u001b[0;34m\u001b[0m\u001b[0;34m\u001b[0m\u001b[0m\n\u001b[0m\u001b[1;32m   1590\u001b[0m \u001b[0;34m\u001b[0m\u001b[0m\n\u001b[1;32m   1591\u001b[0m         \u001b[0mbound\u001b[0m \u001b[0;34m=\u001b[0m \u001b[0mnew_sig\u001b[0m\u001b[0;34m.\u001b[0m\u001b[0mbind\u001b[0m\u001b[0;34m(\u001b[0m\u001b[0max\u001b[0m\u001b[0;34m,\u001b[0m \u001b[0;34m*\u001b[0m\u001b[0margs\u001b[0m\u001b[0;34m,\u001b[0m \u001b[0;34m**\u001b[0m\u001b[0mkwargs\u001b[0m\u001b[0;34m)\u001b[0m\u001b[0;34m\u001b[0m\u001b[0;34m\u001b[0m\u001b[0m\n",
      "\u001b[0;32m~/miniconda3/lib/python3.7/site-packages/matplotlib/axes/_axes.py\u001b[0m in \u001b[0;36mhist\u001b[0;34m(self, x, bins, range, density, weights, cumulative, bottom, histtype, align, orientation, rwidth, log, color, label, stacked, normed, **kwargs)\u001b[0m\n\u001b[1;32m   6736\u001b[0m \u001b[0;34m\u001b[0m\u001b[0m\n\u001b[1;32m   6737\u001b[0m             bins = histogram_bin_edges(np.concatenate(x),\n\u001b[0;32m-> 6738\u001b[0;31m                                        bins, bin_range, _w)\n\u001b[0m\u001b[1;32m   6739\u001b[0m         \u001b[0;32melse\u001b[0m\u001b[0;34m:\u001b[0m\u001b[0;34m\u001b[0m\u001b[0;34m\u001b[0m\u001b[0m\n\u001b[1;32m   6740\u001b[0m             \u001b[0mhist_kwargs\u001b[0m\u001b[0;34m[\u001b[0m\u001b[0;34m'range'\u001b[0m\u001b[0;34m]\u001b[0m \u001b[0;34m=\u001b[0m \u001b[0mbin_range\u001b[0m\u001b[0;34m\u001b[0m\u001b[0;34m\u001b[0m\u001b[0m\n",
      "\u001b[0;32m~/miniconda3/lib/python3.7/site-packages/numpy/lib/histograms.py\u001b[0m in \u001b[0;36mhistogram_bin_edges\u001b[0;34m(a, bins, range, weights)\u001b[0m\n\u001b[1;32m    655\u001b[0m     \"\"\"\n\u001b[1;32m    656\u001b[0m     \u001b[0ma\u001b[0m\u001b[0;34m,\u001b[0m \u001b[0mweights\u001b[0m \u001b[0;34m=\u001b[0m \u001b[0m_ravel_and_check_weights\u001b[0m\u001b[0;34m(\u001b[0m\u001b[0ma\u001b[0m\u001b[0;34m,\u001b[0m \u001b[0mweights\u001b[0m\u001b[0;34m)\u001b[0m\u001b[0;34m\u001b[0m\u001b[0;34m\u001b[0m\u001b[0m\n\u001b[0;32m--> 657\u001b[0;31m     \u001b[0mbin_edges\u001b[0m\u001b[0;34m,\u001b[0m \u001b[0m_\u001b[0m \u001b[0;34m=\u001b[0m \u001b[0m_get_bin_edges\u001b[0m\u001b[0;34m(\u001b[0m\u001b[0ma\u001b[0m\u001b[0;34m,\u001b[0m \u001b[0mbins\u001b[0m\u001b[0;34m,\u001b[0m \u001b[0mrange\u001b[0m\u001b[0;34m,\u001b[0m \u001b[0mweights\u001b[0m\u001b[0;34m)\u001b[0m\u001b[0;34m\u001b[0m\u001b[0;34m\u001b[0m\u001b[0m\n\u001b[0m\u001b[1;32m    658\u001b[0m     \u001b[0;32mreturn\u001b[0m \u001b[0mbin_edges\u001b[0m\u001b[0;34m\u001b[0m\u001b[0;34m\u001b[0m\u001b[0m\n\u001b[1;32m    659\u001b[0m \u001b[0;34m\u001b[0m\u001b[0m\n",
      "\u001b[0;32m~/miniconda3/lib/python3.7/site-packages/numpy/lib/histograms.py\u001b[0m in \u001b[0;36m_get_bin_edges\u001b[0;34m(a, bins, range, weights)\u001b[0m\n\u001b[1;32m    421\u001b[0m         \u001b[0;32mif\u001b[0m \u001b[0mnp\u001b[0m\u001b[0;34m.\u001b[0m\u001b[0many\u001b[0m\u001b[0;34m(\u001b[0m\u001b[0mbin_edges\u001b[0m\u001b[0;34m[\u001b[0m\u001b[0;34m:\u001b[0m\u001b[0;34m-\u001b[0m\u001b[0;36m1\u001b[0m\u001b[0;34m]\u001b[0m \u001b[0;34m>\u001b[0m \u001b[0mbin_edges\u001b[0m\u001b[0;34m[\u001b[0m\u001b[0;36m1\u001b[0m\u001b[0;34m:\u001b[0m\u001b[0;34m]\u001b[0m\u001b[0;34m)\u001b[0m\u001b[0;34m:\u001b[0m\u001b[0;34m\u001b[0m\u001b[0;34m\u001b[0m\u001b[0m\n\u001b[1;32m    422\u001b[0m             raise ValueError(\n\u001b[0;32m--> 423\u001b[0;31m                 '`bins` must increase monotonically, when an array')\n\u001b[0m\u001b[1;32m    424\u001b[0m \u001b[0;34m\u001b[0m\u001b[0m\n\u001b[1;32m    425\u001b[0m     \u001b[0;32melse\u001b[0m\u001b[0;34m:\u001b[0m\u001b[0;34m\u001b[0m\u001b[0;34m\u001b[0m\u001b[0m\n",
      "\u001b[0;31mValueError\u001b[0m: `bins` must increase monotonically, when an array"
     ]
    },
    {
     "data": {
      "image/png": "[encoded data removed]",
      "text/plain": [
       "<Figure size 432x288 with 1 Axes>"
      ]
     },
     "metadata": {
      "needs_background": "light"
     },
     "output_type": "display_data"
    }
   ],
   "source": [
    "\n",
    "def get_list_of_genres(data, value_key):\n",
    "    get_list = []\n",
    "    for entry in data:\n",
    "        line = entry[value_key].split(',')\n",
    "        for word in line:\n",
    "#             print(f'Original is {word}')\n",
    "            z = word.strip('& ')\n",
    "#             print(f'      Stripped is |{z}|')\n",
    "            get_list.append(word.strip('& '))\n",
    "#         line1 = line.split('& ')\n",
    "#         print(line1)\n",
    "#         for word in line:\n",
    "#             get_list.append(word)\n",
    "#     clean_list = list(map(lambda each:each.strip(\"& \"), get_list))\n",
    "#     print(clean_list)\n",
    "    return get_list\n",
    "\n",
    "def plot_hist_values_by_decade(dataset, value_key, xlabel, ylabel, title, convert_to_integer = False):\n",
    "    x = get_list_of_values(dataset, value_key, convert_to_integer)\n",
    "    bins = get_decades(x)\n",
    "    plt.hist(x, bins)\n",
    "    plt.xticks(bins)\n",
    "    plt.xlabel(xlabel)\n",
    "    plt.ylabel(ylabel)\n",
    "    plt.title(title)\n",
    "    plt.show()\n",
    "\n",
    "def plot_genre_hist(dataset, value_key, xlabel, ylabel, title):\n",
    "    x = get_list_of_genres(dataset, value_key)\n",
    "    bins = list(set(x))\n",
    "    print(x)\n",
    "    print(bins)\n",
    "    plt.hist(x, bins)\n",
    "    plt.xticks(bins)\n",
    "    plt.xlabel(xlabel)\n",
    "    plt.ylabel(ylabel)\n",
    "    plt.title(title)\n",
    "    plt.show()\n",
    "    \n",
    "plot_genre_hist(rs_top500, 'genre', 'Genres', 'Albums', 'Top 500 Albums by Genre')\n",
    "\n"
   ]
  },
  {
   "cell_type": "code",
   "execution_count": null,
   "metadata": {},
   "outputs": [],
   "source": []
  },
  {
   "cell_type": "code",
   "execution_count": 87,
   "metadata": {},
   "outputs": [
    {
     "name": "stdout",
     "output_type": "stream",
     "text": [
      "[1950, 1960, 1970, 1980, 1990, 2000, 2010]\n",
      "[1950, 1960, 1970, 1980, 1990, 2000, 2010]\n"
     ]
    },
    {
     "data": {
      "image/png": "[encoded data removed]",
      "text/plain": [
       "<Figure size 432x288 with 1 Axes>"
      ]
     },
     "metadata": {
      "needs_background": "light"
     },
     "output_type": "display_data"
    }
   ],
   "source": [
    "import matplotlib.pyplot as plt \n",
    "import numpy as np\n",
    "\n",
    "def get_list_of_values(data, value_key, convert_to_integer = False):\n",
    "    get_list = []\n",
    "    for entry in data:\n",
    "        if convert_to_integer == True:\n",
    "            get_list.append(int(entry[value_key]))\n",
    "        else: \n",
    "            get_list.append(entry[value_key])\n",
    "    return get_list\n",
    "          \n",
    "def get_decades(list_of_years):\n",
    "    decades = []\n",
    "    for year in list_of_years:\n",
    "        decade = int(np.floor(year / 10)) * 10\n",
    "        decades.append(decade)\n",
    "    return sorted(list(set(decades)))\n",
    "\n",
    "\n",
    "def plot_hist_values_by_decade(dataset, value_key, xlabel, ylabel, title, convert_to_integer = False):\n",
    "    x = get_list_of_values(dataset, value_key, convert_to_integer)\n",
    "    bins = get_decades(x)\n",
    "    print(bins)\n",
    "    print(bins)\n",
    "    plt.hist(x, bins)\n",
    "    plt.xticks(bins)\n",
    "    plt.xlabel(xlabel)\n",
    "    plt.ylabel(ylabel)\n",
    "    plt.title(title)\n",
    "    plt.show()\n",
    "    \n",
    "plot_hist_values_by_decade(rs_top500, 'year', 'Years', 'Albums Released', 'Top 500 Albums Released by decade', convert_to_integer = True)\n",
    "    \n",
    "    \n",
    "# x = get_list_of_values(rs_top500, 'year', convert_to_integer = True)\n",
    "# print(x) \n",
    "\n",
    "# x_sorted = sorted(x)\n",
    "# x_floor = np.floor(x_sorted)\n",
    "# print(x_floor)\n",
    "\n",
    "    \n",
    "# print(get_decades(x))\n",
    "# print ()\n",
    "# x = all_years(rs_top500)\n",
    "# print(x)\n",
    "# bins = [1950, 1960, 1970, 1980, 1990, 2000, 2010]\n",
    "# plt.hist(x, bins)\n",
    "\n",
    "\n",
    "# # plt.xticks(bins)\n",
    "# plt.xlabel('Years')\n",
    "# plt.ylabel('Albums Released')\n",
    "# plt.title('Top 500 Albums Released by decade ')\n",
    "# plt.show()\n",
    "\n",
    "# print(test)\n",
    "\n",
    "\n"
   ]
  },
  {
   "cell_type": "code",
   "execution_count": 38,
   "metadata": {},
   "outputs": [],
   "source": [
    "# x = get_list_of_values(rs_top500, 'year', True)\n",
    "# print(x)"
   ]
  },
  {
   "cell_type": "code",
   "execution_count": 7,
   "metadata": {},
   "outputs": [
    {
     "name": "stdout",
     "output_type": "stream",
     "text": [
      "[56.25117263 66.71340202 70.76517901 ... 62.75499435 68.66363495\n",
      " 63.94909511]\n"
     ]
    }
   ],
   "source": [
    "import matplotlib.pyplot as plt\n",
    "import numpy as np\n",
    "\n",
    "np.random.seed(100)\n",
    "\n",
    "# Generate a data set of 10000 retirement age values\n",
    "x = 5*np.random.randn(10000) + 65\n",
    "print(x)\n",
    "\n",
    "# x should be the number of albums\n",
    "# bins should be the decades"
   ]
  },
  {
   "cell_type": "code",
   "execution_count": null,
   "metadata": {},
   "outputs": [],
   "source": []
  },
  {
   "cell_type": "markdown",
   "metadata": {},
   "source": [
    "### Next Steps"
   ]
  },
  {
   "cell_type": "markdown",
   "metadata": {},
   "source": [
    "Now that we have our functions querying our Album data, let's compare that data with the top 500 songs. We have another file -- a text file! -- that contains the data we need for the top 500 songs. Reading a text file is pretty similar to reading a csv file, however, it tends to need a bit more massaging to get your data formatted the way you want it.\n",
    "\n",
    "```python\n",
    "    # open the text file in read\n",
    "    text_file = open('top-500-songs.txt', 'r')\n",
    "    # read each line of the text file\n",
    "    # here is where you can print out the lines to your terminal and get an idea \n",
    "    # for how you might think about re-formatting the data\n",
    "    lines = text_file.readlines()\n",
    "\n",
    "    print(lines)\n",
    "    # the output will look something like this:\n",
    "['1\\tLike a Rolling Stone\\tBob Dylan\\t1965\\n', '2\\tSatisfaction\\tThe Rolling Stones\\t1965\\n', '3\\tImagine\\tJohn Lennon\\t1971\\n', \"4\\tWhat's Going On\\tMarvin Gaye\\t1971\\n\", '5\\tRespect\\tAretha Franklin\\t1967\\n', '6\\tGood Vibrations\\tThe Beach Boys\\t1966\\n', '7\\tJohnny B. Goode\\tChuck Berry\\t1958\\n', '8\\tHey Jude\\tThe Beatles\\t1968\\n', ...]\n",
    "```\n",
    "\n",
    "It looks like `\\t` is how the text file is separating each element on a line. So, we need a function that can separate a string into a list. Then we can tell this function on what to split our string (i.e. `\\t`). From there we will have a list of lists that are formatted like the following:\n",
    "```python\n",
    "[\"RANK\", \"NAME\", \"ARTIST\", \"YEAR\"]\n",
    "```\n",
    "We need to use our knowledge of iterating to go through each of these elements and turn them into dictionaries with the keys, \"rank\", \"name\", \"artist\", \"year\", pointing to the appropriate values. So, for song number 1, we want it to look like:\n",
    "```python\n",
    "{'rank': 1, 'name': \"Like a Rolling Stone\", 'artist'\"Bob Dylan\": , 'year': 1965}\n",
    "```\n",
    "\n",
    "Once we have a list of songs that are formatted like the above, we can move on to figuring out which songs are from the top albums and which albums and artists have the most 'top songs'."
   ]
  },
  {
   "cell_type": "markdown",
   "metadata": {},
   "source": [
    "### Working with the top 500 songs"
   ]
  },
  {
   "cell_type": "markdown",
   "metadata": {},
   "source": [
    "If we can't already re-use our searching functions (i.e. Find by name, Find by rank, Find by year, Find by years, Find by ranks), all functions (i.e. all titles, all artists), and questions-to-answer functions (i.e. Artists with the most albums (or songs), Most popular word, Histogram by decade, Histogram by genre) with the song data we just formatted, then refactor these functions so that they can be used with either set of data. This is a good practice for ensuring that our code is as reusable and modular as possible, which is important when writing code for any project, especially when it comes time to scale a project. Things are easier to read, and there is less code to worry about (and more importantly there is less code to debug when something goes wrong).\n",
    "\n",
    "Once we have our functions working for both sets of data, we can start writing new functions!\n",
    "\n",
    "Luckily for us, this next dataset is already made for us. We were curious to find out which songs on the top 500 songs overlapped with the top albums and vice versa. So, we created a data set that is a list of dictionaries in JSON format. Each dictionary contains the name of the artist, the album, and the tracks (songs) on that given album. We can use this data to check which songs on the top 500 list are featured on the albums on the top albums list.\n",
    "\n",
    "To load our JSON file we will write:\n",
    "\n",
    "```python\n",
    "import json\n",
    "\n",
    "file = open('track_data.json', 'r')\n",
    "json_data = json.load(file)\n",
    "\n",
    "print(json_data)\n",
    "# output will look like this:\n",
    "[{'artist': 'The Beatles', 'album': \"Sgt. Pepper's Lonely Hearts Club Band\", 'tracks': [\"Sgt. Pepper's Lonely Hearts Club Band - Remix\", 'With A Little Help From My Friends - Remix', 'Lucy In The Sky With Diamonds - Remix', 'Getting Better - Remix', 'Fixing A Hole - Remix', \"She's Leaving Home - Remix\", 'Being For The Benefit Of Mr. Kite! - Remix', 'Within You Without You - Remix', \"When I'm Sixty-Four - Remix\", 'Lovely Rita - Remix', 'Good Morning Good Morning - Remix', \"Sgt. Pepper's Lonely Hearts Club Band (Reprise) - Remix\", 'A Day In The Life - Remix', \"Sgt. Pepper's Lonely Hearts Club Band - Take 9 And Speech\", 'With A Little Help From My Friends - Take 1 / False Start And Take 2 / Instrumental', 'Lucy In The Sky With Diamonds - Take 1', 'Getting Better - Take 1 / Instrumental And Speech At The End', 'Fixing A Hole - Speech And Take 3', \"She's Leaving Home - Take 1 / Instrumental\", 'Being For The Benefit Of Mr. Kite! - Take 4', 'Within You Without You - Take 1 / Indian Instruments', \"When I'm Sixty-Four - Take 2\", 'Lovely Rita - Speech And Take 9', 'Good Morning Good Morning - Take 8', \"Sgt. Pepper's Lonely Hearts Club Band (Reprise) - Speech And Take 8\", 'A Day In The Life - Take 1 With Hums', 'Strawberry Fields Forever - Take 7', 'Strawberry Fields Forever - Take 26', 'Strawberry Fields Forever - Stereo Mix 2015', 'Penny Lane - Take 6 / Instrumental', 'Penny Lane - Stereo Mix 2017']}, {'artist': 'The Beach Boys', 'album': 'Pet Sounds', 'tracks': [\"Wouldn't It Be Nice - Digitally Remastered 96\", 'You Still Believe In Me - Digitally Remastered 96', \"That's Not Me - 1996 Digital Remaster\", \"Don't Talk (Put Your Head On My Shoulder) - 1996 Digital Remaster\", \"I'm Waiting For The Day - Digitally Remastered 96\", \"Let's Go Away For Awhile - Digitally Remastered 96\", 'Sloop John B - 1996 - Remaster', 'God Only Knows - 1997 - Remaster', \"I Know There's An Answer - Digitally Remastered 96\", 'Here Today - Digitally Remastered 96', \"I Just Wasn't Made For These Times - Digitally Remastered 96\", 'Pet Sounds - Digitally Remastered 96', 'Caroline, No - 1996 Digital Remaster', 'Hang On To Your Ego', \"Wouldn't It Be Nice - 2000 - Remaster\", 'You Still Believe In Me - 1996 Digital Remaster', \"That's Not Me - 1996 Digital Remaster\", \"Don't Talk (Put Your Head On My Shoulder) - 1996 Digital Remaster\", \"I'm Waiting For The Day - 1996 Digital Remaster\", \"Let's Go Away For Awhile - 1996 Digital Remaster\", 'Sloop John B - 1996 Digital Remaster', 'God Only Knows - 1996 Digital Remaster', \"I Know There's An Answer - 1996 Digital Remaster\", 'Here Today - 1996 Digital Remaster', \"I Just Wasn't Made For These Times - 1996 Digital Remaster\", 'Pet Sounds - 1996 Digital Remaster', 'Caroline, No - 1996 Digital Remaster']}, {'artist': 'The Beatles', 'album': 'Revolver', 'tracks': ['Taxman - Remastered', 'Eleanor Rigby - Remastered', \"I'm Only Sleeping - Remastered\", 'Love You To - Remastered', 'Here, There And Everywhere - Remastered', 'Yellow Submarine - Remastered', 'She Said She Said - Remastered', 'Good Day Sunshine - Remastered', 'And Your Bird Can Sing - Remastered', 'For No One - Remastered', 'Doctor Robert - Remastered', 'I Want To Tell You - Remastered', 'Got To Get You Into My Life - Remastered', 'Tomorrow Never Knows - Remastered']}, {'artist': 'Bob Dylan', 'album': 'Highway 61 Revisited', 'tracks': ['Like a Rolling Stone', 'Tombstone Blues', 'It Takes a Lot to Laugh, It Takes a Train to Cry', 'From a Buick 6', 'Ballad of a Thin Man', 'Queen Jane Approximately', 'Highway 61 Revisited', \"Just Like Tom Thumb's Blues\", 'Desolation Row']}, ...]\n",
    "```"
   ]
  },
  {
   "cell_type": "markdown",
   "metadata": {},
   "source": [
    "### Define the following functions:\n",
    "\n",
    "**albumWithMostTopSongs** - returns the name of the artist and album that has that most songs featured on the top 500 songs list\n",
    "\n",
    "**albumsWithTopSongs** - returns a list with the name of only the albums that have tracks featured on the list of top 500 songs\n",
    "\n",
    "**songsThatAreOnTopAlbums** - returns a list with the name of only the songs featured on the list of top albums\n",
    "\n",
    "**top10AlbumsByTopSongs** - returns a histogram with the 10 albums that have the most songs that appear in the top songs list. The album names should point to the number of songs that appear on the top 500 songs list.\n",
    "\n",
    "**topOverallArtist** - Artist featured with the most songs and albums on the two lists. This means that if Brittany Spears had 3 of her albums featured on the top albums listed and 10 of her songs featured on the top songs, she would have a total of 13. The artist with the highest aggregate score would be the top overall artist."
   ]
  }
 ],
 "metadata": {
  "kernelspec": {
   "display_name": "Python 3",
   "language": "python",
   "name": "python3"
  },
  "language_info": {
   "codemirror_mode": {
    "name": "ipython",
    "version": 3
   },
   "file_extension": ".py",
   "mimetype": "text/x-python",
   "name": "python",
   "nbconvert_exporter": "python",
   "pygments_lexer": "ipython3",
   "version": "3.7.3"
  }
 },
 "nbformat": 4,
 "nbformat_minor": 2
}
