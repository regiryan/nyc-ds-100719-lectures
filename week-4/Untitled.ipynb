{
 "cells": [
  {
   "cell_type": "code",
   "execution_count": 1,
   "metadata": {},
   "outputs": [],
   "source": [
    "import requests\n",
    "from bs4 import BeautifulSoup\n",
    "import locale\n",
    "locale.setlocale( locale.LC_ALL, 'en_US.UTF-8' )\n",
    "\n",
    "# Function to pull for specified range of years, returns a list of pages, each page represents a list of rows from table of movies for that year\n",
    "def get_all_year_tables(begin_year, end_year):\n",
    "    list_of_years = list(range(begin_year, end_year+1))\n",
    "    all_year_tables = []\n",
    "    # loop to iterate through years\n",
    "    for year in range(begin_year, end_year+1):\n",
    "        link = f'https://www.boxofficemojo.com/year/world/{year}/?ref_=bo_nb_di_tab'\n",
    "        # get the raw data from linked webpage\n",
    "        year_page = requests.get(link)\n",
    "        # parse the webpage with beautiful soup\n",
    "        year_soup = BeautifulSoup(year_page.content, 'html.parser')\n",
    "        # isolate the table that contains the list of movies\n",
    "        year_table = year_soup.find('div', attrs={'class': 'a-section imdb-scroll-table-inner'})\n",
    "        # select all rows from the table of movies\n",
    "        year_table_data = year_table.find_all('tr')\n",
    "        # Remove title row\n",
    "        year_table_data.remove(year_table_data[0])\n",
    "        all_year_tables.append(year_table_data)\n",
    "    print(f'This is a list with {len(range(begin_year, end_year+1))} webpages')\n",
    "    return list_of_years, all_year_tables\n",
    "\n"
   ]
  },
  {
   "cell_type": "code",
   "execution_count": 2,
   "metadata": {},
   "outputs": [
    {
     "name": "stdout",
     "output_type": "stream",
     "text": [
      "This is a list with 2 webpages\n"
     ]
    },
    {
     "data": {
      "text/plain": [
       "list"
      ]
     },
     "execution_count": 2,
     "metadata": {},
     "output_type": "execute_result"
    }
   ],
   "source": [
    "# Call the function to get all tables\n",
    "list_of_years, all_years_table = get_all_year_tables(2017,2018)\n"
   ]
  },
  {
   "cell_type": "code",
   "execution_count": 3,
   "metadata": {},
   "outputs": [
    {
     "name": "stdout",
     "output_type": "stream",
     "text": [
      "<class 'list'>\n",
      "<class 'list'>\n"
     ]
    }
   ],
   "source": [
    "print(type(all_years_table))\n",
    "print(type(list_of_years))"
   ]
  },
  {
   "cell_type": "code",
   "execution_count": null,
   "metadata": {},
   "outputs": [],
   "source": []
  }
 ],
 "metadata": {
  "kernelspec": {
   "display_name": "Python 3",
   "language": "python",
   "name": "python3"
  },
  "language_info": {
   "codemirror_mode": {
    "name": "ipython",
    "version": 3
   },
   "file_extension": ".py",
   "mimetype": "text/x-python",
   "name": "python",
   "nbconvert_exporter": "python",
   "pygments_lexer": "ipython3",
   "version": "3.7.3"
  }
 },
 "nbformat": 4,
 "nbformat_minor": 2
}
