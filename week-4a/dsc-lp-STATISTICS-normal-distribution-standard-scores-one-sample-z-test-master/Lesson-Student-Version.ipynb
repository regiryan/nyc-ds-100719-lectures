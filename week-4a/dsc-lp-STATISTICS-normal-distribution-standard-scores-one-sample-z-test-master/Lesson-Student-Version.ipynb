{
 "cells": [
  {
   "cell_type": "markdown",
   "metadata": {
    "slideshow": {
     "slide_type": "slide"
    }
   },
   "source": [
    "# The Normal Distribution, Standard Normal Distribution, Standard Scores, and One-Sample z-tests"
   ]
  },
  {
   "cell_type": "markdown",
   "metadata": {
    "slideshow": {
     "slide_type": "slide"
    }
   },
   "source": [
    "# Normal distribution \n",
    "\n",
    "\n",
    "## What are the parameters that characterize the normal distribution?"
   ]
  },
  {
   "cell_type": "code",
   "execution_count": null,
   "metadata": {},
   "outputs": [],
   "source": []
  },
  {
   "cell_type": "markdown",
   "metadata": {
    "slideshow": {
     "slide_type": "slide"
    }
   },
   "source": [
    "## What is the empirical rule? "
   ]
  },
  {
   "cell_type": "markdown",
   "metadata": {
    "slideshow": {
     "slide_type": "slide"
    }
   },
   "source": [
    "## Next, let's create a normal distribution with `numpy` and visualize it"
   ]
  },
  {
   "cell_type": "markdown",
   "metadata": {
    "slideshow": {
     "slide_type": "slide"
    }
   },
   "source": [
    "Use `numpy` to create a normal distribution containing 3000 values with mean $\\mu = 20$ and standard deviation $\\sigma = 0.5$"
   ]
  },
  {
   "cell_type": "code",
   "execution_count": 5,
   "metadata": {},
   "outputs": [],
   "source": [
    "import numpy as np\n",
    "\n",
    "mu, sigma = 20, 0.5\n",
    "n =1000\n",
    "\n",
    "s =np.random.normal(mu, sigma, n)"
   ]
  },
  {
   "cell_type": "markdown",
   "metadata": {
    "slideshow": {
     "slide_type": "slide"
    }
   },
   "source": [
    "Create a normalized histogram for this distribution using `matplotlib`. Set bins = 20. Make sure to get the bin positions and counts for each of the obtained bins."
   ]
  },
  {
   "cell_type": "code",
   "execution_count": 6,
   "metadata": {},
   "outputs": [
    {
     "name": "stderr",
     "output_type": "stream",
     "text": [
      "/Users/regi/miniconda3/lib/python3.7/site-packages/ipykernel_launcher.py:4: MatplotlibDeprecationWarning: \n",
      "The 'normed' kwarg was deprecated in Matplotlib 2.1 and will be removed in 3.1. Use 'density' instead.\n",
      "  after removing the cwd from sys.path.\n"
     ]
    },
    {
     "ename": "ValueError",
     "evalue": "too many values to unpack (expected 2)",
     "output_type": "error",
     "traceback": [
      "\u001b[0;31m---------------------------------------------------------------------------\u001b[0m",
      "\u001b[0;31mValueError\u001b[0m                                Traceback (most recent call last)",
      "\u001b[0;32m<ipython-input-6-d6aa4f9cc01c>\u001b[0m in \u001b[0;36m<module>\u001b[0;34m\u001b[0m\n\u001b[1;32m      2\u001b[0m \u001b[0mget_ipython\u001b[0m\u001b[0;34m(\u001b[0m\u001b[0;34m)\u001b[0m\u001b[0;34m.\u001b[0m\u001b[0mrun_line_magic\u001b[0m\u001b[0;34m(\u001b[0m\u001b[0;34m'matplotlib'\u001b[0m\u001b[0;34m,\u001b[0m \u001b[0;34m'inline'\u001b[0m\u001b[0;34m)\u001b[0m\u001b[0;34m\u001b[0m\u001b[0;34m\u001b[0m\u001b[0m\n\u001b[1;32m      3\u001b[0m \u001b[0;34m\u001b[0m\u001b[0m\n\u001b[0;32m----> 4\u001b[0;31m \u001b[0mn\u001b[0m\u001b[0;34m,\u001b[0m \u001b[0mbins\u001b[0m \u001b[0;34m=\u001b[0m \u001b[0mplt\u001b[0m\u001b[0;34m.\u001b[0m\u001b[0mhist\u001b[0m\u001b[0;34m(\u001b[0m\u001b[0ms\u001b[0m\u001b[0;34m,\u001b[0m \u001b[0mbins\u001b[0m\u001b[0;34m=\u001b[0m\u001b[0;36m20\u001b[0m\u001b[0;34m,\u001b[0m \u001b[0mnormed\u001b[0m\u001b[0;34m=\u001b[0m\u001b[0;32mTrue\u001b[0m\u001b[0;34m)\u001b[0m\u001b[0;34m\u001b[0m\u001b[0;34m\u001b[0m\u001b[0m\n\u001b[0m\u001b[1;32m      5\u001b[0m \u001b[0;34m\u001b[0m\u001b[0m\n",
      "\u001b[0;31mValueError\u001b[0m: too many values to unpack (expected 2)"
     ]
    },
    {
     "data": {
      "image/png": "[encoded data removed]",
      "text/plain": [
       "<Figure size 432x288 with 1 Axes>"
      ]
     },
     "metadata": {
      "needs_background": "light"
     },
     "output_type": "display_data"
    }
   ],
   "source": [
    "import matplotlib.pyplot as plt\n",
    "%matplotlib inline\n",
    "\n",
    "n, bins = plt.hist(s, bins=20, )\n",
    "\n"
   ]
  },
  {
   "cell_type": "markdown",
   "metadata": {
    "slideshow": {
     "slide_type": "slide"
    }
   },
   "source": [
    "Calculate the density function with $\\mu$, $\\sigma$, and the bin information obtained before."
   ]
  },
  {
   "cell_type": "markdown",
   "metadata": {
    "slideshow": {
     "slide_type": "slide"
    }
   },
   "source": [
    "Plot the normalized histogram (set bins = 20) along with the density function"
   ]
  },
  {
   "cell_type": "markdown",
   "metadata": {
    "slideshow": {
     "slide_type": "slide"
    }
   },
   "source": [
    "Use seaborn to visualize the distribution and plot the KDE"
   ]
  },
  {
   "cell_type": "code",
   "execution_count": 7,
   "metadata": {},
   "outputs": [
    {
     "data": {
      "text/plain": [
       "<matplotlib.axes._subplots.AxesSubplot at 0x1a1a091da0>"
      ]
     },
     "execution_count": 7,
     "metadata": {},
     "output_type": "execute_result"
    },
    {
     "data": {
      "image/png": "[encoded data removed]",
      "text/plain": [
       "<Figure size 432x288 with 1 Axes>"
      ]
     },
     "metadata": {
      "needs_background": "light"
     },
     "output_type": "display_data"
    }
   ],
   "source": [
    "import seaborn as sns\n",
    "\n",
    "sns.kdeplot(s)"
   ]
  },
  {
   "cell_type": "markdown",
   "metadata": {
    "slideshow": {
     "slide_type": "slide"
    }
   },
   "source": [
    "# Standard normal distributions \n",
    "\n",
    "## Compare and contrast the normal distribution and the standard normal distribution. What is the empirical rule for the standard normal distribution? "
   ]
  },
  {
   "cell_type": "markdown",
   "metadata": {
    "slideshow": {
     "slide_type": "slide"
    }
   },
   "source": [
    "## How do you standardize a normal distribution? "
   ]
  },
  {
   "cell_type": "markdown",
   "metadata": {
    "slideshow": {
     "slide_type": "slide"
    }
   },
   "source": [
    "## Standardize the distribution you created above and use seaborn to visualize the distribution and plot the KDE"
   ]
  },
  {
   "cell_type": "code",
   "execution_count": 9,
   "metadata": {},
   "outputs": [
    {
     "data": {
      "text/plain": [
       "array([ 3.36655573e-01,  1.68464628e-02,  5.48992529e-01, -3.71060350e-01,\n",
       "        9.64823734e-02, -7.05294705e-03,  1.19239105e-01,  3.26161421e-01,\n",
       "       -7.52425894e-01, -3.89118491e-01,  5.85304718e-01, -7.64829608e-02,\n",
       "        8.11515820e-01, -1.87068223e-01, -3.76635239e-01, -2.43042911e-01,\n",
       "        2.54683453e-01, -2.76017850e-01, -1.19415467e-02,  2.45452186e-01,\n",
       "       -4.38617383e-02, -5.81046284e-01,  1.30955724e+00, -7.97250762e-01,\n",
       "        1.11850812e+00,  5.54512536e-01, -2.63657279e-01, -4.11724354e-01,\n",
       "       -9.21716017e-02,  2.15784017e-01,  6.56911034e-02, -1.15078591e-01,\n",
       "       -5.90409032e-01,  1.82385185e+00,  7.56183604e-01, -2.92751762e-01,\n",
       "        6.96946367e-02, -4.07942792e-01, -1.10935593e-01,  7.87982602e-01,\n",
       "       -2.04928903e-01, -1.53874929e-01,  3.40482843e-01, -1.37722243e-01,\n",
       "        5.08864837e-02, -4.80169936e-01,  3.68230376e-01,  7.09056805e-02,\n",
       "        2.79319315e-01,  4.99982440e-01,  8.82308539e-01,  1.25279286e+00,\n",
       "        5.09625943e-01,  1.24576094e-01, -5.38689012e-01, -5.67521160e-01,\n",
       "       -8.20844883e-01, -7.61985247e-02,  3.00373023e-01, -1.73920202e-01,\n",
       "        1.12194566e+00, -2.55448515e-02, -2.36355463e-01,  3.63676100e-01,\n",
       "       -1.01932751e-01, -3.59329268e-01, -3.11317777e-02,  3.63001523e-01,\n",
       "        1.38371189e-01, -8.12437495e-02, -6.44449778e-02,  7.19066359e-01,\n",
       "        8.58547443e-02,  3.89812888e-01,  2.61350907e-01,  1.80573250e+00,\n",
       "       -6.30960890e-01,  1.95555335e-01,  1.98571061e-01,  4.40874818e-01,\n",
       "       -4.75279469e-01, -4.17091109e-01,  2.05896373e-01,  8.52077040e-01,\n",
       "       -2.34955989e-02, -4.02729647e-01,  3.42887613e-01,  9.80659160e-01,\n",
       "       -1.08312992e-01,  1.12908689e-01,  7.55769513e-02, -9.72232193e-02,\n",
       "       -3.63266242e-02, -8.82815088e-01,  3.96807951e-01, -1.20288694e-01,\n",
       "        2.93815957e-01, -4.48259159e-01,  3.49831606e-02,  2.38975546e-01,\n",
       "        5.32002969e-01, -7.88658898e-01, -2.91593656e-01, -5.91453590e-01,\n",
       "       -4.30311040e-02,  9.17397240e-01,  4.26414141e-01,  3.00533849e-01,\n",
       "       -4.56198906e-02,  5.54797565e-02,  6.31783986e-01,  6.48359280e-01,\n",
       "       -3.48543384e-01,  9.24904607e-01, -4.46442063e-01,  4.36333404e-01,\n",
       "        2.66561320e-01, -3.62606392e-01, -5.46515604e-01,  4.15510179e-01,\n",
       "        5.33525181e-01,  7.19092751e-01, -2.99119804e-01, -5.46367900e-02,\n",
       "       -1.96479304e-01, -7.23437414e-01,  4.54191910e-01,  2.13496656e-01,\n",
       "        1.17625866e-01,  5.46339746e-01, -1.72273457e-01, -8.07967010e-01,\n",
       "       -5.90722542e-01,  3.41680136e-01, -7.74338818e-01, -8.05745165e-01,\n",
       "        2.04116846e-02,  3.42585910e-01, -3.33076530e-01, -4.38122253e-01,\n",
       "        5.16985748e-01, -4.76839280e-01, -7.76986367e-01,  6.34695121e-01,\n",
       "        4.31081152e-01,  5.08136797e-01, -1.49541343e+00, -5.70226605e-01,\n",
       "        2.38079585e-01,  3.71151454e-01, -7.30306533e-01, -8.36867306e-01,\n",
       "        1.97901538e-01,  8.86458477e-01, -7.80181768e-02,  7.91865247e-01,\n",
       "        3.21671298e-01,  7.20608109e-02, -9.54113435e-01,  2.79357939e-01,\n",
       "        5.85927488e-01,  2.96188058e-01, -2.79208593e-01, -9.25401209e-02,\n",
       "       -1.17397988e+00, -8.36268239e-02,  5.59824842e-01, -3.99316501e-01,\n",
       "       -2.15453463e-01, -6.16497391e-01, -2.79075486e-02,  6.58332965e-01,\n",
       "        4.35487962e-01, -1.13011055e-01,  2.48613993e-01, -1.77799405e-02,\n",
       "       -1.55480856e-01, -1.23117022e-01, -1.65125342e-01,  7.34969230e-02,\n",
       "        2.77856474e-01, -2.99806881e-01,  4.21854922e-01,  1.51962606e-01,\n",
       "       -4.95275408e-01, -1.15756014e-02, -1.77340577e-01, -2.60540352e-02,\n",
       "        2.85120582e-01,  5.43762349e-01, -7.87371278e-01, -1.01642682e-01,\n",
       "       -2.61631161e-02,  1.81861955e-01, -2.46848820e-01,  1.87043811e-01,\n",
       "       -3.79270178e-01, -3.09193224e-01,  2.89556928e-01, -1.00746542e+00,\n",
       "        1.28945698e-01, -2.21689220e-01, -4.50667064e-01, -1.88084375e-01,\n",
       "        1.20357853e-01,  1.35490825e-02, -1.26331380e-01,  1.50291694e-01,\n",
       "       -6.30612800e-01, -7.74436257e-01,  1.69769441e-01,  5.48227631e-01,\n",
       "        4.17974030e-02, -2.79529702e-02, -4.06393124e-01,  3.31529133e-01,\n",
       "        6.18721956e-01,  8.72213156e-01,  2.11187491e-01, -3.00077979e-01,\n",
       "        6.84308849e-01, -8.49252101e-01,  6.58140374e-01,  2.45855190e-01,\n",
       "       -8.03276572e-02, -1.89644969e-01, -1.25070663e-01,  8.38287262e-01,\n",
       "        1.10252761e+00,  3.05583622e-01,  9.36833713e-01,  2.69581077e-01,\n",
       "        5.39087578e-01, -2.02330549e-01,  6.56219606e-01, -6.08151625e-01,\n",
       "        3.19136812e-02,  4.92160072e-02,  1.20748594e+00,  4.97095821e-01,\n",
       "       -5.79170153e-01, -1.46359166e-02, -2.77915695e-01,  1.33617743e-01,\n",
       "       -3.35609559e-01,  1.69258517e-01,  5.50760701e-01,  1.24852423e-01,\n",
       "        3.59572997e-01,  5.33439158e-01,  2.98890073e-01, -7.84952478e-02,\n",
       "       -8.78603892e-02,  2.14836081e-01,  2.23960561e-02,  5.57648761e-01,\n",
       "       -3.82821942e-02, -1.02024515e-01,  9.93830282e-01, -2.16207168e-01,\n",
       "        1.04392889e+00, -6.47776344e-01, -4.09082189e-01,  2.34058667e-01,\n",
       "        9.70483171e-02, -3.43397513e-01, -7.78440641e-01,  7.22428759e-01,\n",
       "       -7.20093736e-02,  8.39848000e-01,  1.83092118e-01, -1.61868589e-01,\n",
       "       -4.54575277e-01,  7.61736293e-02,  1.35163546e-01, -9.71272111e-01,\n",
       "        9.47459629e-01,  3.31899282e-01,  3.46441307e-01, -4.38190487e-01,\n",
       "       -1.61563720e-01, -3.38377636e-01,  3.76572706e-01,  4.92554405e-01,\n",
       "        6.30937605e-01,  2.83463147e-01, -5.28947336e-01, -1.04266707e+00,\n",
       "       -1.05457620e+00, -4.29500430e-04, -3.14499631e-01, -1.17009056e+00,\n",
       "        2.53460138e-01,  4.63505430e-01,  4.44237948e-01, -6.29585560e-01,\n",
       "       -2.97764393e-01,  3.28216718e-01,  1.15090800e-01, -7.88508728e-01,\n",
       "       -2.94008612e-01,  1.27576678e-01, -1.99987071e-01,  2.07081349e-01,\n",
       "       -3.88912657e-01,  3.35933951e-01,  5.04850145e-01, -1.75854519e-01,\n",
       "        1.37688631e-01,  4.47633873e-01,  6.46396497e-03,  1.12274894e-01,\n",
       "       -6.45383018e-01,  7.70684674e-01,  6.55808084e-02, -3.66429188e-01,\n",
       "       -3.72538309e-01, -1.22497311e-01,  7.33740446e-01, -2.02286914e-02,\n",
       "       -7.64544091e-01,  3.57457785e-02,  8.30871600e-01, -5.80182875e-01,\n",
       "        4.11210509e-01,  3.61351311e-01,  3.17202704e-01, -6.04388415e-01,\n",
       "        3.43816018e-01,  6.79370295e-01, -3.03700151e-01, -1.61649427e-02,\n",
       "       -3.14348035e-01,  1.11445772e-01, -2.44603263e-01, -6.92794830e-01,\n",
       "       -9.61935368e-01, -3.37571261e-01,  5.02376398e-01, -8.98601681e-01,\n",
       "       -3.17308553e-01,  4.33558834e-01,  4.52473207e-02,  3.64847679e-02,\n",
       "        4.69610691e-01,  2.28858188e-01, -1.08722531e-01, -7.25654762e-01,\n",
       "       -1.24260779e-02,  8.88385341e-01,  1.75809592e-01, -5.72373578e-01,\n",
       "        7.55748847e-01,  9.21839291e-01, -6.06339301e-01, -1.24315164e-01,\n",
       "       -1.10200813e-01, -1.30304483e-01,  4.81771983e-02,  4.90805380e-01,\n",
       "       -1.02276571e-01, -1.82453664e-01,  9.88077226e-01, -1.29319330e+00,\n",
       "        4.91996402e-01, -6.52978353e-01, -4.16450805e-01,  4.97858939e-02,\n",
       "        1.02158458e+00,  5.92166980e-01,  1.58608270e-01,  1.39897888e-01,\n",
       "        2.92222789e-01,  5.42994354e-01,  4.24800751e-01,  6.40016200e-01,\n",
       "        1.98856011e-01,  1.51262007e-01,  3.54640291e-01, -2.06199291e-01,\n",
       "        7.88004913e-02,  1.74575721e-01,  2.17134458e-01, -5.23143065e-01,\n",
       "       -4.67166547e-01, -5.60692411e-01, -3.42293506e-01, -3.19715673e-01,\n",
       "       -3.54511475e-01, -1.26030040e+00, -6.76893163e-02, -3.17672162e-01,\n",
       "       -6.50942577e-02,  6.19429820e-01,  1.86162043e-01,  2.27331581e-02,\n",
       "       -4.22088211e-01, -2.38451462e-03,  6.38041609e-02,  1.84613462e-01,\n",
       "        3.49256577e-01, -5.78185785e-01, -4.22873217e-01, -6.01248070e-01,\n",
       "       -3.38139828e-01, -6.54159977e-01, -1.00465547e+00,  4.22557903e-01,\n",
       "        3.82865791e-01, -2.75484737e-01,  2.20777773e-01, -2.57551367e-01,\n",
       "       -4.46881575e-01,  6.77271170e-01,  1.22457095e+00, -9.25065855e-01,\n",
       "        1.03710094e+00,  5.05646157e-01, -7.51471865e-01,  2.02394462e-01,\n",
       "        9.82019854e-01,  4.61745365e-01,  2.54895683e-01, -2.95092597e-01,\n",
       "       -1.20574059e-01, -1.31813595e-01,  4.62218883e-01,  8.45725154e-01,\n",
       "        7.11607161e-01, -7.70186175e-01, -3.06959290e-01,  6.38535480e-01,\n",
       "        3.05109136e-01,  7.87602160e-03,  3.60919091e-01,  8.15978783e-02,\n",
       "       -6.90449355e-01, -3.40016211e-01,  3.47514483e-02, -2.24161448e-02,\n",
       "        2.06543240e-01,  6.79128472e-01,  1.30047010e-01,  2.02209487e-01,\n",
       "       -2.10034176e-01, -1.47243455e-01, -5.59626144e-01, -5.23925025e-01,\n",
       "       -4.62627336e-02,  5.79899398e-01,  1.19010070e-02, -1.32915441e-01,\n",
       "       -3.14538166e-01, -1.12059135e-01,  5.19393450e-01, -3.30412602e-01,\n",
       "        3.55851728e-01, -2.29707440e-01, -4.27169189e-01,  1.87869913e-02,\n",
       "       -9.52638649e-02,  6.54083755e-01,  1.68453154e-01, -5.91193952e-01,\n",
       "       -3.15792975e-01, -2.96478482e-01,  9.66815781e-01, -1.52109620e-01,\n",
       "        3.05383463e-02,  2.59219290e-02, -1.77151123e-02, -6.60252885e-02,\n",
       "        3.04963901e-01,  7.50299682e-01,  5.36055163e-01,  9.32350244e-01,\n",
       "        6.83323957e-01, -1.57760331e-01,  4.84925361e-01, -9.47732405e-01,\n",
       "       -5.30604368e-01,  1.16819949e-01,  8.12394644e-01,  4.46266690e-01,\n",
       "        1.05861150e-01, -5.83108515e-01, -9.12841231e-02,  1.70734779e-01,\n",
       "        1.39431289e-01,  3.02182127e-01,  7.01209515e-01, -2.42976358e-01,\n",
       "        8.95841823e-01,  7.88557219e-01,  2.61956418e-01, -1.58506180e-01,\n",
       "        6.04698915e-01,  1.06185788e+00,  4.34676307e-01, -6.06732067e-01,\n",
       "        2.82174045e-01,  2.01173500e-01,  6.64087017e-03,  1.18547766e-01,\n",
       "        3.38757673e-01, -1.45938656e+00, -4.53734698e-01, -4.19903785e-01,\n",
       "       -3.13010578e-01,  3.49603721e-01,  7.54838301e-01, -2.63238447e-01,\n",
       "        1.45488681e-01, -4.24827417e-01,  5.07967575e-01, -4.30208779e-01,\n",
       "       -4.54301068e-01, -7.34689021e-02, -8.55407936e-01,  2.40646536e-01,\n",
       "       -2.34401191e-01, -5.79249874e-01,  1.14741057e-01, -1.36415652e-01,\n",
       "       -8.30285631e-02, -9.82590431e-01, -1.98931955e-01,  3.71623062e-01,\n",
       "       -3.01951092e-01, -1.74624498e-01, -3.25275804e-02,  6.32262424e-01,\n",
       "        4.37462867e-01, -7.75107180e-02, -2.72639267e-03, -3.97121636e-01,\n",
       "       -2.71231565e-01, -2.63337734e-01,  7.18779857e-01,  5.16826977e-01,\n",
       "       -5.90749742e-01, -3.56029947e-01, -4.90408360e-01,  9.85156937e-01,\n",
       "        3.07451926e-01, -3.41200392e-01, -8.44326430e-02, -4.37748523e-01,\n",
       "        6.53454957e-01, -7.58574075e-02, -4.70422722e-01, -6.28703164e-02,\n",
       "        5.30205171e-01, -5.00909612e-01, -2.28844757e-01, -2.47897787e-01,\n",
       "       -5.52179929e-01, -6.52932229e-02, -1.09592340e-01,  1.40253790e-01,\n",
       "       -6.28327551e-01,  6.67311607e-01,  2.66002044e-01, -2.91135712e-01,\n",
       "       -4.77018873e-01, -2.35531143e-01,  1.98949441e-01, -3.02148164e-01,\n",
       "       -5.41861080e-01, -7.17897462e-01, -2.29556561e-01, -1.19710528e+00,\n",
       "       -3.81209370e-01, -2.71039050e-01, -1.97217313e-01, -1.26716252e-02,\n",
       "       -1.14254603e-01, -7.44076022e-01, -4.82589444e-01, -8.40147916e-01,\n",
       "        1.76430575e-02, -4.63048538e-01, -7.47569052e-01,  2.28631453e-01,\n",
       "        1.40134638e-01, -2.03875145e-01, -9.63804236e-02,  5.25608627e-01,\n",
       "        9.61369166e-01,  1.35388915e-01,  2.82318260e-02, -7.51164043e-01,\n",
       "       -2.62913156e-01,  2.46907632e-01,  2.70750085e-01, -3.14820942e-02,\n",
       "        7.21306249e-01,  1.80188237e-01, -7.43643699e-01,  5.30004084e-01,\n",
       "       -5.93094935e-02,  1.12333046e-01,  7.52691240e-02,  4.62199295e-01,\n",
       "        1.67966277e-01,  2.43592740e-02,  1.35837346e+00,  9.62092303e-01,\n",
       "        4.62238126e-01, -1.15538806e+00, -5.85310584e-01,  6.04117504e-02,\n",
       "        3.26116553e-01, -6.70036384e-01, -7.97454787e-01,  3.37393189e-02,\n",
       "       -3.71107338e-01, -4.13976177e-01, -1.51821405e-01,  5.58842864e-01,\n",
       "       -1.30667761e-01, -6.26847052e-01, -8.55020399e-02, -3.91888457e-02,\n",
       "        1.45134708e-01, -2.84624390e-01,  2.52590777e-01, -2.13269110e-01,\n",
       "        1.13501697e-03,  5.14267107e-01, -1.13390130e-01,  3.70645983e-01,\n",
       "        1.47285444e-01,  1.31076377e-01, -5.13078229e-01, -4.83826954e-01,\n",
       "        9.06285502e-02,  3.69997578e-02,  2.61049533e-01,  5.02046212e-01,\n",
       "       -7.85038229e-01,  6.23734007e-01,  4.30852871e-01,  9.17931575e-02,\n",
       "        1.14096801e+00, -4.99714595e-01, -1.47071332e-01, -6.31002758e-01,\n",
       "        5.63102953e-01, -4.14346890e-01, -4.57934435e-01,  3.79111153e-01,\n",
       "       -9.64500825e-02, -2.41085994e-02,  5.05141563e-01,  3.49868489e-01,\n",
       "       -3.91297007e-02, -1.51340435e-01,  5.57095450e-01, -1.84738224e-01,\n",
       "        4.19217947e-01, -2.46532815e-01, -4.85768680e-01, -3.99850412e-01,\n",
       "       -4.37963484e-01, -3.32940513e-01, -5.40323234e-02, -1.19399853e-01,\n",
       "       -4.77294704e-01,  1.64724312e-01,  2.54337354e-01,  2.74668064e-01,\n",
       "        3.83516869e-01,  6.58539942e-01,  1.16455403e+00,  1.33362218e-01,\n",
       "        3.07391708e-01,  3.05009591e-01,  6.41345469e-01,  2.50922768e-01,\n",
       "       -6.84488434e-02,  2.47457420e-02, -1.69156453e-01,  1.18589530e+00,\n",
       "        8.01351155e-03,  8.67245226e-02, -3.10377644e-01,  1.88922137e-01,\n",
       "       -2.20130706e-02, -6.71761877e-01,  6.58191966e-01,  7.26119812e-03,\n",
       "       -6.23697223e-01,  1.07716756e-01, -4.59813774e-02,  2.25822264e-02,\n",
       "       -1.82616001e-01,  2.32221783e-01,  1.92160836e-01, -6.54782422e-01,\n",
       "       -2.24349056e-01,  1.16406665e-01, -2.04797715e-02, -8.90265838e-01,\n",
       "       -7.09211174e-04,  2.94674468e-01,  1.04028407e-01,  6.14760385e-01,\n",
       "        8.72644127e-02,  5.66773583e-01, -8.85505462e-01, -1.15495997e-01,\n",
       "        4.05439533e-01,  2.12048080e-01, -6.28895461e-01, -5.57907431e-01,\n",
       "       -1.16705767e+00,  1.95847733e-01,  5.96280495e-01,  8.86755677e-01,\n",
       "        7.49540132e-01,  5.41963618e-01, -6.48927148e-01, -4.22698361e-01,\n",
       "       -7.90547307e-01, -2.05502347e-01,  2.76268629e-01, -1.12609766e+00,\n",
       "        2.06524209e-01,  1.80956915e-01, -9.01728089e-01,  1.19790665e-01,\n",
       "        2.15922492e-02,  5.59312239e-01,  3.71345673e-02, -6.20441947e-01,\n",
       "       -4.43938090e-01,  2.82645323e-01, -3.76336599e-01,  3.62055896e-01,\n",
       "       -3.73760936e-01,  1.91675253e-01,  4.83428952e-01, -1.93667694e-01,\n",
       "        1.50675742e-03, -7.97302659e-01, -2.26591114e-01,  2.90013138e-01,\n",
       "       -1.07603813e+00, -9.42735262e-01,  2.38784061e-01, -2.21939368e-01,\n",
       "       -1.85233164e-01,  3.19359133e-01, -1.50770280e-02,  5.72563435e-01,\n",
       "       -2.60060461e-01,  3.22069197e-01,  5.60894031e-01, -1.15649186e+00,\n",
       "        1.08609084e+00, -1.11224859e-02,  3.74055145e-01,  7.76264231e-01,\n",
       "       -3.37828350e-01,  9.03520133e-02, -5.63643469e-01,  6.79704089e-01,\n",
       "       -9.01639690e-01,  2.67819519e-02,  6.43813618e-01, -1.64277431e-01,\n",
       "       -4.92011563e-01,  5.92891443e-02,  4.40934185e-02,  8.45418308e-01,\n",
       "        4.66932978e-01, -8.05291626e-02, -7.64554140e-01, -2.57326735e-01,\n",
       "       -3.48899394e-01, -1.80310842e-01, -8.53924063e-01,  2.01866377e-01,\n",
       "        1.20916207e-01,  1.57887352e-01, -1.04839341e-01, -1.16347224e+00,\n",
       "        1.59704989e-01,  2.06232864e-01,  4.58887903e-01, -1.26059389e+00,\n",
       "       -7.21145287e-01, -8.68300788e-01, -2.85570936e-01, -2.52232777e-01,\n",
       "        1.92164974e-01, -4.41711558e-01, -7.97120098e-01, -2.12707596e-01,\n",
       "        4.51219338e-01,  2.90693858e-01,  2.48063711e-01,  1.77906122e-01,\n",
       "        3.73785655e-01,  7.08638263e-01,  9.18792528e-02,  9.27551501e-02,\n",
       "       -2.38635501e-01,  8.18749825e-01,  4.79965689e-01, -3.14930732e-01,\n",
       "       -1.49064621e-01, -1.67520432e-01, -8.37855971e-01, -4.84404824e-01,\n",
       "       -9.41369863e-02,  7.77944032e-02,  4.88803152e-01,  5.89109505e-01,\n",
       "        4.31343110e-01, -2.81728401e-01,  4.09025489e-02,  3.91309609e-02,\n",
       "        5.24245575e-01, -2.09101768e-01, -4.27316748e-01, -8.43532895e-01,\n",
       "        7.49141105e-02,  5.38584332e-01, -1.21467527e+00,  8.74390432e-01,\n",
       "       -1.26989759e+00,  3.35249099e-01, -3.72197123e-01,  1.22235143e-01,\n",
       "       -4.47662301e-01,  3.26295774e-01, -5.07408451e-01, -3.56880271e-01,\n",
       "       -1.94246484e-01,  7.55965993e-01, -5.01156668e-01, -3.83099581e-01,\n",
       "        3.92901818e-01, -1.08166594e-01,  5.50786803e-01, -5.06975630e-01,\n",
       "        9.81607972e-02,  7.15932634e-01, -4.55168062e-02,  2.63473141e-01,\n",
       "       -3.16878094e-01,  4.21632842e-01, -9.48926827e-01,  6.95263515e-02,\n",
       "        5.29500263e-01, -6.04998772e-02,  4.01806712e-01,  2.96387924e-01,\n",
       "       -1.78847253e-01, -8.13838958e-01,  1.18020165e-01,  4.58452215e-02,\n",
       "       -6.82980411e-01,  6.09757340e-01,  1.00601027e-01, -1.06100512e-01,\n",
       "       -2.83295103e-03,  2.20785497e-01, -8.97595968e-02,  2.28217139e-01,\n",
       "        4.18840901e-01,  4.94881293e-01,  6.76175249e-01, -5.30686652e-02,\n",
       "        3.49790162e-02, -2.14954744e-01,  3.65623556e-01,  7.38601767e-01,\n",
       "       -4.63178891e-02,  5.35982443e-02, -9.64632805e-01,  2.44521787e-01,\n",
       "       -4.43256570e-01,  2.78612999e-01, -5.37019010e-02,  3.36317210e-01,\n",
       "        4.36924109e-01, -6.68655665e-01,  5.86059100e-01,  3.36368080e-01,\n",
       "       -1.14271648e-01, -5.66574829e-01, -4.24276139e-01,  1.94217581e-01,\n",
       "       -3.65234157e-01, -1.84546472e-01, -2.56828892e-02, -2.85768549e-03,\n",
       "        4.80343938e-02, -4.64356682e-01, -3.90729913e-01, -2.54318417e-01,\n",
       "       -8.33853118e-01,  3.22523760e-01, -3.52436803e-01,  3.30870538e-01,\n",
       "        1.42986691e-01,  4.00913584e-01,  1.00817082e+00, -9.77376473e-02,\n",
       "       -1.21949831e+00,  7.04273330e-01, -2.34805948e-01,  4.28309906e-01,\n",
       "        1.84445225e-02,  3.13110212e-01, -2.91706813e-01, -8.65513071e-01,\n",
       "       -9.41357165e-03,  6.93063173e-02,  9.46207780e-02,  2.07866034e-01,\n",
       "       -6.15997676e-03,  6.02867816e-01, -3.28631019e-01,  5.29471585e-01,\n",
       "       -3.88820681e-01,  2.44281235e-02,  3.71510290e-01,  7.14242022e-02,\n",
       "       -1.19575530e+00, -1.04826782e-01,  3.44796545e-01, -5.04520081e-01,\n",
       "        1.35920715e-01, -6.67086601e-01, -3.26168184e-01, -4.41467254e-01,\n",
       "       -3.07818322e-01,  2.99094968e-01,  2.50811424e-01,  1.17249647e+00,\n",
       "        4.27782708e-01, -1.95153167e-01, -4.73242799e-03,  1.72694067e-01,\n",
       "        2.13539011e-01, -2.92846331e-01,  4.20554648e-02,  6.00753152e-01,\n",
       "        6.81939095e-01,  1.42939597e-01,  2.17206866e-01,  2.59222772e-01,\n",
       "        2.78546649e-01,  4.71533065e-01,  4.67568763e-01,  4.49657632e-01,\n",
       "        2.32932499e-01, -2.44559768e-01,  1.90744591e-01,  6.13968282e-01,\n",
       "       -1.62283305e-01,  9.69588162e-01, -3.35790661e-01, -1.11382243e+00,\n",
       "        1.15028096e-01, -9.98611226e-01, -3.61007677e-01, -6.86605704e-01,\n",
       "       -1.16376970e+00,  3.70838647e-01,  4.48307963e-02,  3.59413481e-01,\n",
       "       -5.25865312e-01,  4.71709573e-01, -2.75620916e-02,  1.06222302e-01,\n",
       "       -3.23317198e-01, -1.17585460e+00, -1.74807277e+00, -7.57662183e-01,\n",
       "        5.89521082e-02, -7.55678498e-01, -2.66078125e-01, -3.49491010e-02,\n",
       "        5.92446790e-02,  1.10347863e+00, -1.07670411e-01,  5.13634136e-01,\n",
       "        7.60851255e-02, -2.73249795e-01,  5.20365778e-01,  7.54936786e-01,\n",
       "        3.83879531e-01,  7.13015380e-01,  3.32536056e-01,  2.40594399e-01])"
      ]
     },
     "execution_count": 9,
     "metadata": {},
     "output_type": "execute_result"
    }
   ],
   "source": [
    "s - mu"
   ]
  },
  {
   "cell_type": "code",
   "execution_count": 8,
   "metadata": {},
   "outputs": [
    {
     "data": {
      "text/plain": [
       "array([ 3.28975674e-01,  9.16656356e-03,  5.41312629e-01, -3.78740249e-01,\n",
       "        8.88024741e-02, -1.47328463e-02,  1.11559206e-01,  3.18481522e-01,\n",
       "       -7.60105793e-01, -3.96798391e-01,  5.77624819e-01, -8.41628601e-02,\n",
       "        8.03835921e-01, -1.94748122e-01, -3.84315138e-01, -2.50722810e-01,\n",
       "        2.47003554e-01, -2.83697750e-01, -1.96214460e-02,  2.37772287e-01,\n",
       "       -5.15416376e-02, -5.88726183e-01,  1.30187735e+00, -8.04930662e-01,\n",
       "        1.11082822e+00,  5.46832637e-01, -2.71337179e-01, -4.19404253e-01,\n",
       "       -9.98515010e-02,  2.08104118e-01,  5.80112042e-02, -1.22758490e-01,\n",
       "       -5.98088931e-01,  1.81617195e+00,  7.48503705e-01, -3.00431661e-01,\n",
       "        6.20147374e-02, -4.15622691e-01, -1.18615493e-01,  7.80302702e-01,\n",
       "       -2.12608802e-01, -1.61554828e-01,  3.32802944e-01, -1.45402142e-01,\n",
       "        4.32065845e-02, -4.87849835e-01,  3.60550476e-01,  6.32257812e-02,\n",
       "        2.71639416e-01,  4.92302541e-01,  8.74628640e-01,  1.24511296e+00,\n",
       "        5.01946043e-01,  1.16896195e-01, -5.46368911e-01, -5.75201059e-01,\n",
       "       -8.28524782e-01, -8.38784240e-02,  2.92693123e-01, -1.81600101e-01,\n",
       "        1.11426577e+00, -3.32247508e-02, -2.44035362e-01,  3.55996201e-01,\n",
       "       -1.09612651e-01, -3.67009168e-01, -3.88116770e-02,  3.55321624e-01,\n",
       "        1.30691290e-01, -8.89236487e-02, -7.21248771e-02,  7.11386460e-01,\n",
       "        7.81748450e-02,  3.82132989e-01,  2.53671008e-01,  1.79805260e+00,\n",
       "       -6.38640789e-01,  1.87875436e-01,  1.90891162e-01,  4.33194918e-01,\n",
       "       -4.82959368e-01, -4.24771008e-01,  1.98216474e-01,  8.44397141e-01,\n",
       "       -3.11754981e-02, -4.10409546e-01,  3.35207714e-01,  9.72979260e-01,\n",
       "       -1.15992892e-01,  1.05228789e-01,  6.78970520e-02, -1.04903119e-01,\n",
       "       -4.40065235e-02, -8.90494987e-01,  3.89128052e-01, -1.27968594e-01,\n",
       "        2.86136058e-01, -4.55939058e-01,  2.73032614e-02,  2.31295646e-01,\n",
       "        5.24323070e-01, -7.96338797e-01, -2.99273556e-01, -5.99133489e-01,\n",
       "       -5.07110032e-02,  9.09717341e-01,  4.18734242e-01,  2.92853950e-01,\n",
       "       -5.32997899e-02,  4.77998573e-02,  6.24104087e-01,  6.40679381e-01,\n",
       "       -3.56223283e-01,  9.17224707e-01, -4.54121963e-01,  4.28653505e-01,\n",
       "        2.58881421e-01, -3.70286291e-01, -5.54195503e-01,  4.07830280e-01,\n",
       "        5.25845282e-01,  7.11412851e-01, -3.06799703e-01, -6.23166893e-02,\n",
       "       -2.04159204e-01, -7.31117313e-01,  4.46512011e-01,  2.05816757e-01,\n",
       "        1.09945967e-01,  5.38659847e-01, -1.79953356e-01, -8.15646910e-01,\n",
       "       -5.98402441e-01,  3.34000236e-01, -7.82018717e-01, -8.13425064e-01,\n",
       "        1.27317854e-02,  3.34906011e-01, -3.40756429e-01, -4.45802152e-01,\n",
       "        5.09305849e-01, -4.84519179e-01, -7.84666267e-01,  6.27015222e-01,\n",
       "        4.23401253e-01,  5.00456898e-01, -1.50309332e+00, -5.77906505e-01,\n",
       "        2.30399686e-01,  3.63471554e-01, -7.37986432e-01, -8.44547205e-01,\n",
       "        1.90221639e-01,  8.78778577e-01, -8.56980761e-02,  7.84185348e-01,\n",
       "        3.13991399e-01,  6.43809116e-02, -9.61793334e-01,  2.71678040e-01,\n",
       "        5.78247589e-01,  2.88508159e-01, -2.86888492e-01, -1.00220020e-01,\n",
       "       -1.18165978e+00, -9.13067232e-02,  5.52144943e-01, -4.06996400e-01,\n",
       "       -2.23133363e-01, -6.24177291e-01, -3.55874479e-02,  6.50653066e-01,\n",
       "        4.27808063e-01, -1.20690954e-01,  2.40934094e-01, -2.54598398e-02,\n",
       "       -1.63160755e-01, -1.30796921e-01, -1.72805241e-01,  6.58170238e-02,\n",
       "        2.70176575e-01, -3.07486780e-01,  4.14175022e-01,  1.44282707e-01,\n",
       "       -5.02955307e-01, -1.92555007e-02, -1.85020477e-01, -3.37339345e-02,\n",
       "        2.77440682e-01,  5.36082450e-01, -7.95051177e-01, -1.09322581e-01,\n",
       "       -3.38430153e-02,  1.74182056e-01, -2.54528719e-01,  1.79363912e-01,\n",
       "       -3.86950077e-01, -3.16873123e-01,  2.81877029e-01, -1.01514532e+00,\n",
       "        1.21265798e-01, -2.29369119e-01, -4.58346963e-01, -1.95764274e-01,\n",
       "        1.12677954e-01,  5.86918328e-03, -1.34011279e-01,  1.42611794e-01,\n",
       "       -6.38292699e-01, -7.82116156e-01,  1.62089541e-01,  5.40547732e-01,\n",
       "        3.41175038e-02, -3.56328694e-02, -4.14073023e-01,  3.23849233e-01,\n",
       "        6.11042056e-01,  8.64533257e-01,  2.03507592e-01, -3.07757879e-01,\n",
       "        6.76628950e-01, -8.56932000e-01,  6.50460475e-01,  2.38175291e-01,\n",
       "       -8.80075564e-02, -1.97324868e-01, -1.32750563e-01,  8.30607362e-01,\n",
       "        1.09484771e+00,  2.97903723e-01,  9.29153814e-01,  2.61901178e-01,\n",
       "        5.31407678e-01, -2.10010448e-01,  6.48539707e-01, -6.15831524e-01,\n",
       "        2.42337820e-02,  4.15361080e-02,  1.19980604e+00,  4.89415922e-01,\n",
       "       -5.86850052e-01, -2.23158158e-02, -2.85595595e-01,  1.25937844e-01,\n",
       "       -3.43289458e-01,  1.61578618e-01,  5.43080802e-01,  1.17172524e-01,\n",
       "        3.51893097e-01,  5.25759259e-01,  2.91210173e-01, -8.61751471e-02,\n",
       "       -9.55402884e-02,  2.07156182e-01,  1.47161568e-02,  5.49968862e-01,\n",
       "       -4.59620935e-02, -1.09704414e-01,  9.86150383e-01, -2.23887067e-01,\n",
       "        1.03624899e+00, -6.55456244e-01, -4.16762088e-01,  2.26378768e-01,\n",
       "        8.93684179e-02, -3.51077412e-01, -7.86120540e-01,  7.14748860e-01,\n",
       "       -7.96892728e-02,  8.32168101e-01,  1.75412219e-01, -1.69548488e-01,\n",
       "       -4.62255176e-01,  6.84937301e-02,  1.27483647e-01, -9.78952010e-01,\n",
       "        9.39779730e-01,  3.24219383e-01,  3.38761408e-01, -4.45870387e-01,\n",
       "       -1.69243619e-01, -3.46057535e-01,  3.68892807e-01,  4.84874505e-01,\n",
       "        6.23257706e-01,  2.75783248e-01, -5.36627235e-01, -1.05034697e+00,\n",
       "       -1.06225610e+00, -8.10939968e-03, -3.22179530e-01, -1.17777046e+00,\n",
       "        2.45780238e-01,  4.55825530e-01,  4.36558049e-01, -6.37265459e-01,\n",
       "       -3.05444292e-01,  3.20536819e-01,  1.07410901e-01, -7.96188627e-01,\n",
       "       -3.01688511e-01,  1.19896778e-01, -2.07666970e-01,  1.99401450e-01,\n",
       "       -3.96592557e-01,  3.28254052e-01,  4.97170246e-01, -1.83534418e-01,\n",
       "        1.30008732e-01,  4.39953974e-01, -1.21593428e-03,  1.04594995e-01,\n",
       "       -6.53062917e-01,  7.63004774e-01,  5.79009092e-02, -3.74109088e-01,\n",
       "       -3.80218208e-01, -1.30177211e-01,  7.26060547e-01, -2.79085907e-02,\n",
       "       -7.72223991e-01,  2.80658792e-02,  8.23191701e-01, -5.87862774e-01,\n",
       "        4.03530610e-01,  3.53671412e-01,  3.09522805e-01, -6.12068314e-01,\n",
       "        3.36136119e-01,  6.71690396e-01, -3.11380050e-01, -2.38448419e-02,\n",
       "       -3.22027934e-01,  1.03765873e-01, -2.52283163e-01, -7.00474729e-01,\n",
       "       -9.69615267e-01, -3.45251160e-01,  4.94696499e-01, -9.06281581e-01,\n",
       "       -3.24988452e-01,  4.25878935e-01,  3.75674215e-02,  2.88048687e-02,\n",
       "        4.61930792e-01,  2.21178289e-01, -1.16402431e-01, -7.33334661e-01,\n",
       "       -2.01059772e-02,  8.80705442e-01,  1.68129693e-01, -5.80053477e-01,\n",
       "        7.48068947e-01,  9.14159391e-01, -6.14019200e-01, -1.31995063e-01,\n",
       "       -1.17880712e-01, -1.37984382e-01,  4.04972991e-02,  4.83125481e-01,\n",
       "       -1.09956470e-01, -1.90133564e-01,  9.80397326e-01, -1.30087320e+00,\n",
       "        4.84316502e-01, -6.60658252e-01, -4.24130704e-01,  4.21059947e-02,\n",
       "        1.01390469e+00,  5.84487081e-01,  1.50928371e-01,  1.32217988e-01,\n",
       "        2.84542889e-01,  5.35314455e-01,  4.17120852e-01,  6.32336301e-01,\n",
       "        1.91176112e-01,  1.43582108e-01,  3.46960392e-01, -2.13879191e-01,\n",
       "        7.11205920e-02,  1.66895821e-01,  2.09454559e-01, -5.30822964e-01,\n",
       "       -4.74846446e-01, -5.68372310e-01, -3.49973405e-01, -3.27395572e-01,\n",
       "       -3.62191374e-01, -1.26798030e+00, -7.53692156e-02, -3.25352061e-01,\n",
       "       -7.27741570e-02,  6.11749921e-01,  1.78482144e-01,  1.50532589e-02,\n",
       "       -4.29768110e-01, -1.00644139e-02,  5.61242616e-02,  1.76933563e-01,\n",
       "        3.41576677e-01, -5.85865685e-01, -4.30553117e-01, -6.08927970e-01,\n",
       "       -3.45819728e-01, -6.61839877e-01, -1.01233537e+00,  4.14878003e-01,\n",
       "        3.75185892e-01, -2.83164636e-01,  2.13097873e-01, -2.65231266e-01,\n",
       "       -4.54561474e-01,  6.69591271e-01,  1.21689105e+00, -9.32745754e-01,\n",
       "        1.02942104e+00,  4.97966257e-01, -7.59151764e-01,  1.94714562e-01,\n",
       "        9.74339955e-01,  4.54065466e-01,  2.47215784e-01, -3.02772496e-01,\n",
       "       -1.28253958e-01, -1.39493494e-01,  4.54538984e-01,  8.38045255e-01,\n",
       "        7.03927262e-01, -7.77866075e-01, -3.14639189e-01,  6.30855581e-01,\n",
       "        2.97429236e-01,  1.96122348e-04,  3.53239192e-01,  7.39179790e-02,\n",
       "       -6.98129254e-01, -3.47696110e-01,  2.70715490e-02, -3.00960441e-02,\n",
       "        1.98863340e-01,  6.71448573e-01,  1.22367111e-01,  1.94529588e-01,\n",
       "       -2.17714075e-01, -1.54923354e-01, -5.67306043e-01, -5.31604925e-01,\n",
       "       -5.39426328e-02,  5.72219498e-01,  4.22110771e-03, -1.40595341e-01,\n",
       "       -3.22218065e-01, -1.19739034e-01,  5.11713551e-01, -3.38092501e-01,\n",
       "        3.48171829e-01, -2.37387339e-01, -4.34849088e-01,  1.11070921e-02,\n",
       "       -1.02943764e-01,  6.46403856e-01,  1.60773255e-01, -5.98873852e-01,\n",
       "       -3.23472874e-01, -3.04158381e-01,  9.59135881e-01, -1.59789520e-01,\n",
       "        2.28584470e-02,  1.82420297e-02, -2.53950116e-02, -7.37051878e-02,\n",
       "        2.97284002e-01,  7.42619782e-01,  5.28375264e-01,  9.24670345e-01,\n",
       "        6.75644057e-01, -1.65440230e-01,  4.77245462e-01, -9.55412304e-01,\n",
       "       -5.38284267e-01,  1.09140050e-01,  8.04714744e-01,  4.38586791e-01,\n",
       "        9.81812510e-02, -5.90788415e-01, -9.89640223e-02,  1.63054880e-01,\n",
       "        1.31751390e-01,  2.94502228e-01,  6.93529616e-01, -2.50656258e-01,\n",
       "        8.88161923e-01,  7.80877320e-01,  2.54276519e-01, -1.66186079e-01,\n",
       "        5.97019015e-01,  1.05417798e+00,  4.26996408e-01, -6.14411966e-01,\n",
       "        2.74494145e-01,  1.93493601e-01, -1.03902909e-03,  1.10867867e-01,\n",
       "        3.31077773e-01, -1.46706646e+00, -4.61414597e-01, -4.27583684e-01,\n",
       "       -3.20690477e-01,  3.41923822e-01,  7.47158402e-01, -2.70918346e-01,\n",
       "        1.37808781e-01, -4.32507317e-01,  5.00287675e-01, -4.37888678e-01,\n",
       "       -4.61980967e-01, -8.11488014e-02, -8.63087836e-01,  2.32966637e-01,\n",
       "       -2.42081091e-01, -5.86929773e-01,  1.07061157e-01, -1.44095551e-01,\n",
       "       -9.07084623e-02, -9.90270330e-01, -2.06611854e-01,  3.63943163e-01,\n",
       "       -3.09630991e-01, -1.82304397e-01, -4.02074796e-02,  6.24582525e-01,\n",
       "        4.29782968e-01, -8.51906173e-02, -1.04062919e-02, -4.04801535e-01,\n",
       "       -2.78911464e-01, -2.71017633e-01,  7.11099958e-01,  5.09147078e-01,\n",
       "       -5.98429641e-01, -3.63709846e-01, -4.98088259e-01,  9.77477038e-01,\n",
       "        2.99772026e-01, -3.48880291e-01, -9.21125423e-02, -4.45428422e-01,\n",
       "        6.45775058e-01, -8.35373067e-02, -4.78102622e-01, -7.05502156e-02,\n",
       "        5.22525271e-01, -5.08589511e-01, -2.36524656e-01, -2.55577686e-01,\n",
       "       -5.59859828e-01, -7.29731221e-02, -1.17272239e-01,  1.32573891e-01,\n",
       "       -6.36007450e-01,  6.59631708e-01,  2.58322144e-01, -2.98815611e-01,\n",
       "       -4.84698772e-01, -2.43211042e-01,  1.91269542e-01, -3.09828063e-01,\n",
       "       -5.49540979e-01, -7.25577361e-01, -2.37236461e-01, -1.20478518e+00,\n",
       "       -3.88889269e-01, -2.78718949e-01, -2.04897212e-01, -2.03515244e-02,\n",
       "       -1.21934502e-01, -7.51755921e-01, -4.90269343e-01, -8.47827815e-01,\n",
       "        9.96315824e-03, -4.70728437e-01, -7.55248952e-01,  2.20951554e-01,\n",
       "        1.32454739e-01, -2.11555045e-01, -1.04060323e-01,  5.17928728e-01,\n",
       "        9.53689267e-01,  1.27709015e-01,  2.05519268e-02, -7.58843943e-01,\n",
       "       -2.70593055e-01,  2.39227733e-01,  2.63070186e-01, -3.91619935e-02,\n",
       "        7.13626349e-01,  1.72508338e-01, -7.51323598e-01,  5.22324185e-01,\n",
       "       -6.69893927e-02,  1.04653147e-01,  6.75892247e-02,  4.54519396e-01,\n",
       "        1.60286378e-01,  1.66793747e-02,  1.35069356e+00,  9.54412404e-01,\n",
       "        4.54558227e-01, -1.16306796e+00, -5.92990483e-01,  5.27318511e-02,\n",
       "        3.18436653e-01, -6.77716284e-01, -8.05134687e-01,  2.60594196e-02,\n",
       "       -3.78787237e-01, -4.21656076e-01, -1.59501304e-01,  5.51162964e-01,\n",
       "       -1.38347660e-01, -6.34526952e-01, -9.31819392e-02, -4.68687450e-02,\n",
       "        1.37454809e-01, -2.92304289e-01,  2.44910878e-01, -2.20949009e-01,\n",
       "       -6.54488228e-03,  5.06587208e-01, -1.21070029e-01,  3.62966084e-01,\n",
       "        1.39605545e-01,  1.23396478e-01, -5.20758129e-01, -4.91506853e-01,\n",
       "        8.29486510e-02,  2.93198586e-02,  2.53369634e-01,  4.94366313e-01,\n",
       "       -7.92718129e-01,  6.16054107e-01,  4.23172972e-01,  8.41132582e-02,\n",
       "        1.13328812e+00, -5.07394494e-01, -1.54751231e-01, -6.38682657e-01,\n",
       "        5.55423053e-01, -4.22026789e-01, -4.65614334e-01,  3.71431253e-01,\n",
       "       -1.04129982e-01, -3.17884987e-02,  4.97461664e-01,  3.42188590e-01,\n",
       "       -4.68096000e-02, -1.59020334e-01,  5.49415550e-01, -1.92418123e-01,\n",
       "        4.11538048e-01, -2.54212715e-01, -4.93448579e-01, -4.07530311e-01,\n",
       "       -4.45643383e-01, -3.40620413e-01, -6.17122227e-02, -1.27079752e-01,\n",
       "       -4.84974604e-01,  1.57044413e-01,  2.46657455e-01,  2.66988165e-01,\n",
       "        3.75836970e-01,  6.50860043e-01,  1.15687413e+00,  1.25682319e-01,\n",
       "        2.99711809e-01,  2.97329692e-01,  6.33665570e-01,  2.43242869e-01,\n",
       "       -7.61287426e-02,  1.70658427e-02, -1.76836352e-01,  1.17821541e+00,\n",
       "        3.33612299e-04,  7.90446234e-02, -3.18057543e-01,  1.81242238e-01,\n",
       "       -2.96929699e-02, -6.79441776e-01,  6.50512067e-01, -4.18701134e-04,\n",
       "       -6.31377123e-01,  1.00036856e-01, -5.36612767e-02,  1.49023272e-02,\n",
       "       -1.90295900e-01,  2.24541884e-01,  1.84480937e-01, -6.62462322e-01,\n",
       "       -2.32028955e-01,  1.08726766e-01, -2.81596707e-02, -8.97945737e-01,\n",
       "       -8.38911043e-03,  2.86994568e-01,  9.63485077e-02,  6.07080486e-01,\n",
       "        7.95845134e-02,  5.59093684e-01, -8.93185361e-01, -1.23175896e-01,\n",
       "        3.97759634e-01,  2.04368181e-01, -6.36575360e-01, -5.65587330e-01,\n",
       "       -1.17473757e+00,  1.88167833e-01,  5.88600596e-01,  8.79075778e-01,\n",
       "        7.41860232e-01,  5.34283718e-01, -6.56607047e-01, -4.30378260e-01,\n",
       "       -7.98227206e-01, -2.13182246e-01,  2.68588730e-01, -1.13377756e+00,\n",
       "        1.98844309e-01,  1.73277015e-01, -9.09407988e-01,  1.12110766e-01,\n",
       "        1.39123499e-02,  5.51632340e-01,  2.94546680e-02, -6.28121846e-01,\n",
       "       -4.51617989e-01,  2.74965424e-01, -3.84016498e-01,  3.54375997e-01,\n",
       "       -3.81440835e-01,  1.83995354e-01,  4.75749053e-01, -2.01347593e-01,\n",
       "       -6.17314183e-03, -8.04982558e-01, -2.34271013e-01,  2.82333239e-01,\n",
       "       -1.08371803e+00, -9.50415161e-01,  2.31104162e-01, -2.29619267e-01,\n",
       "       -1.92913063e-01,  3.11679234e-01, -2.27569273e-02,  5.64883536e-01,\n",
       "       -2.67740360e-01,  3.14389298e-01,  5.53214131e-01, -1.16417176e+00,\n",
       "        1.07841094e+00, -1.88023851e-02,  3.66375246e-01,  7.68584332e-01,\n",
       "       -3.45508250e-01,  8.26721141e-02, -5.71323369e-01,  6.72024190e-01,\n",
       "       -9.09319590e-01,  1.91020527e-02,  6.36133719e-01, -1.71957330e-01,\n",
       "       -4.99691462e-01,  5.16092450e-02,  3.64135193e-02,  8.37738409e-01,\n",
       "        4.59253079e-01, -8.82090619e-02, -7.72234039e-01, -2.65006634e-01,\n",
       "       -3.56579293e-01, -1.87990741e-01, -8.61603962e-01,  1.94186478e-01,\n",
       "        1.13236307e-01,  1.50207452e-01, -1.12519241e-01, -1.17115214e+00,\n",
       "        1.52025090e-01,  1.98552965e-01,  4.51208004e-01, -1.26827379e+00,\n",
       "       -7.28825186e-01, -8.75980687e-01, -2.93250835e-01, -2.59912677e-01,\n",
       "        1.84485075e-01, -4.49391457e-01, -8.04799997e-01, -2.20387495e-01,\n",
       "        4.43539438e-01,  2.83013959e-01,  2.40383812e-01,  1.70226222e-01,\n",
       "        3.66105756e-01,  7.00958364e-01,  8.41993536e-02,  8.50752509e-02,\n",
       "       -2.46315400e-01,  8.11069925e-01,  4.72285790e-01, -3.22610631e-01,\n",
       "       -1.56744520e-01, -1.75200332e-01, -8.45535870e-01, -4.92084724e-01,\n",
       "       -1.01816886e-01,  7.01145039e-02,  4.81123253e-01,  5.81429606e-01,\n",
       "        4.23663211e-01, -2.89408301e-01,  3.32226497e-02,  3.14510616e-02,\n",
       "        5.16565676e-01, -2.16781667e-01, -4.34996647e-01, -8.51212794e-01,\n",
       "        6.72342112e-02,  5.30904433e-01, -1.22235517e+00,  8.66710533e-01,\n",
       "       -1.27757749e+00,  3.27569200e-01, -3.79877022e-01,  1.14555244e-01,\n",
       "       -4.55342201e-01,  3.18615874e-01, -5.15088350e-01, -3.64560171e-01,\n",
       "       -2.01926384e-01,  7.48286094e-01, -5.08836568e-01, -3.90779480e-01,\n",
       "        3.85221918e-01, -1.15846493e-01,  5.43106903e-01, -5.14655529e-01,\n",
       "        9.04808980e-02,  7.08252734e-01, -5.31967054e-02,  2.55793242e-01,\n",
       "       -3.24557993e-01,  4.13952943e-01, -9.56606726e-01,  6.18464523e-02,\n",
       "        5.21820364e-01, -6.81797764e-02,  3.94126813e-01,  2.88708025e-01,\n",
       "       -1.86527152e-01, -8.21518857e-01,  1.10340265e-01,  3.81653222e-02,\n",
       "       -6.90660311e-01,  6.02077441e-01,  9.29211281e-02, -1.13780411e-01,\n",
       "       -1.05128503e-02,  2.13105597e-01, -9.74394960e-02,  2.20537240e-01,\n",
       "        4.11161002e-01,  4.87201394e-01,  6.68495349e-01, -6.07485645e-02,\n",
       "        2.72991169e-02, -2.22634643e-01,  3.57943657e-01,  7.30921867e-01,\n",
       "       -5.39977883e-02,  4.59183450e-02, -9.72312704e-01,  2.36841888e-01,\n",
       "       -4.50936470e-01,  2.70933100e-01, -6.13818003e-02,  3.28637310e-01,\n",
       "        4.29244210e-01, -6.76335565e-01,  5.78379201e-01,  3.28688181e-01,\n",
       "       -1.21951547e-01, -5.74254729e-01, -4.31956038e-01,  1.86537682e-01,\n",
       "       -3.72914056e-01, -1.92226372e-01, -3.33627884e-02, -1.05375847e-02,\n",
       "        4.03544946e-02, -4.72036581e-01, -3.98409812e-01, -2.61998316e-01,\n",
       "       -8.41533017e-01,  3.14843861e-01, -3.60116703e-01,  3.23190638e-01,\n",
       "        1.35306792e-01,  3.93233685e-01,  1.00049092e+00, -1.05417547e-01,\n",
       "       -1.22717821e+00,  6.96593431e-01, -2.42485847e-01,  4.20630007e-01,\n",
       "        1.07646232e-02,  3.05430313e-01, -2.99386712e-01, -8.73192971e-01,\n",
       "       -1.70934709e-02,  6.16264181e-02,  8.69408788e-02,  2.00186135e-01,\n",
       "       -1.38398760e-02,  5.95187917e-01, -3.36310919e-01,  5.21791685e-01,\n",
       "       -3.96500580e-01,  1.67482242e-02,  3.63830391e-01,  6.37443029e-02,\n",
       "       -1.20343520e+00, -1.12506681e-01,  3.37116646e-01, -5.12199980e-01,\n",
       "        1.28240816e-01, -6.74766500e-01, -3.33848083e-01, -4.49147153e-01,\n",
       "       -3.15498221e-01,  2.91415069e-01,  2.43131525e-01,  1.16481657e+00,\n",
       "        4.20102809e-01, -2.02833066e-01, -1.24123272e-02,  1.65014168e-01,\n",
       "        2.05859112e-01, -3.00526231e-01,  3.43755656e-02,  5.93073253e-01,\n",
       "        6.74259196e-01,  1.35259697e-01,  2.09526967e-01,  2.51542873e-01,\n",
       "        2.70866750e-01,  4.63853165e-01,  4.59888864e-01,  4.41977733e-01,\n",
       "        2.25252599e-01, -2.52239667e-01,  1.83064692e-01,  6.06288383e-01,\n",
       "       -1.69963205e-01,  9.61908262e-01, -3.43470561e-01, -1.12150233e+00,\n",
       "        1.07348197e-01, -1.00629112e+00, -3.68687576e-01, -6.94285604e-01,\n",
       "       -1.17144959e+00,  3.63158748e-01,  3.71508970e-02,  3.51733582e-01,\n",
       "       -5.33545211e-01,  4.64029674e-01, -3.52419908e-02,  9.85424027e-02,\n",
       "       -3.30997097e-01, -1.18353450e+00, -1.75575267e+00, -7.65342082e-01,\n",
       "        5.12722089e-02, -7.63358398e-01, -2.73758024e-01, -4.26290003e-02,\n",
       "        5.15647798e-02,  1.09579873e+00, -1.15350310e-01,  5.05954236e-01,\n",
       "        6.84052262e-02, -2.80929694e-01,  5.12685879e-01,  7.47256887e-01,\n",
       "        3.76199632e-01,  7.05335481e-01,  3.24856157e-01,  2.32914500e-01])"
      ]
     },
     "execution_count": 8,
     "metadata": {},
     "output_type": "execute_result"
    }
   ],
   "source": [
    "s - np.mean(s)"
   ]
  },
  {
   "cell_type": "code",
   "execution_count": 10,
   "metadata": {},
   "outputs": [],
   "source": [
    "standard_s = (s - np.mean(s)) / np.std(s)"
   ]
  },
  {
   "cell_type": "code",
   "execution_count": 11,
   "metadata": {},
   "outputs": [
    {
     "data": {
      "text/plain": [
       "<matplotlib.axes._subplots.AxesSubplot at 0x1a1a5828d0>"
      ]
     },
     "execution_count": 11,
     "metadata": {},
     "output_type": "execute_result"
    },
    {
     "data": {
      "image/png": "[encoded data removed]",
      "text/plain": [
       "<Figure size 432x288 with 1 Axes>"
      ]
     },
     "metadata": {
      "needs_background": "light"
     },
     "output_type": "display_data"
    }
   ],
   "source": [
    "sns.distplot(standard_s)"
   ]
  },
  {
   "cell_type": "markdown",
   "metadata": {
    "slideshow": {
     "slide_type": "slide"
    }
   },
   "source": [
    "# Standard score (z-score)"
   ]
  },
  {
   "cell_type": "code",
   "execution_count": null,
   "metadata": {},
   "outputs": [],
   "source": []
  },
  {
   "cell_type": "markdown",
   "metadata": {
    "slideshow": {
     "slide_type": "slide"
    }
   },
   "source": [
    "## Why is the standard score a useful statistic? "
   ]
  },
  {
   "cell_type": "markdown",
   "metadata": {
    "slideshow": {
     "slide_type": "slide"
    }
   },
   "source": [
    "## Let's use a real-world dataset. \n",
    "\n",
    "Let's look at Combined Cycle Power Plant dataset from the [UCI Machine Learning repository](https://archive.ics.uci.edu/ml/datasets/combined+cycle+power+plant). The dataset contains 9568 observations collected from a combined cycle power plant over a period of six years. Features in the dataset consist of hourly average ambient variables Temperature (T), Ambient Pressure (AP), Relative Humidity (RH) and Exhaust Vacuum (V), and the net hourly electrical energy output (EP) of the plant. \n",
    "\n",
    "We'll look at the ambient pressure (AP) variable, which is measured in units of millibars. "
   ]
  },
  {
   "cell_type": "code",
   "execution_count": 13,
   "metadata": {},
   "outputs": [
    {
     "data": {
      "text/html": [
       "<div>\n",
       "<style scoped>\n",
       "    .dataframe tbody tr th:only-of-type {\n",
       "        vertical-align: middle;\n",
       "    }\n",
       "\n",
       "    .dataframe tbody tr th {\n",
       "        vertical-align: top;\n",
       "    }\n",
       "\n",
       "    .dataframe thead th {\n",
       "        text-align: right;\n",
       "    }\n",
       "</style>\n",
       "<table border=\"1\" class=\"dataframe\">\n",
       "  <thead>\n",
       "    <tr style=\"text-align: right;\">\n",
       "      <th></th>\n",
       "      <th>AT</th>\n",
       "      <th>V</th>\n",
       "      <th>AP</th>\n",
       "      <th>RH</th>\n",
       "      <th>PE</th>\n",
       "    </tr>\n",
       "  </thead>\n",
       "  <tbody>\n",
       "    <tr>\n",
       "      <th>0</th>\n",
       "      <td>14.96</td>\n",
       "      <td>41.76</td>\n",
       "      <td>1024.07</td>\n",
       "      <td>73.17</td>\n",
       "      <td>463.26</td>\n",
       "    </tr>\n",
       "    <tr>\n",
       "      <th>1</th>\n",
       "      <td>25.18</td>\n",
       "      <td>62.96</td>\n",
       "      <td>1020.04</td>\n",
       "      <td>59.08</td>\n",
       "      <td>444.37</td>\n",
       "    </tr>\n",
       "    <tr>\n",
       "      <th>2</th>\n",
       "      <td>5.11</td>\n",
       "      <td>39.40</td>\n",
       "      <td>1012.16</td>\n",
       "      <td>92.14</td>\n",
       "      <td>488.56</td>\n",
       "    </tr>\n",
       "  </tbody>\n",
       "</table>\n",
       "</div>"
      ],
      "text/plain": [
       "      AT      V       AP     RH      PE\n",
       "0  14.96  41.76  1024.07  73.17  463.26\n",
       "1  25.18  62.96  1020.04  59.08  444.37\n",
       "2   5.11  39.40  1012.16  92.14  488.56"
      ]
     },
     "execution_count": 13,
     "metadata": {},
     "output_type": "execute_result"
    }
   ],
   "source": [
    "import pandas as pd\n",
    "\n",
    "df = pd.read_excel('Folds5x2_pp.xlsx')\n",
    "df.head(3)"
   ]
  },
  {
   "cell_type": "code",
   "execution_count": 14,
   "metadata": {},
   "outputs": [
    {
     "data": {
      "text/plain": [
       "<matplotlib.axes._subplots.AxesSubplot at 0x1152d3d68>"
      ]
     },
     "execution_count": 14,
     "metadata": {},
     "output_type": "execute_result"
    },
    {
     "data": {
      "image/png": "[encoded data removed]",
      "text/plain": [
       "<Figure size 432x288 with 1 Axes>"
      ]
     },
     "metadata": {
      "needs_background": "light"
     },
     "output_type": "display_data"
    }
   ],
   "source": [
    "sns.kdeplot(df.AP)"
   ]
  },
  {
   "cell_type": "code",
   "execution_count": 17,
   "metadata": {},
   "outputs": [],
   "source": [
    "mu = np.mean(df.AP)"
   ]
  },
  {
   "cell_type": "code",
   "execution_count": 18,
   "metadata": {},
   "outputs": [],
   "source": [
    "sigma = np.std(df.AP)"
   ]
  },
  {
   "cell_type": "code",
   "execution_count": 19,
   "metadata": {},
   "outputs": [
    {
     "data": {
      "text/plain": [
       "(1013.2590781772603, 5.938473351563735)"
      ]
     },
     "execution_count": 19,
     "metadata": {},
     "output_type": "execute_result"
    }
   ],
   "source": [
    "mu, sigma"
   ]
  },
  {
   "cell_type": "markdown",
   "metadata": {
    "slideshow": {
     "slide_type": "slide"
    }
   },
   "source": [
    "Let's start by loading the data into a `pandas DataFrame` and inspecting the first five rows of the dataframe."
   ]
  },
  {
   "cell_type": "code",
   "execution_count": 20,
   "metadata": {},
   "outputs": [
    {
     "ename": "TypeError",
     "evalue": "'type' object is not subscriptable",
     "output_type": "error",
     "traceback": [
      "\u001b[0;31m---------------------------------------------------------------------------\u001b[0m",
      "\u001b[0;31mTypeError\u001b[0m                                 Traceback (most recent call last)",
      "\u001b[0;32m<ipython-input-20-543cf02acbb7>\u001b[0m in \u001b[0;36m<module>\u001b[0;34m\u001b[0m\n\u001b[0;32m----> 1\u001b[0;31m \u001b[0mpd\u001b[0m\u001b[0;34m.\u001b[0m\u001b[0mDataFrame\u001b[0m\u001b[0;34m[\u001b[0m\u001b[0mdf\u001b[0m\u001b[0;34m]\u001b[0m\u001b[0;34m\u001b[0m\u001b[0;34m\u001b[0m\u001b[0m\n\u001b[0m",
      "\u001b[0;31mTypeError\u001b[0m: 'type' object is not subscriptable"
     ]
    }
   ],
   "source": [
    "pd.DataFrame[df]"
   ]
  },
  {
   "cell_type": "markdown",
   "metadata": {
    "slideshow": {
     "slide_type": "slide"
    }
   },
   "source": [
    "Use seaborn to visualize the distribution of the ambient pressure (`AP`) feature. Plot the KDE. "
   ]
  },
  {
   "cell_type": "markdown",
   "metadata": {
    "slideshow": {
     "slide_type": "slide"
    }
   },
   "source": [
    "**What is the mean ambient pressure? What is the standard deviation of the ambient pressure?**"
   ]
  },
  {
   "cell_type": "markdown",
   "metadata": {
    "slideshow": {
     "slide_type": "slide"
    }
   },
   "source": [
    "Standardize the ambient pressure and use seaborn to visualize the standardized distribution of the ambient pressure (set `kde = True`). \n",
    "\n",
    "What are the mean and standard deviation of standardized distribution of the ambient pressure?  "
   ]
  },
  {
   "cell_type": "code",
   "execution_count": 21,
   "metadata": {},
   "outputs": [],
   "source": [
    "standard_df = (df.AP - mu) / sigma"
   ]
  },
  {
   "cell_type": "code",
   "execution_count": 22,
   "metadata": {},
   "outputs": [
    {
     "data": {
      "text/plain": [
       "<matplotlib.axes._subplots.AxesSubplot at 0x1a1ae848d0>"
      ]
     },
     "execution_count": 22,
     "metadata": {},
     "output_type": "execute_result"
    },
    {
     "data": {
      "image/png": "[encoded data removed]",
      "text/plain": [
       "<Figure size 432x288 with 1 Axes>"
      ]
     },
     "metadata": {
      "needs_background": "light"
     },
     "output_type": "display_data"
    }
   ],
   "source": [
    "sns.kdeplot(standard_df)"
   ]
  },
  {
   "cell_type": "code",
   "execution_count": 24,
   "metadata": {},
   "outputs": [
    {
     "data": {
      "text/plain": [
       "(-4.731168541293998e-13, 1.0000522616217133)"
      ]
     },
     "execution_count": 24,
     "metadata": {},
     "output_type": "execute_result"
    }
   ],
   "source": [
    "st_mu = standard_df.mean()\n",
    "st_sigma = standard_df.std()\n",
    "st_mu, st_sigma"
   ]
  },
  {
   "cell_type": "markdown",
   "metadata": {
    "slideshow": {
     "slide_type": "slide"
    }
   },
   "source": [
    "**What is the z-score corresponding to an observed ambient pressure of 1025 millibars? Interpret the result.** "
   ]
  },
  {
   "cell_type": "code",
   "execution_count": 25,
   "metadata": {},
   "outputs": [],
   "source": [
    "# def get_zscore(array):\n",
    "#     mu = array.mean()\n",
    "#     sigma = array.std()\n",
    "#     zscore = (array - mu) / sigma\n",
    "#     return zscore"
   ]
  },
  {
   "cell_type": "code",
   "execution_count": 30,
   "metadata": {},
   "outputs": [],
   "source": [
    "def get_zscore(value, mean, stdev):\n",
    "    return (value - mean) / stdev"
   ]
  },
  {
   "cell_type": "code",
   "execution_count": 31,
   "metadata": {},
   "outputs": [
    {
     "data": {
      "text/plain": [
       "1.977094301458474"
      ]
     },
     "execution_count": 31,
     "metadata": {},
     "output_type": "execute_result"
    }
   ],
   "source": [
    "get_zscore(1025, mu, sigma)"
   ]
  },
  {
   "cell_type": "code",
   "execution_count": 36,
   "metadata": {},
   "outputs": [],
   "source": [
    "def get_zscore_value(z_score, mean, stdev):\n",
    "    return (z_score * stdev) + mean"
   ]
  },
  {
   "cell_type": "code",
   "execution_count": 37,
   "metadata": {},
   "outputs": [
    {
     "data": {
      "text/plain": [
       "1001.3821314741328"
      ]
     },
     "execution_count": 37,
     "metadata": {},
     "output_type": "execute_result"
    }
   ],
   "source": [
    "get_zscore_value(-2, mu, sigma)"
   ]
  },
  {
   "cell_type": "markdown",
   "metadata": {
    "slideshow": {
     "slide_type": "slide"
    }
   },
   "source": [
    "**Suppose an observation of ambient pressure has a z-score of -2. Interpret this z-score. What is the observed ambient pressure?**"
   ]
  },
  {
   "cell_type": "markdown",
   "metadata": {
    "slideshow": {
     "slide_type": "slide"
    }
   },
   "source": [
    "# Statistical Testing with z-scores and p-values "
   ]
  },
  {
   "cell_type": "markdown",
   "metadata": {
    "slideshow": {
     "slide_type": "slide"
    }
   },
   "source": [
    "## What makes a sample representative of a population? "
   ]
  },
  {
   "cell_type": "markdown",
   "metadata": {
    "slideshow": {
     "slide_type": "slide"
    }
   },
   "source": [
    "## What is the probability of a z-score being less than 0? \n",
    "\n",
    "Hint: Look at the image below.\n",
    "\n",
    "<img src=\"images/cumprob.png\" width=\"500\">\n",
    "\n"
   ]
  },
  {
   "cell_type": "markdown",
   "metadata": {
    "slideshow": {
     "slide_type": "slide"
    }
   },
   "source": [
    "## Let's go back to the Combined Cycle Power Plant dataset\n",
    "\n",
    "Assume that the combined cycle power plant dataset represents data that spans all the time period the plant was operational.  \n",
    "\n",
    "**What is the probability of observing an ambient pressure less than 1001.4 millibars?**"
   ]
  },
  {
   "cell_type": "markdown",
   "metadata": {
    "slideshow": {
     "slide_type": "slide"
    }
   },
   "source": [
    "**What is the probability of observing an ambient pressure greater than or equal to 1010 millibars?**"
   ]
  },
  {
   "cell_type": "markdown",
   "metadata": {
    "slideshow": {
     "slide_type": "slide"
    }
   },
   "source": [
    "## What is a statistical hypothesis? What is hypothesis testing?"
   ]
  },
  {
   "cell_type": "markdown",
   "metadata": {
    "slideshow": {
     "slide_type": "slide"
    }
   },
   "source": [
    "## When are one-sample z-tests used?"
   ]
  },
  {
   "cell_type": "markdown",
   "metadata": {
    "slideshow": {
     "slide_type": "slide"
    }
   },
   "source": [
    "## Let's perform one-sample z-tests!\n",
    "\n",
    "Recall the test statistic for a one-sample z-test is the z-statistic: \n",
    "\n",
    "$$ \\large \\text{z-statistic} = \\dfrac{\\bar x - \\mu_0}{{\\sigma}/{\\sqrt{n}}} $$\n",
    "\n",
    "* $\\bar x$ is your sample mean\n",
    "* $n$ is the number of items in your sample \n",
    "* $\\sigma$ is the population standard deviation\n",
    "* $\\mu_0$ is the population mean\n",
    "\n",
    "The z-statistic differs from the standard score formula: we divide the standard deviation by the square root of $n$ to reflect that we are dealing with the _sample variance_. "
   ]
  },
  {
   "cell_type": "markdown",
   "metadata": {
    "slideshow": {
     "slide_type": "slide"
    }
   },
   "source": [
    "Imagine we have measured the blood pressure for a population of individuals. The average blood pressure for this population is 72.5 mm Hg, with a standard deviation of 12.5 mm Hg. \n",
    "\n",
    "We then measure the blood pressure of 30 other individuals. Here are the observed blood pressures (in units of mm Hg): \n",
    "\n",
    "`62.9, 66.2, 65.0, 84.7, 68.2, 73.1, 68.3, 57.6, 65.8, 67.8, 54.0, 66.8, 56.4, 54.3, 48.3, \n",
    "73.9, 62.2, 53.0, 52.2, 74.5, 66.1, 66.7, 77.7, 73.6, 76.5, 64.2, 59.5, 66.1, 58.3, 64.9`\n",
    "\n",
    "We want to know if the average blood pressure of these 30 individuals is __significantly lower__ than the population's average blood pressure, at a significance level of $\\alpha$ = 0.05."
   ]
  },
  {
   "cell_type": "markdown",
   "metadata": {
    "slideshow": {
     "slide_type": "slide"
    }
   },
   "source": [
    "State the null and alternative hypotheses for this problem."
   ]
  },
  {
   "cell_type": "markdown",
   "metadata": {
    "slideshow": {
     "slide_type": "slide"
    }
   },
   "source": [
    "Perform a one-sample z-test. Interpret the result of the test. "
   ]
  },
  {
   "cell_type": "markdown",
   "metadata": {
    "slideshow": {
     "slide_type": "slide"
    }
   },
   "source": [
    "Now, we want to know if the average blood pressure of these 30 individuals' blood pressure measurements is significantly **different** than the population's average blood pressure, at a significance threshold of $\\alpha$ = 0.05."
   ]
  },
  {
   "cell_type": "markdown",
   "metadata": {
    "slideshow": {
     "slide_type": "slide"
    }
   },
   "source": [
    "State the null and alternative hypothesis: "
   ]
  },
  {
   "cell_type": "markdown",
   "metadata": {
    "slideshow": {
     "slide_type": "slide"
    }
   },
   "source": [
    "Perform a one-sample z-test. Interpret the results of the test. "
   ]
  },
  {
   "cell_type": "markdown",
   "metadata": {
    "slideshow": {
     "slide_type": "slide"
    }
   },
   "source": [
    "## What is a p-value? What is the importance of $\\alpha$, the significance threshold, in hypothesis testing? "
   ]
  },
  {
   "cell_type": "markdown",
   "metadata": {
    "slideshow": {
     "slide_type": "slide"
    }
   },
   "source": [
    "## Summary"
   ]
  },
  {
   "cell_type": "markdown",
   "metadata": {
    "slideshow": {
     "slide_type": "slide"
    }
   },
   "source": [
    "### Key Takeaways: \n",
    "\n",
    "* Normal distributions are characterized by two parameters: the mean, $\\mu$, and standard deviation, $\\sigma$. Normal distributions are symmetric about the mean. The standard normal distribution is a special case of the normal distribution where $\\mu = 0$ and $\\sigma = 1$. Any normal distribution can be standardized by subtracting the mean $\\mu$ from each value and dividing each value by the standard deviation $\\sigma$. "
   ]
  },
  {
   "cell_type": "markdown",
   "metadata": {
    "slideshow": {
     "slide_type": "slide"
    }
   },
   "source": [
    "* The z-score tells us how many standard deviations above or below the mean an observation is. z-scores allow us to compare scores from different normal distributions. \n",
    "\n",
    "$$\\large \\text{z} = \\frac{x - \\mu}{\\sigma}$$ \n",
    "\n",
    "* z-scores and probabilities: \n",
    "    * To compute the probability of obtaining a z-score less than a given value z, use `scipy.stats.norm.cdf(z)`. \n",
    "    * To compute the probability of obtaining a z-score greater than or equal to a given value z, use `1 - scipy.stats.norm.cdf(z)`."
   ]
  },
  {
   "cell_type": "markdown",
   "metadata": {
    "slideshow": {
     "slide_type": "slide"
    }
   },
   "source": [
    "* Samples are representative of populations when they accurately reflect the members of the entire population. \n",
    "\n",
    "* A statistical hypothesis is an assumption about a population parameter. There are two types of hypotheses: null and alternative hypotheses. You set a null hypothesis, draw a sample, and test your null hypothesis based on that sample.\n",
    "\n",
    "* A p-value is the probability of observing a test statistic as extreme as some value, assuming the null hypothesis is true.  \n",
    "    * **A p-value answers the question: what are the chances of getting your result if the null hypothesis is true?**"
   ]
  },
  {
   "cell_type": "markdown",
   "metadata": {
    "slideshow": {
     "slide_type": "slide"
    }
   },
   "source": [
    "* The one-sample z-test is used when you want to know if your sample comes from a particular population. The one-sample z-test is used only for tests related to the sample mean. The test statistic of one-sample z-tests is called the z-statistic. \n",
    "\n",
    "* When performing hypothesis tests, we either have enough evidence or do not have enough evidence to reject the null hypothesis in favor of the alternative, depending on the significance level $\\alpha$ chosen. "
   ]
  }
 ],
 "metadata": {
  "celltoolbar": "Slideshow",
  "kernelspec": {
   "display_name": "Python 3",
   "language": "python",
   "name": "python3"
  },
  "language_info": {
   "codemirror_mode": {
    "name": "ipython",
    "version": 3
   },
   "file_extension": ".py",
   "mimetype": "text/x-python",
   "name": "python",
   "nbconvert_exporter": "python",
   "pygments_lexer": "ipython3",
   "version": "3.7.3"
  },
  "toc": {
   "base_numbering": 1,
   "nav_menu": {},
   "number_sections": true,
   "sideBar": true,
   "skip_h1_title": false,
   "title_cell": "Table of Contents",
   "title_sidebar": "Contents",
   "toc_cell": false,
   "toc_position": {},
   "toc_section_display": true,
   "toc_window_display": false
  }
 },
 "nbformat": 4,
 "nbformat_minor": 2
}
