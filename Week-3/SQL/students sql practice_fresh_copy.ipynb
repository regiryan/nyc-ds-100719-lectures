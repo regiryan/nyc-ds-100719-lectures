{
 "cells": [
  {
   "cell_type": "code",
   "execution_count": 3,
   "metadata": {},
   "outputs": [],
   "source": [
    "import json\n",
    "from mysql.connector import errorcode\n",
    "import mysql.connector \n",
    "import config"
   ]
  },
  {
   "cell_type": "code",
   "execution_count": 10,
   "metadata": {},
   "outputs": [],
   "source": [
    "db_name = 'students'"
   ]
  },
  {
   "cell_type": "code",
   "execution_count": 5,
   "metadata": {},
   "outputs": [],
   "source": [
    "def create_database(cursor, database):\n",
    "    try:\n",
    "        cursor.execute(\n",
    "            \"CREATE DATABASE {} DEFAULT CHARACTER SET 'utf8'\".format(database))\n",
    "    except mysql.connector.Error as err:\n",
    "        print(\"Failed creating database: {}\".format(err))\n",
    "        exit(1)"
   ]
  },
  {
   "cell_type": "code",
   "execution_count": 6,
   "metadata": {},
   "outputs": [],
   "source": [
    "create_query = \"\"\"\n",
    "CREATE TABLE flat_students (\n",
    "    student_id int(7) NOT NULL UNIQUE AUTO_INCREMENT,\n",
    "    name varchar(40) NOT NULL,\n",
    "    dob date NOT NULL,\n",
    "    birthplace varchar(40) NOT NULL,\n",
    "    siblings int(11) NOT NULL,\n",
    "    years_in_nyc float(11) NOT NULL,\n",
    "    favorite_food varchar(40) NOT NULL)\n",
    "\"\"\""
   ]
  },
  {
   "cell_type": "code",
   "execution_count": 7,
   "metadata": {},
   "outputs": [],
   "source": [
    "f=open('students.json','r')\n",
    "data=json.load(f)"
   ]
  },
  {
   "cell_type": "code",
   "execution_count": 11,
   "metadata": {},
   "outputs": [],
   "source": [
    "cnx = mysql.connector.connect(\n",
    "    host = config.host,\n",
    "    user = config.user,\n",
    "    passwd = config.password,\n",
    "    database = db_name\n",
    ")\n",
    "cursor = cnx.cursor()"
   ]
  },
  {
   "cell_type": "markdown",
   "metadata": {},
   "source": [
    "###  USING A LIST OF TUPLES"
   ]
  },
  {
   "cell_type": "code",
   "execution_count": null,
   "metadata": {},
   "outputs": [],
   "source": [
    "\n",
    "insert_statement = \"\"\"INSERT INTO flat_students (name, dob, birthplace, siblings, years_in_nyc, favorite_food)\n",
    "VALUES (%s, %s, %s, %s, %s, %s)\"\"\"\n",
    "\n"
   ]
  },
  {
   "cell_type": "markdown",
   "metadata": {},
   "source": [
    "### USING A LIST OF DICTS\n"
   ]
  },
  {
   "cell_type": "code",
   "execution_count": 12,
   "metadata": {},
   "outputs": [],
   "source": [
    "\n",
    "insert_statement = \"\"\"INSERT INTO flat_students (name, dob, birthplace, siblings, years_in_nyc, favorite_food)\n",
    "VALUES (%(name)s, %(dob)s, %(birthplace)s, %(siblings)s, %(years_in_nyc)s, %(favorite_food)s)\"\"\"\n",
    "\n"
   ]
  },
  {
   "cell_type": "code",
   "execution_count": null,
   "metadata": {},
   "outputs": [],
   "source": [
    "cursor.execute"
   ]
  },
  {
   "cell_type": "code",
   "execution_count": 1,
   "metadata": {},
   "outputs": [],
   "source": [
    "def get_search_parameters(lat,long):\n",
    "  #See the Yelp API for more details\n",
    "  params = {}\n",
    "  params[\"term\"] = \"restaurant\"\n",
    "  params[\"ll\"] = \"{},{}\".format(str(lat),str(long))\n",
    "  params[\"radius_filter\"] = \"2000\"\n",
    "  params[\"limit\"] = \"10\"\n",
    " \n",
    "  return params"
   ]
  },
  {
   "cell_type": "code",
   "execution_count": 2,
   "metadata": {},
   "outputs": [
    {
     "data": {
      "text/plain": [
       "{'term': 'restaurant', 'll': '45,67', 'radius_filter': '2000', 'limit': '10'}"
      ]
     },
     "execution_count": 2,
     "metadata": {},
     "output_type": "execute_result"
    }
   ],
   "source": [
    "get_search_parameters(45,67)"
   ]
  },
  {
   "cell_type": "code",
   "execution_count": null,
   "metadata": {},
   "outputs": [],
   "source": []
  }
 ],
 "metadata": {
  "kernelspec": {
   "display_name": "Python 3",
   "language": "python",
   "name": "python3"
  },
  "language_info": {
   "codemirror_mode": {
    "name": "ipython",
    "version": 3
   },
   "file_extension": ".py",
   "mimetype": "text/x-python",
   "name": "python",
   "nbconvert_exporter": "python",
   "pygments_lexer": "ipython3",
   "version": "3.7.3"
  }
 },
 "nbformat": 4,
 "nbformat_minor": 2
}
