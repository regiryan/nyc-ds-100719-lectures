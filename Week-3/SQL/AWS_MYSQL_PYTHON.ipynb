{
 "cells": [
  {
   "cell_type": "markdown",
   "metadata": {},
   "source": [
    "# Combining Python, SQL DBs and AWS"
   ]
  },
  {
   "cell_type": "markdown",
   "metadata": {},
   "source": [
    "## Aim: Connect to your DB on AWS through python, and execute queries.  \n"
   ]
  },
  {
   "cell_type": "markdown",
   "metadata": {},
   "source": [
    "# Using Python with MYSQL DB"
   ]
  },
  {
   "cell_type": "code",
   "execution_count": 1,
   "metadata": {},
   "outputs": [
    {
     "name": "stdout",
     "output_type": "stream",
     "text": [
      "Collecting mysql-connector-python\n",
      "\u001b[?25l  Downloading https://files.pythonhosted.org/packages/b0/d6/19f81615060d9a0eae204bd621fb5aa6604abc3fa45123583df029bd0895/mysql_connector_python-8.0.18-cp37-cp37m-macosx_10_13_x86_64.whl (4.5MB)\n",
      "\u001b[K     |████████████████████████████████| 4.5MB 2.8MB/s eta 0:00:01\n",
      "\u001b[?25hCollecting protobuf>=3.0.0 (from mysql-connector-python)\n",
      "\u001b[?25l  Downloading https://files.pythonhosted.org/packages/a5/c6/a8b6a74ab1e165f0aaa673a46f5c895af8780976880c98934ae82060356d/protobuf-3.10.0-cp37-cp37m-macosx_10_9_intel.whl (1.4MB)\n",
      "\u001b[K     |████████████████████████████████| 1.4MB 304kB/s eta 0:00:01\n",
      "\u001b[?25hRequirement already satisfied: setuptools in /Users/regi/miniconda3/lib/python3.7/site-packages (from protobuf>=3.0.0->mysql-connector-python) (41.0.1)\n",
      "Requirement already satisfied: six>=1.9 in /Users/regi/miniconda3/lib/python3.7/site-packages (from protobuf>=3.0.0->mysql-connector-python) (1.12.0)\n",
      "Installing collected packages: protobuf, mysql-connector-python\n",
      "Successfully installed mysql-connector-python-8.0.18 protobuf-3.10.0\n"
     ]
    }
   ],
   "source": [
    "# make sure we have the package installed\n",
    "!pip install mysql-connector-python"
   ]
  },
  {
   "cell_type": "code",
   "execution_count": 86,
   "metadata": {},
   "outputs": [],
   "source": [
    "## importing 'mysql.connector' \n",
    "import mysql.connector "
   ]
  },
  {
   "cell_type": "code",
   "execution_count": 17,
   "metadata": {
    "scrolled": true
   },
   "outputs": [],
   "source": [
    "## Connecting to the database\n",
    "\n",
    "## connecting to the database using 'connect()' method\n",
    "## it takes 3 required parameters 'host', 'user', 'passwd'\n",
    "# cnx = mysql.connector.connect(\n",
    "#     host = \"localhost\",\n",
    "#     user = \"root\",\n",
    "#     passwd = \"dbms\"\n",
    "# )"
   ]
  },
  {
   "cell_type": "markdown",
   "metadata": {},
   "source": [
    "### Documentation:\n",
    "\n",
    "https://dev.mysql.com/doc/connector-python/en/connector-python-connectargs.html"
   ]
  },
  {
   "cell_type": "markdown",
   "metadata": {},
   "source": [
    "## Using a config File:\n",
    "\n",
    "You do not want to make your credentials viewable to everyone who might see this file.  So instead of explicity stating your credentials, we want to import them from another file.  "
   ]
  },
  {
   "cell_type": "code",
   "execution_count": 87,
   "metadata": {},
   "outputs": [],
   "source": [
    "import config"
   ]
  },
  {
   "cell_type": "code",
   "execution_count": 88,
   "metadata": {},
   "outputs": [],
   "source": [
    "# config.password"
   ]
  },
  {
   "cell_type": "code",
   "execution_count": 89,
   "metadata": {},
   "outputs": [
    {
     "name": "stdout",
     "output_type": "stream",
     "text": [
      "<mysql.connector.connection_cext.CMySQLConnection object at 0x10c345828>\n"
     ]
    }
   ],
   "source": [
    "## Connecting to the database\n",
    "\n",
    "## connecting to the database using 'connect()' method\n",
    "## it takes 3 required parameters 'host', 'user', 'passwd'\n",
    "cnx = mysql.connector .connect(\n",
    "    host = config.host,\n",
    "    user = config.user,\n",
    "    passwd = config.password\n",
    ")\n",
    "\n",
    "print(cnx) # it will print a connection object if everything is fine\n"
   ]
  },
  {
   "cell_type": "code",
   "execution_count": 90,
   "metadata": {},
   "outputs": [],
   "source": [
    "cursor = cnx.cursor()"
   ]
  },
  {
   "cell_type": "markdown",
   "metadata": {},
   "source": [
    "## SQL Commands: Data Definition Language Commands (DDL)\n",
    "This section will discuss the commands through which you can define your database. The commands are as follows:\n",
    "\n",
    "- CREATE\n",
    "- DROP\n",
    "- TRUNCATE\n",
    "- ALTER\n",
    "- BACKUP DATABASE"
   ]
  },
  {
   "cell_type": "markdown",
   "metadata": {},
   "source": [
    "### CREATE\n",
    "\n",
    "This statement is used to create a table or a database.\n",
    "\n"
   ]
  },
  {
   "cell_type": "markdown",
   "metadata": {},
   "source": [
    "#### The ‘CREATE DATABASE’ Statement:\n",
    "As the name suggests, this statement is used to create a database.\n",
    "\n",
    "**Syntax**\n",
    "\n",
    "`CREATE DATABASE DatabaseName;`\n",
    "\n",
    "**Example**\n",
    "\n",
    "`CREATE DATABASE Employee;`\n"
   ]
  },
  {
   "cell_type": "markdown",
   "metadata": {},
   "source": [
    "#### The **‘CREATE TABLE’** Statement\n",
    "\n",
    "This statement is used to create a table.\n",
    "\n",
    "**Syntax**\n",
    "\n",
    "`CREATE TABLE TableName (\n",
    "Column1 datatype,\n",
    "Column2 datatype,\n",
    "Column3 datatype,\n",
    "....\n",
    "ColumnN datatype\n",
    ");`\n",
    "\n",
    "**Example**\n",
    "\n",
    "`CREATE TABLE Employee_Info\n",
    "(\n",
    "EmployeeID int,\n",
    "EmployeeName varchar(255),\n",
    "Emergency ContactName varchar(255),\n",
    "PhoneNumber int,\n",
    "Address varchar(255),\n",
    "City varchar(255),\n",
    "Country varchar(255)\n",
    ");`\n",
    "\n",
    "You can also create a table using another table. Refer the below sytax and example:\n",
    "\n",
    "#### The ‘CREATE TABLE AS’ Statement\n",
    "**Syntax**\n",
    "\n",
    "`CREATE TABLE NewTableName AS\n",
    "SELECT Column1, column2,..., ColumnN\n",
    "FROM ExistingTableName\n",
    "WHERE ....;`\n",
    "\n",
    "**Example**\n",
    "\n",
    "`CREATE TABLE ExampleTable AS\n",
    "SELECT EmployeeName, PhoneNumber\n",
    "FROM Employee_Info;`"
   ]
  },
  {
   "cell_type": "markdown",
   "metadata": {},
   "source": [
    "[MYSQL Data Types](http://www.mysqltutorial.org/mysql-data-types.aspx)"
   ]
  },
  {
   "cell_type": "markdown",
   "metadata": {},
   "source": [
    "### DROP\n",
    "This statement is used to drop an existing table or a database.\n",
    "\n",
    "#### The ‘DROP DATABASE’ Statement\n",
    "This statement is used to drop an existing database. When you use this statement, complete information present in the database will be lost.\n",
    "\n",
    "**Syntax**\n",
    "\n",
    "`DROP DATABASE DatabaseName;`\n",
    "\n",
    "**Example**\n",
    "\n",
    "`DROP DATABASE Employee;`\n",
    "\n",
    "#### The ‘DROP TABLE’ Statement\n",
    "This statement is used to drop an existing table. When you use this statement, complete information present in the table will be lost.\n",
    "\n",
    "**Syntax**\n",
    "\n",
    "`DROP TABLE TableName;`\n",
    "\n",
    "**Example**\n",
    "\n",
    "`DROP Table Employee_Info;`"
   ]
  },
  {
   "cell_type": "markdown",
   "metadata": {},
   "source": [
    "### TRUNCATE\n",
    "This command is used to delete the information present in the table but does not delete the table. So, once you use this command, your information will be lost, but not the table.\n",
    "\n",
    "**Syntax**\n",
    "\n",
    "`TRUNCATE TABLE TableName;`\n",
    "\n",
    "**Example**\n",
    "\n",
    "`TRUNCATE Table Employee_Info;`"
   ]
  },
  {
   "cell_type": "markdown",
   "metadata": {},
   "source": [
    "### The ‘ALTER TABLE’ Statement\n",
    "This statement is used to add, delete, modify columns in an existing table.\n",
    "\n",
    "#### The ‘ALTER TABLE’ Statement with ADD/DROP COLUMN\n",
    "You can use the ALTER TABLE statement with ADD/DROP Column command according to your need. If you wish to add a column, then you will use the ADD command, and if you wish to delete a column, then you will use the DROP COLUMN command.\n",
    "\n",
    "**Syntax**\n",
    "`ALTER TABLE TableName\n",
    "ADD ColumnName Datatype;`\n",
    "\n",
    "`ALTER TABLE TableName\n",
    "DROP COLUMN ColumnName;`\n",
    "\n",
    "**Example**\n",
    "\n",
    "`ALTER TABLE Employee_Info\n",
    "ADD BloodGroup varchar(255);`\n",
    " \n",
    "`ALTER TABLE Employee_Info\n",
    "DROP COLUMN BloodGroup ;`\n",
    "\n",
    "#### The ‘ALTER TABLE’ Statement with ALTER/MODIFY COLUMN\n",
    "This statement is used to change the datatype of an existing column in a table.\n",
    "\n",
    "**Syntax**\n",
    "\n",
    "`ALTER TABLE TableName\n",
    "ALTER COLUMN ColumnName Datatype;`\n",
    "\n",
    "**Example**\n",
    " \n",
    "`ALTER TABLE Employee_Info\n",
    "ADD DOB year;\n",
    "ALTER TABLE Employee_Info\n",
    "ALTER DOB date;`"
   ]
  },
  {
   "cell_type": "markdown",
   "metadata": {},
   "source": [
    "### BACKUP DATABASE\n",
    "This statement is used to create a full backup of an existing database.\n",
    "\n",
    "**Syntax**\n",
    "`BACKUP DATABASE DatabaseName\n",
    "TO DISK = 'filepath';`\n",
    "\n",
    "**Example**\n",
    "\n",
    "`BACKUP DATABASE Employee\n",
    "TO DISK = 'C:UsersSahitiDesktop';`\n"
   ]
  },
  {
   "cell_type": "markdown",
   "metadata": {},
   "source": [
    "## SQL Commands: Constraints Used In Database\n",
    "Constraints are used in a database to specify the rules for data in a table. The following are the different types of constraints:\n",
    "\n",
    "- NOT NULL\n",
    "- UNIQUE\n",
    "- CHECK\n",
    "- DEFAULT\n",
    "- INDEX\n",
    "\n",
    "\n",
    "### NOT NULL\n",
    "This constraint ensures that a column cannot have a NULL value.\n",
    "\n",
    "**Example**\n",
    "\n",
    " \n",
    "`CREATE TABLE Employee_Info\n",
    "(\n",
    "EmployeeID int NOT NULL,\n",
    "EmployeeName varchar(255) NOT NULL,\n",
    "Emergency ContactName varchar(255),\n",
    "PhoneNumber int NOT NULL,\n",
    "Address varchar(255),\n",
    "City varchar(255),\n",
    "Country varchar(255)\n",
    ");`\n",
    " \n",
    "NOT NULL on ALTER TABLE\n",
    " \n",
    "`ALTER TABLE Employee_Info\n",
    "MODIFY PhoneNumber int NOT NULL;`\n",
    "\n",
    "### UNIQUE\n",
    "This constraint ensures that all the values in a column are unique.\n",
    "\n",
    "**Example**\n",
    "\n",
    "UNIQUE on Create Table\n",
    " \n",
    "`CREATE TABLE Employee_Info\n",
    "(\n",
    "EmployeeID int NOT NULL UNIQUE,\n",
    "EmployeeName varchar(255) NOT NULL,\n",
    "Emergency ContactName varchar(255),\n",
    "PhoneNumber int NOT NULL,\n",
    "Address varchar(255),\n",
    "City varchar(255),\n",
    "Country varchar(255)\n",
    ");`\n",
    " \n",
    "UNIQUE on Multiple Columns\n",
    " \n",
    "`CREATE TABLE Employee_Info\n",
    "(\n",
    "EmployeeID int NOT NULL,\n",
    "EmployeeName varchar(255) NOT NULL,\n",
    "Emergency ContactName varchar(255),\n",
    "PhoneNumber int NOT NULL,\n",
    "Address varchar(255),\n",
    "City varchar(255),\n",
    "Country varchar(255),\n",
    "CONSTRAINT UC_Employee_Info UNIQUE(Employee_ID, PhoneNumber)\n",
    ");`\n",
    " \n",
    "UNIQUE on ALTER TABLE\n",
    " \n",
    "`ALTER TABLE Employee_Info\n",
    "ADD UNIQUE (Employee_ID);`\n",
    " \n",
    "To drop a UNIQUE constraint\n",
    " \n",
    "`ALTER TABLE  Employee_Info\n",
    "DROP CONSTRAINT UC_Employee_Info;`"
   ]
  },
  {
   "cell_type": "code",
   "execution_count": null,
   "metadata": {},
   "outputs": [],
   "source": []
  },
  {
   "cell_type": "markdown",
   "metadata": {},
   "source": [
    "## Creating DB"
   ]
  },
  {
   "cell_type": "code",
   "execution_count": 91,
   "metadata": {},
   "outputs": [],
   "source": [
    "from mysql.connector import errorcode"
   ]
  },
  {
   "cell_type": "code",
   "execution_count": 92,
   "metadata": {},
   "outputs": [],
   "source": [
    "db_name = 'employees'"
   ]
  },
  {
   "cell_type": "code",
   "execution_count": 93,
   "metadata": {},
   "outputs": [],
   "source": [
    "def create_database(cursor, database):\n",
    "    try:\n",
    "        cursor.execute(\n",
    "            \"CREATE DATABASE {} DEFAULT CHARACTER SET 'utf8'\".format(database))\n",
    "    except mysql.connector.Error as err:\n",
    "        print(\"Failed creating database: {}\".format(err))\n",
    "        exit(1)\n",
    "\n",
    "try:\n",
    "    cursor.execute(\"USE {}\".format(db_name))\n",
    "except mysql.connector.Error as err:\n",
    "    print(\"Database {} does not exist.\".format(db_name))\n",
    "    if err.errno == errorcode.ER_BAD_DB_ERROR:\n",
    "        create_database(cursor, db_name)\n",
    "        print(\"Database {} created successfully.\".format(db_name))\n",
    "        cnx.database = db_name\n",
    "    else:\n",
    "        print(err)\n",
    "        exit(1)"
   ]
  },
  {
   "cell_type": "code",
   "execution_count": 95,
   "metadata": {},
   "outputs": [
    {
     "ename": "AttributeError",
     "evalue": "'str' object has no attribute 'head'",
     "output_type": "error",
     "traceback": [
      "\u001b[0;31m---------------------------------------------------------------------------\u001b[0m",
      "\u001b[0;31mAttributeError\u001b[0m                            Traceback (most recent call last)",
      "\u001b[0;32m<ipython-input-95-10ff502fba38>\u001b[0m in \u001b[0;36m<module>\u001b[0;34m\u001b[0m\n\u001b[0;32m----> 1\u001b[0;31m \u001b[0mdb_name\u001b[0m\u001b[0;34m.\u001b[0m\u001b[0mhead\u001b[0m\u001b[0;34m(\u001b[0m\u001b[0;34m)\u001b[0m\u001b[0;34m\u001b[0m\u001b[0;34m\u001b[0m\u001b[0m\n\u001b[0m",
      "\u001b[0;31mAttributeError\u001b[0m: 'str' object has no attribute 'head'"
     ]
    }
   ],
   "source": [
    "db_name.head()"
   ]
  },
  {
   "cell_type": "markdown",
   "metadata": {},
   "source": [
    "### Creating tables"
   ]
  },
  {
   "cell_type": "code",
   "execution_count": 23,
   "metadata": {},
   "outputs": [],
   "source": [
    "DB_NAME = 'employees'\n",
    "\n",
    "TABLES = {}\n",
    "TABLES['employees'] = (\n",
    "    \"CREATE TABLE employees (\"\n",
    "    \"  emp_no int(11) NOT NULL AUTO_INCREMENT,\"\n",
    "    \"  birth_date date NOT NULL,\"\n",
    "    \"  first_name varchar(14) NOT NULL,\"\n",
    "    \"  last_name varchar(16) NOT NULL,\"\n",
    "    \"  gender enum('M','F') NOT NULL,\"\n",
    "    \"  hire_date date NOT NULL,\"\n",
    "    \"  PRIMARY KEY (emp_no)\"\n",
    "    \") ENGINE=InnoDB\")\n",
    "\n",
    "TABLES['departments'] = (\n",
    "    \"CREATE TABLE departments (\"\n",
    "    \"  dept_no char(4) NOT NULL,\"\n",
    "    \"  dept_name varchar(40) NOT NULL,\"\n",
    "    \"  PRIMARY KEY (dept_no), UNIQUE KEY dept_name (dept_name)\"\n",
    "    \") ENGINE=InnoDB\")\n",
    "\n",
    "TABLES['salaries'] = (\n",
    "    \"CREATE TABLE salaries (\"\n",
    "    \"  emp_no int(11) NOT NULL,\"\n",
    "    \"  salary int(11) NOT NULL,\"\n",
    "    \"  from_date date NOT NULL,\"\n",
    "    \"  to_date date NOT NULL,\"\n",
    "    \"  PRIMARY KEY (emp_no,from_date), KEY emp_no (emp_no),\"\n",
    "    \"  CONSTRAINT salaries_ibfk_1 FOREIGN KEY (emp_no) \"\n",
    "    \"     REFERENCES employees (emp_no) ON DELETE CASCADE\"\n",
    "    \") ENGINE=InnoDB\")\n",
    "\n",
    "TABLES['dept_emp'] = (\n",
    "    \"CREATE TABLE dept_emp (\"\n",
    "    \"  emp_no int(11) NOT NULL,\"\n",
    "    \"  dept_no char(4) NOT NULL,\"\n",
    "    \"  from_date date NOT NULL,\"\n",
    "    \"  to_date date NOT NULL,\"\n",
    "    \"  PRIMARY KEY (emp_no,dept_no), KEY emp_no (emp_no),\"\n",
    "    \"  KEY dept_no (dept_no),\"\n",
    "    \"  CONSTRAINT dept_emp_ibfk_1 FOREIGN KEY (emp_no) \"\n",
    "    \"     REFERENCES employees (emp_no) ON DELETE CASCADE,\"\n",
    "    \"  CONSTRAINT dept_emp_ibfk_2 FOREIGN KEY (dept_no) \"\n",
    "    \"     REFERENCES departments (dept_no) ON DELETE CASCADE\"\n",
    "    \") ENGINE=InnoDB\")\n",
    "\n",
    "TABLES['dept_manager'] = (\n",
    "    \"  CREATE TABLE dept_manager (\"\n",
    "    \"  dept_no char(4) NOT NULL,\"\n",
    "    \"  emp_no int(11) NOT NULL,\"\n",
    "    \"  from_date date NOT NULL,\"\n",
    "    \"  to_date date NOT NULL,\"\n",
    "    \"  PRIMARY KEY (emp_no,dept_no),\"\n",
    "    \"  KEY emp_no (emp_no),\"\n",
    "    \"  KEY dept_no (dept_no),\"\n",
    "    \"  CONSTRAINT dept_manager_ibfk_1 FOREIGN KEY (emp_no) \"\n",
    "    \"     REFERENCES employees (emp_no) ON DELETE CASCADE,\"\n",
    "    \"  CONSTRAINT dept_manager_ibfk_2 FOREIGN KEY (dept_no) \"\n",
    "    \"     REFERENCES departments (dept_no) ON DELETE CASCADE\"\n",
    "    \") ENGINE=InnoDB\")\n",
    "\n",
    "TABLES['titles'] = (\n",
    "    \"CREATE TABLE titles (\"\n",
    "    \"  emp_no int(11) NOT NULL,\"\n",
    "    \"  title varchar(50) NOT NULL,\"\n",
    "    \"  from_date date NOT NULL,\"\n",
    "    \"  to_date date DEFAULT NULL,\"\n",
    "    \"  PRIMARY KEY (emp_no,title,from_date), KEY emp_no (emp_no),\"\n",
    "    \"  CONSTRAINT titles_ibfk_1 FOREIGN KEY (emp_no)\"\n",
    "    \"     REFERENCES employees (emp_no) ON DELETE CASCADE\"\n",
    "    \") ENGINE=InnoDB\")"
   ]
  },
  {
   "cell_type": "code",
   "execution_count": 97,
   "metadata": {},
   "outputs": [
    {
     "data": {
      "text/plain": [
       "'CREATE TABLE titles (  emp_no int(11) NOT NULL,  title varchar(50) NOT NULL,  from_date date NOT NULL,  to_date date DEFAULT NULL,  PRIMARY KEY (emp_no,title,from_date), KEY emp_no (emp_no),  CONSTRAINT titles_ibfk_1 FOREIGN KEY (emp_no)     REFERENCES employees (emp_no) ON DELETE CASCADE) ENGINE=InnoDB'"
      ]
     },
     "execution_count": 97,
     "metadata": {},
     "output_type": "execute_result"
    }
   ],
   "source": [
    "TABLES['titles']"
   ]
  },
  {
   "cell_type": "code",
   "execution_count": 98,
   "metadata": {},
   "outputs": [
    {
     "name": "stdout",
     "output_type": "stream",
     "text": [
      "Creating table employees: already exists.\n",
      "Creating table departments: already exists.\n",
      "Creating table salaries: already exists.\n",
      "Creating table dept_emp: already exists.\n",
      "Creating table dept_manager: already exists.\n",
      "Creating table titles: already exists.\n"
     ]
    }
   ],
   "source": [
    "for table_name in TABLES:\n",
    "    table_description = TABLES[table_name]\n",
    "    try:\n",
    "        print(\"Creating table {}: \".format(table_name), end='')\n",
    "        cursor.execute(table_description)\n",
    "    except mysql.connector.Error as err:\n",
    "        if err.errno == errorcode.ER_TABLE_EXISTS_ERROR:\n",
    "            print(\"already exists.\")\n",
    "        else:\n",
    "            print(err.msg)\n",
    "    else:\n",
    "        print(\"OK\")\n",
    "\n",
    "cursor.close()\n",
    "cnx.close()"
   ]
  },
  {
   "cell_type": "markdown",
   "metadata": {},
   "source": [
    "## Inserting Data"
   ]
  },
  {
   "cell_type": "code",
   "execution_count": 99,
   "metadata": {},
   "outputs": [],
   "source": [
    "#since we closed the connection, we need to reinstatiate it\n",
    "cnx = mysql.connector.connect(\n",
    "    host = config.host,\n",
    "    user = config.user,\n",
    "    passwd = config.password,\n",
    "    database = DB_NAME\n",
    ")\n",
    "cursor = cnx.cursor()"
   ]
  },
  {
   "cell_type": "code",
   "execution_count": 23,
   "metadata": {},
   "outputs": [],
   "source": [
    "# cursor = create_cnx()"
   ]
  },
  {
   "cell_type": "code",
   "execution_count": 27,
   "metadata": {},
   "outputs": [],
   "source": [
    "from datetime import date, datetime, timedelta\n",
    "\n",
    "tomorrow = datetime.now().date() + timedelta(days=1)\n",
    "\n",
    "add_employee = (\"INSERT INTO employees \"\n",
    "               \"(first_name, last_name, hire_date, gender, birth_date) \"\n",
    "               \"VALUES (%s, %s, %s, %s, %s)\")\n",
    "add_salary = (\"INSERT INTO salaries \"\n",
    "              \"(emp_no, salary, from_date, to_date) \"\n",
    "              \"VALUES (%(emp_no)s, %(salary)s, %(from_date)s, %(to_date)s)\")\n",
    "\n",
    "data_employee = ('Geert', 'Vanderkelen', tomorrow, 'M', date(1977, 6, 14))\n",
    "\n"
   ]
  },
  {
   "cell_type": "code",
   "execution_count": 28,
   "metadata": {},
   "outputs": [
    {
     "data": {
      "text/plain": [
       "('Geert',\n",
       " 'Vanderkelen',\n",
       " datetime.date(2019, 10, 24),\n",
       " 'M',\n",
       " datetime.date(1977, 6, 14))"
      ]
     },
     "execution_count": 28,
     "metadata": {},
     "output_type": "execute_result"
    }
   ],
   "source": [
    "data_employee"
   ]
  },
  {
   "cell_type": "code",
   "execution_count": 29,
   "metadata": {},
   "outputs": [
    {
     "data": {
      "text/plain": [
       "<mysql.connector.cursor_cext.CMySQLCursor at 0x10af68da0>"
      ]
     },
     "execution_count": 29,
     "metadata": {},
     "output_type": "execute_result"
    }
   ],
   "source": [
    "cursor"
   ]
  },
  {
   "cell_type": "code",
   "execution_count": 32,
   "metadata": {},
   "outputs": [],
   "source": [
    "# Insert new employee\n",
    "cursor.execute(add_employee, data_employee)\n",
    "emp_no = cursor.lastrowid\n",
    "\n",
    "# Insert salary information\n",
    "data_salary = {\n",
    "  'emp_no': emp_no,\n",
    "  'salary': 50000,\n",
    "  'from_date': tomorrow,\n",
    "  'to_date': date(9999, 1, 1),\n",
    "}\n",
    "cursor.execute(add_salary, data_salary)\n",
    "\n",
    "# Make sure data is committed to the database\n",
    "cnx.commit()\n",
    "\n"
   ]
  },
  {
   "cell_type": "markdown",
   "metadata": {},
   "source": [
    "## Insert Many"
   ]
  },
  {
   "cell_type": "markdown",
   "metadata": {},
   "source": [
    "cursor.executemany(operation, seq_of_params)"
   ]
  },
  {
   "cell_type": "code",
   "execution_count": 38,
   "metadata": {},
   "outputs": [],
   "source": [
    "cnx = mysql.connector.connect(\n",
    "    host = config.host,\n",
    "    user = config.user,\n",
    "    passwd = config.password,\n",
    "    database = DB_NAME\n",
    ")\n",
    "cursor = cnx.cursor()"
   ]
  },
  {
   "cell_type": "code",
   "execution_count": 39,
   "metadata": {},
   "outputs": [],
   "source": [
    "data = [\n",
    "  ('Jane', date(2005, 2, 12)),\n",
    "  ('Joe', date(2006, 5, 23)),\n",
    "  ('John', date(2010, 10, 3)),\n",
    "]\n",
    "stmt = \"INSERT INTO employees (first_name, hire_date) VALUES (%s, %s)\"\n",
    "cursor.executemany(stmt, data)"
   ]
  },
  {
   "cell_type": "code",
   "execution_count": 40,
   "metadata": {},
   "outputs": [],
   "source": [
    "cnx.commit()"
   ]
  },
  {
   "cell_type": "code",
   "execution_count": 41,
   "metadata": {},
   "outputs": [],
   "source": [
    "cursor.close()\n",
    "cnx.close()"
   ]
  },
  {
   "cell_type": "markdown",
   "metadata": {},
   "source": [
    "## Querying the DB"
   ]
  },
  {
   "cell_type": "code",
   "execution_count": 42,
   "metadata": {},
   "outputs": [],
   "source": [
    "cnx = mysql.connector.connect(\n",
    "    host = config.host,\n",
    "    user = config.user,\n",
    "    passwd = config.password,\n",
    "    database = DB_NAME\n",
    ")\n",
    "cursor = cnx.cursor()"
   ]
  },
  {
   "cell_type": "code",
   "execution_count": 43,
   "metadata": {},
   "outputs": [
    {
     "name": "stdout",
     "output_type": "stream",
     "text": [
      ", Jane was hired on 12 Feb 2005\n",
      ", Joe was hired on 23 May 2006\n",
      ", John was hired on 03 Oct 2010\n",
      ", Jane was hired on 12 Feb 2005\n",
      ", Joe was hired on 23 May 2006\n",
      ", John was hired on 03 Oct 2010\n"
     ]
    }
   ],
   "source": [
    "\n",
    "query = (\"SELECT first_name, last_name, hire_date FROM employees \"\n",
    "         \"WHERE hire_date BETWEEN %s AND %s\")\n",
    "\n",
    "hire_start = date(2005, 1, 1)\n",
    "hire_end = date(2010, 12, 31)\n",
    "\n",
    "cursor.execute(query, (hire_start, hire_end))\n",
    "\n",
    "for (first_name, last_name, hire_date) in cursor:\n",
    "  print(\"{}, {} was hired on {:%d %b %Y}\".format(\n",
    "    last_name, first_name, hire_date))\n",
    "\n",
    "cursor.close()\n",
    "cnx.close()"
   ]
  },
  {
   "cell_type": "markdown",
   "metadata": {},
   "source": [
    "## Applied: Working with our student data"
   ]
  },
  {
   "cell_type": "markdown",
   "metadata": {},
   "source": [
    "### Import our student data"
   ]
  },
  {
   "cell_type": "code",
   "execution_count": 44,
   "metadata": {},
   "outputs": [],
   "source": [
    "import json"
   ]
  },
  {
   "cell_type": "code",
   "execution_count": 51,
   "metadata": {},
   "outputs": [],
   "source": [
    "f=open('students.json','r')\n",
    "data=json.load(f)"
   ]
  },
  {
   "cell_type": "markdown",
   "metadata": {},
   "source": [
    "### Create a connection and cursor to AWS db"
   ]
  },
  {
   "cell_type": "code",
   "execution_count": 64,
   "metadata": {},
   "outputs": [
    {
     "data": {
      "text/plain": [
       "'employees'"
      ]
     },
     "execution_count": 64,
     "metadata": {},
     "output_type": "execute_result"
    }
   ],
   "source": [
    "DB_NAME"
   ]
  },
  {
   "cell_type": "code",
   "execution_count": 54,
   "metadata": {},
   "outputs": [],
   "source": [
    "cnx = mysql.connector.connect(\n",
    "    host = config.host,\n",
    "    user = config.user,\n",
    "    passwd = config.password,\n",
    "    database = DB_NAME\n",
    ")\n",
    "cursor = cnx.cursor()"
   ]
  },
  {
   "cell_type": "markdown",
   "metadata": {},
   "source": [
    "### Create a table for our student info"
   ]
  },
  {
   "cell_type": "code",
   "execution_count": 55,
   "metadata": {},
   "outputs": [
    {
     "data": {
      "text/plain": [
       "{'name': 'Clare Blessen',\n",
       " 'dob': '1994-08-10',\n",
       " 'birthplace': 'Chicago, IL',\n",
       " 'siblings': 1,\n",
       " 'years_in_nyc': 2,\n",
       " 'favorite_food': 'cheese'}"
      ]
     },
     "execution_count": 55,
     "metadata": {},
     "output_type": "execute_result"
    }
   ],
   "source": [
    "data[3]"
   ]
  },
  {
   "cell_type": "code",
   "execution_count": 72,
   "metadata": {},
   "outputs": [],
   "source": [
    "\n",
    "create_query = \"\"\"\n",
    "CREATE TABLE students1 (\n",
    "    student_id int(7) NOT NULL UNIQUE AUTO_INCREMENT,\n",
    "    name varchar(40) NOT NULL,\n",
    "    dob date NOT NULL,\n",
    "    birthplace varchar(40) NOT NULL,\n",
    "    siblings int(11) NOT NULL,\n",
    "    years_in_nyc float(11) NOT NULL,\n",
    "    favorite_food varchar(40) NOT NULL)\n",
    "\"\"\""
   ]
  },
  {
   "cell_type": "code",
   "execution_count": 73,
   "metadata": {},
   "outputs": [],
   "source": [
    "cursor.execute(create_query)"
   ]
  },
  {
   "cell_type": "code",
   "execution_count": 67,
   "metadata": {},
   "outputs": [
    {
     "ename": "TypeError",
     "evalue": "string indices must be integers",
     "output_type": "error",
     "traceback": [
      "\u001b[0;31m---------------------------------------------------------------------------\u001b[0m",
      "\u001b[0;31mTypeError\u001b[0m                                 Traceback (most recent call last)",
      "\u001b[0;32m<ipython-input-67-075112100cf4>\u001b[0m in \u001b[0;36m<module>\u001b[0;34m\u001b[0m\n\u001b[0;32m----> 1\u001b[0;31m \u001b[0mDB_NAME\u001b[0m\u001b[0;34m[\u001b[0m\u001b[0;34m'employees'\u001b[0m\u001b[0;34m]\u001b[0m\u001b[0;34m\u001b[0m\u001b[0;34m\u001b[0m\u001b[0m\n\u001b[0m",
      "\u001b[0;31mTypeError\u001b[0m: string indices must be integers"
     ]
    }
   ],
   "source": [
    "DB_NAME['employees']"
   ]
  },
  {
   "cell_type": "markdown",
   "metadata": {},
   "source": [
    "### Insert the student data into the table"
   ]
  },
  {
   "cell_type": "code",
   "execution_count": 83,
   "metadata": {},
   "outputs": [
    {
     "data": {
      "text/plain": [
       "{'name': 'Rebecca Chi-May Weng',\n",
       " 'dob': '1996-05-17',\n",
       " 'birthplace': 'New York, NY',\n",
       " 'siblings': 0,\n",
       " 'years_in_nyc': 18,\n",
       " 'favorite_food': 'Taiwanese beef noodle soup'}"
      ]
     },
     "execution_count": 83,
     "metadata": {},
     "output_type": "execute_result"
    }
   ],
   "source": [
    "data[1]"
   ]
  },
  {
   "cell_type": "code",
   "execution_count": 84,
   "metadata": {},
   "outputs": [
    {
     "data": {
      "text/plain": [
       "[{'name': 'Sean Abu Wilson',\n",
       "  'dob': '1985-02-06',\n",
       "  'birthplace': 'Birmingham, AL',\n",
       "  'siblings': 2,\n",
       "  'years_in_nyc': 8.4,\n",
       "  'favoritefood': 'oatmeal raisin cookies',\n",
       "  'favorite_food': 'oatmeal raisin cookies'},\n",
       " {'name': 'Rebecca Chi-May Weng',\n",
       "  'dob': '1996-05-17',\n",
       "  'birthplace': 'New York, NY',\n",
       "  'siblings': 0,\n",
       "  'years_in_nyc': 18,\n",
       "  'favorite_food': 'Taiwanese beef noodle soup'},\n",
       " {'name': 'Charlie Schlinkert',\n",
       "  'dob': '1994-06-11',\n",
       "  'birthplace': 'Darien, Ct',\n",
       "  'siblings': 2,\n",
       "  'years_in_nyc': 7.2,\n",
       "  'favorite_food': 'Hamburgers'},\n",
       " {'name': 'Clare Blessen',\n",
       "  'dob': '1994-08-10',\n",
       "  'birthplace': 'Chicago, IL',\n",
       "  'siblings': 1,\n",
       "  'years_in_nyc': 2,\n",
       "  'favorite_food': 'cheese'},\n",
       " {'name': 'Dave Bletsch',\n",
       "  'dob': '1982-04-29',\n",
       "  'birthplace': 'New Hyde Park, NY',\n",
       "  'siblings': 2,\n",
       "  'years_in_nyc': 0.6,\n",
       "  'favorite_food': 'buffalo wings'},\n",
       " {'name': 'Eddie Pognon',\n",
       "  'dob': '1994-04-26',\n",
       "  'birthplace': 'Newark, New Jersey',\n",
       "  'siblings': 4,\n",
       "  'years_in_nyc': 22,\n",
       "  'favorite_food': 'pasta'},\n",
       " {'name': 'Findlay Bowditch',\n",
       "  'dob': '1992-08-22',\n",
       "  'birthplace': 'White Plains, NY',\n",
       "  'siblings': 2,\n",
       "  'years_in_nyc': 1,\n",
       "  'favorite_food': 'BBQ'},\n",
       " {'name': 'Gabriel Seemann',\n",
       "  'dob': '1991-02-09',\n",
       "  'birthplace': 'San Diego, CA,',\n",
       "  'siblings': 3,\n",
       "  'years_in_nyc': 2.2,\n",
       "  'favorite_food': 'Falafel'},\n",
       " {'name': 'Garrett Keyes',\n",
       "  'dob': '1993-09-20',\n",
       "  'birthplace': 'New York City, NY',\n",
       "  'siblings': 0,\n",
       "  'years_in_nyc': 3.3,\n",
       "  'favorite_food': 'lamb vindaloo'},\n",
       " {'name': 'Jake Cohen',\n",
       "  'dob': '1995-02-12',\n",
       "  'birthplace': 'Philadelphia, PA',\n",
       "  'siblings': 1,\n",
       "  'years_in_nyc': 1.4,\n",
       "  'favorite_food': 'pizza'},\n",
       " {'name': 'JP Rinfret',\n",
       "  'dob': '1990-08-02',\n",
       "  'birthplace': 'Manhasset, NY',\n",
       "  'siblings': 2,\n",
       "  'years_in_nyc': 5.6,\n",
       "  'favorite_food': 'breaded chicken cutlets'},\n",
       " {'name': 'Kenny Miyasato',\n",
       "  'dob': '1988-07-13',\n",
       "  'birthplace': 'Lima, Peru',\n",
       "  'siblings': 0,\n",
       "  'years_in_nyc': 0,\n",
       "  'favorite_food': 'Pizza'},\n",
       " {'name': 'Kyle McNicoll',\n",
       "  'dob': '1994-02-11',\n",
       "  'birthplace': 'NYC',\n",
       "  'siblings': 1,\n",
       "  'years_in_nyc': 24,\n",
       "  'favorite_food': 'salmon sushi'},\n",
       " {'name': 'Marco Sanchez-Ayala',\n",
       "  'dob': '1996-04-11',\n",
       "  'birthplace': 'Portland, OR',\n",
       "  'siblings': 1,\n",
       "  'years_in_nyc': 1.3,\n",
       "  'favorite_food': 'cinnamon rolls'},\n",
       " {'name': 'Matthew R Finch',\n",
       "  'dob': '1992-03-13',\n",
       "  'birthplace': 'Detroit, MI',\n",
       "  'siblings': 1,\n",
       "  'years_in_nyc': 6,\n",
       "  'favorite_food': 'green curry'},\n",
       " {'name': 'melissa',\n",
       "  'dob': 'December 4, 1987',\n",
       "  'birthplace': 'Seattle, WA',\n",
       "  'siblings': 1,\n",
       "  'years_in_nyc': 6.5,\n",
       "  'favorite_food': 'coffee'},\n",
       " {'name': 'Michael Eby',\n",
       "  'dob': '1991-01-03',\n",
       "  'birthplace': 'St. Louis, MO',\n",
       "  'siblings': 1,\n",
       "  'years_in_nyc': 10,\n",
       "  'favorite_food': 'sandwiches'},\n",
       " {'name': 'Ravi Charan',\n",
       "  'dob': '1992-07-07',\n",
       "  'birthplace': 'Minneapolis, MN',\n",
       "  'siblings': 2,\n",
       "  'years_in_nyc': 5.181022,\n",
       "  'favorite_food': 'pandas'},\n",
       " {'name': 'Regina Ryan',\n",
       "  'dob': '1991-10-08',\n",
       "  'birthplace': 'Tashkent, Uzbekistan',\n",
       "  'siblings': 1,\n",
       "  'years_in_nyc': 12.4,\n",
       "  'favorite_food': 'noodles'},\n",
       " {'name': 'Samuel Diaz',\n",
       "  'dob': '1987-09-21',\n",
       "  'birthplace': 'Harlem, NY',\n",
       "  'siblings': 2,\n",
       "  'years_in_nyc': 32,\n",
       "  'favorite_food': 'Grilled Steak with Rice and Broccoli'},\n",
       " {'name': 'Sasha Epelbaum',\n",
       "  'dob': '1996-10-05',\n",
       "  'birthplace': 'NYC, NY',\n",
       "  'siblings': 1,\n",
       "  'years_in_nyc': 19,\n",
       "  'favorite_food': 'nyc bagels'},\n",
       " {'name': 'Stephanie Bourdeau',\n",
       "  'dob': '1993-09-30',\n",
       "  'birthplace': 'Brooklyn, NY',\n",
       "  'siblings': 2,\n",
       "  'years_in_nyc': 26.1,\n",
       "  'favorite_food': 'NYC pizza'},\n",
       " {'name': 'Wesley Willis',\n",
       "  'dob': '1992-06-04',\n",
       "  'birthplace': 'Detroit, MI',\n",
       "  'siblings': 4,\n",
       "  'years_in_nyc': 7,\n",
       "  'favorite_food': 'banana fritters'},\n",
       " {'name': 'Zoe Zhu',\n",
       "  'dob': '1992-06-06',\n",
       "  'birthplace': 'Shanghai, China',\n",
       "  'siblings': 0,\n",
       "  'years_in_nyc': 1.5,\n",
       "  'favorite_food': 'cinnamon toast crunch'},\n",
       " {'name': 'Christopher Shaw',\n",
       "  'dob': '1982-11-11',\n",
       "  'birthplace': 'Baltimore, MD',\n",
       "  'siblings': 0,\n",
       "  'years_in_nyc': 2.0,\n",
       "  'favorite_food': 'Italian Sub'}]"
      ]
     },
     "execution_count": 84,
     "metadata": {},
     "output_type": "execute_result"
    }
   ],
   "source": [
    "data"
   ]
  },
  {
   "cell_type": "code",
   "execution_count": 81,
   "metadata": {},
   "outputs": [
    {
     "data": {
      "text/plain": [
       "[('Sean Abu Wilson',\n",
       "  '1985-02-06',\n",
       "  2,\n",
       "  'Birmingham, AL',\n",
       "  8.4,\n",
       "  'oatmeal raisin cookies'),\n",
       " ('Rebecca Chi-May Weng',\n",
       "  '1996-05-17',\n",
       "  0,\n",
       "  'New York, NY',\n",
       "  18,\n",
       "  'Taiwanese beef noodle soup'),\n",
       " ('Charlie Schlinkert', '1994-06-11', 2, 'Darien, Ct', 7.2, 'Hamburgers'),\n",
       " ('Clare Blessen', '1994-08-10', 1, 'Chicago, IL', 2, 'cheese'),\n",
       " ('Dave Bletsch', '1982-04-29', 2, 'New Hyde Park, NY', 0.6, 'buffalo wings'),\n",
       " ('Eddie Pognon', '1994-04-26', 4, 'Newark, New Jersey', 22, 'pasta'),\n",
       " ('Findlay Bowditch', '1992-08-22', 2, 'White Plains, NY', 1, 'BBQ'),\n",
       " ('Gabriel Seemann', '1991-02-09', 3, 'San Diego, CA,', 2.2, 'Falafel'),\n",
       " ('Garrett Keyes', '1993-09-20', 0, 'New York City, NY', 3.3, 'lamb vindaloo'),\n",
       " ('Jake Cohen', '1995-02-12', 1, 'Philadelphia, PA', 1.4, 'pizza'),\n",
       " ('JP Rinfret',\n",
       "  '1990-08-02',\n",
       "  2,\n",
       "  'Manhasset, NY',\n",
       "  5.6,\n",
       "  'breaded chicken cutlets'),\n",
       " ('Kenny Miyasato', '1988-07-13', 0, 'Lima, Peru', 0, 'Pizza'),\n",
       " ('Kyle McNicoll', '1994-02-11', 1, 'NYC', 24, 'salmon sushi'),\n",
       " ('Marco Sanchez-Ayala',\n",
       "  '1996-04-11',\n",
       "  1,\n",
       "  'Portland, OR',\n",
       "  1.3,\n",
       "  'cinnamon rolls'),\n",
       " ('Matthew R Finch', '1992-03-13', 1, 'Detroit, MI', 6, 'green curry'),\n",
       " ('melissa', 'December 4, 1987', 1, 'Seattle, WA', 6.5, 'coffee'),\n",
       " ('Michael Eby', '1991-01-03', 1, 'St. Louis, MO', 10, 'sandwiches'),\n",
       " ('Ravi Charan', '1992-07-07', 2, 'Minneapolis, MN', 5.181022, 'pandas'),\n",
       " ('Regina Ryan', '1991-10-08', 1, 'Tashkent, Uzbekistan', 12.4, 'noodles'),\n",
       " ('Samuel Diaz',\n",
       "  '1987-09-21',\n",
       "  2,\n",
       "  'Harlem, NY',\n",
       "  32,\n",
       "  'Grilled Steak with Rice and Broccoli'),\n",
       " ('Sasha Epelbaum', '1996-10-05', 1, 'NYC, NY', 19, 'nyc bagels'),\n",
       " ('Stephanie Bourdeau', '1993-09-30', 2, 'Brooklyn, NY', 26.1, 'NYC pizza'),\n",
       " ('Wesley Willis', '1992-06-04', 4, 'Detroit, MI', 7, 'banana fritters'),\n",
       " ('Zoe Zhu', '1992-06-06', 0, 'Shanghai, China', 1.5, 'cinnamon toast crunch'),\n",
       " ('Christopher Shaw', '1982-11-11', 0, 'Baltimore, MD', 2.0, 'Italian Sub')]"
      ]
     },
     "execution_count": 81,
     "metadata": {},
     "output_type": "execute_result"
    }
   ],
   "source": [
    "students_list = []\n",
    "\n",
    "for student in data:\n",
    "        if 'favoritefood' in student.keys():\n",
    "            student['favorite_food'] = student['favoritefood']\n",
    "        student_tuple = (student['name'], student['dob'],\n",
    "                    student['siblings'], student['birthplace'],\n",
    "                    student['years_in_nyc'], student['favorite_food'])\n",
    "        students_list.append(student_tuple)\n",
    "        \n",
    "students_list"
   ]
  },
  {
   "cell_type": "code",
   "execution_count": null,
   "metadata": {},
   "outputs": [],
   "source": [
    "insert_statement = \"INSERT INTO students1 VALUES (colummn names )(%s, %s, %s, )\""
   ]
  },
  {
   "cell_type": "code",
   "execution_count": null,
   "metadata": {},
   "outputs": [],
   "source": [
    "cursor.executemany(insert_statements, students_list)\n",
    "\n",
    "cnx.commit\n",
    "cursor.close"
   ]
  },
  {
   "cell_type": "code",
   "execution_count": 69,
   "metadata": {},
   "outputs": [
    {
     "name": "stdout",
     "output_type": "stream",
     "text": [
      "Sean Abu Wilson\n",
      "Rebecca Chi-May Weng\n",
      "Charlie Schlinkert\n",
      "Clare Blessen\n",
      "Dave Bletsch\n",
      "Eddie Pognon\n",
      "Findlay Bowditch\n",
      "Gabriel Seemann\n",
      "Garrett Keyes\n",
      "Jake Cohen\n",
      "JP Rinfret\n",
      "Kenny Miyasato\n",
      "Kyle McNicoll\n",
      "Marco Sanchez-Ayala\n",
      "Matthew R Finch\n",
      "melissa\n",
      "Michael Eby\n",
      "Ravi Charan\n",
      "Regina Ryan\n",
      "Samuel Diaz\n",
      "Sasha Epelbaum\n",
      "Stephanie Bourdeau\n",
      "Wesley Willis\n",
      "Zoe Zhu\n",
      "Christopher Shaw\n",
      "['name', 'dob', 'birthplace', 'siblings', 'years_in_nyc', 'favoritefood', 'favorite_food']\n"
     ]
    }
   ],
   "source": [
    "# #\n",
    "# keys_list = []\n",
    "# for student in data:\n",
    "#     print(student['name'])\n",
    "#     keys = student.keys()\n",
    "#     for word in keys:\n",
    "#         if word not in keys_list:\n",
    "#             keys_list.append(word)\n",
    "# print (keys_list)"
   ]
  },
  {
   "cell_type": "code",
   "execution_count": null,
   "metadata": {},
   "outputs": [],
   "source": [
    "student = data[0]"
   ]
  },
  {
   "cell_type": "code",
   "execution_count": null,
   "metadata": {},
   "outputs": [],
   "source": []
  },
  {
   "cell_type": "markdown",
   "metadata": {},
   "source": [
    "### Write queries to answer the following questions:\n",
    "\n",
    "**Questions**\n",
    "- Which student is the youngest?\n",
    "- Which student's birthday is closest to the cohort's graduation date?\n",
    "- Which student has the most siblings?\n",
    "- How many students are only children?\n",
    "- Which 3 students have lived in NYC the shortest amount of time?\n",
    "- How many students are native New Yorkers?\n",
    "- What are the most popular foods among the class?"
   ]
  },
  {
   "cell_type": "markdown",
   "metadata": {},
   "source": [
    "[Utilizing the date data type in MySQL](http://www.mysqltutorial.org/mysql-date/)"
   ]
  },
  {
   "cell_type": "code",
   "execution_count": null,
   "metadata": {},
   "outputs": [],
   "source": []
  }
 ],
 "metadata": {
  "kernelspec": {
   "display_name": "Python 3",
   "language": "python",
   "name": "python3"
  },
  "language_info": {
   "codemirror_mode": {
    "name": "ipython",
    "version": 3
   },
   "file_extension": ".py",
   "mimetype": "text/x-python",
   "name": "python",
   "nbconvert_exporter": "python",
   "pygments_lexer": "ipython3",
   "version": "3.7.3"
  }
 },
 "nbformat": 4,
 "nbformat_minor": 2
}
