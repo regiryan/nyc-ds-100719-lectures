{
 "cells": [
  {
   "cell_type": "code",
   "execution_count": 8,
   "metadata": {},
   "outputs": [],
   "source": [
    "cursor.execute(\"\"\"DROP DATABASE MP\"\"\")"
   ]
  },
  {
   "cell_type": "code",
   "execution_count": null,
   "metadata": {},
   "outputs": [],
   "source": [
    "cursor.execute(\"\"\"TRUNCATE TABLE businesses\"\"\")"
   ]
  },
  {
   "cell_type": "code",
   "execution_count": null,
   "metadata": {},
   "outputs": [],
   "source": [
    "# !pip install mysql-connector-python"
   ]
  },
  {
   "cell_type": "code",
   "execution_count": 3,
   "metadata": {},
   "outputs": [],
   "source": [
    "import json\n",
    "import mysql as m\n",
    "import mysql.connector\n",
    "import config\n",
    "import requests\n",
    "import pandas as pd\n",
    "# import sqlite3"
   ]
  },
  {
   "cell_type": "code",
   "execution_count": 4,
   "metadata": {},
   "outputs": [],
   "source": [
    "db_name = 'MP'"
   ]
  },
  {
   "cell_type": "code",
   "execution_count": 5,
   "metadata": {},
   "outputs": [],
   "source": [
    "cnx = mysql.connector.connect(\n",
    "    host = config.host,\n",
    "    user = config.user,\n",
    "    passwd = config.password,\n",
    ")\n"
   ]
  },
  {
   "cell_type": "code",
   "execution_count": 6,
   "metadata": {},
   "outputs": [],
   "source": [
    "# conn = sqlite3.connect('tutorial.db')\n",
    "# c = conn.cursor()"
   ]
  },
  {
   "cell_type": "code",
   "execution_count": 7,
   "metadata": {},
   "outputs": [],
   "source": [
    "cursor = cnx.cursor()"
   ]
  },
  {
   "cell_type": "code",
   "execution_count": 9,
   "metadata": {},
   "outputs": [],
   "source": [
    "def create_database(cursor, database):\n",
    "    try:\n",
    "        cursor.execute(\n",
    "            \"CREATE DATABASE {}\".format(database))\n",
    "    except mysql.connector.Error as err:\n",
    "        print(\"Failed creating database: {}\".format(err))\n",
    "        exit(1)\n",
    "        \n",
    "create_database(cursor, db_name)\n",
    "\n",
    "# try:\n",
    "#     cursor.execute(\"USE {}\".format(db_name))\n",
    "# except mysql.connector.Error as err:\n",
    "#     print(\"Database {} does not exist.\".format(db_name))\n",
    "#     if err.errno == errorcode.ER_BAD_DB_ERROR:\n",
    "#         create_database(cursor, db_name)\n",
    "#         print(\"Database {} created successfully.\".format(db_name))\n",
    "#         cnx.database = db_name\n",
    "#     else:\n",
    "#         print(err)\n",
    "#         exit(1)\n",
    "        \n"
   ]
  },
  {
   "cell_type": "code",
   "execution_count": 10,
   "metadata": {},
   "outputs": [],
   "source": [
    "try:\n",
    "    cursor.execute(\"USE MP\")\n",
    "except mysql.connector.Error as err:\n",
    "    print(\"Database {} does not exist.\".format(db_name))\n",
    "    if err.errno == errorcode.ER_BAD_DB_ERROR:\n",
    "        create_database(cursor, db_name)\n",
    "        print(\"Database {} created successfully.\".format(db_name))\n",
    "        cnx.database = db_name\n",
    "    else:\n",
    "        print(err)\n",
    "        exit(1)\n",
    "        "
   ]
  },
  {
   "cell_type": "code",
   "execution_count": 11,
   "metadata": {},
   "outputs": [],
   "source": [
    "TABLES = {}\n",
    "\n",
    "TABLES['Businesses'] = (\"\"\"\n",
    "CREATE TABLE IF NOT EXISTS businesses (\n",
    "    business_id VARCHAR(255) NOT NULL PRIMARY KEY,\n",
    "    alias VARCHAR(255) NOT NULL,\n",
    "    name VARCHAR(255) NOT NULL,\n",
    "    review_count SMALLINT NOT NULL,\n",
    "    categories TEXT NOT NULL,\n",
    "    rating FLOAT NOT NULL,\n",
    "    city VARCHAR(255) NOT NULL\n",
    ")  ENGINE=INNODB;\n",
    "\"\"\")\n",
    "\n",
    "TABLES['Reviews'] = (\"\"\"\n",
    "CREATE TABLE IF NOT EXISTS reviews (\n",
    "    business_id VARCHAR(255) NOT NULL PRIMARY KEY, \n",
    "    total_reviews SMALLINT NOT NULL,\n",
    "    review_text TEXT NOT NULL,\n",
    "    time_created DATE NOT NULL,\n",
    "    username VARCHAR(255) NOT NULL\n",
    " ) ENGINE=INNODB;\n",
    "\"\"\")\n",
    "\n"
   ]
  },
  {
   "cell_type": "code",
   "execution_count": null,
   "metadata": {},
   "outputs": [],
   "source": [
    "#     FOREIGN KEY (business_id) REFERENCES businesses(business_id)"
   ]
  },
  {
   "cell_type": "code",
   "execution_count": 12,
   "metadata": {},
   "outputs": [
    {
     "name": "stdout",
     "output_type": "stream",
     "text": [
      "<mysql.connector.connection_cext.CMySQLConnection object at 0x11a4ed080>\n"
     ]
    }
   ],
   "source": [
    "cnx = mysql.connector .connect(\n",
    "    host = config.host,\n",
    "    user = config.user,\n",
    "    passwd = config.password,\n",
    "    database = db_name\n",
    ")\n",
    "\n",
    "cursor = cnx.cursor(buffered=True)\n",
    "print(cnx)\n"
   ]
  },
  {
   "cell_type": "code",
   "execution_count": 13,
   "metadata": {},
   "outputs": [
    {
     "name": "stdout",
     "output_type": "stream",
     "text": [
      "Businesses\n",
      "Reviews\n"
     ]
    }
   ],
   "source": [
    "for table_name in TABLES:\n",
    "    table_description = TABLES[table_name]\n",
    "    print(table_name)"
   ]
  },
  {
   "cell_type": "code",
   "execution_count": 14,
   "metadata": {},
   "outputs": [
    {
     "name": "stdout",
     "output_type": "stream",
     "text": [
      "Creating table Businesses: \n",
      "Creating table Reviews: \n"
     ]
    }
   ],
   "source": [
    "for table_name in TABLES:\n",
    "    table_description = TABLES[str(table_name)]\n",
    "    print(f\"Creating table {table_name}: \")\n",
    "    cursor.execute(table_description)\n",
    "#         except mysql.connector.Error as err:\n",
    "#             if err.errno == errorcode.ER_TABLE_EXISTS_ERROR:\n",
    "#                 print(\"already exists.\")\n",
    "#             else:\n",
    "#                 print(err.msg)\n",
    "#         else:\n",
    "#             print(\"OK\")"
   ]
  },
  {
   "cell_type": "code",
   "execution_count": 17,
   "metadata": {},
   "outputs": [],
   "source": [
    "alter_query = \"\"\"ALTER TABLE reviews\n",
    "                 ADD FOREIGN KEY (business_id) REFERENCES businesses(business_id) ON DELETE CASCADE\"\"\""
   ]
  },
  {
   "cell_type": "code",
   "execution_count": null,
   "metadata": {},
   "outputs": [],
   "source": [
    "alter_query2 = \"\"\"ALTER TABLE businesses\n",
    "                 ADD \"\"\""
   ]
  },
  {
   "cell_type": "code",
   "execution_count": 18,
   "metadata": {},
   "outputs": [],
   "source": [
    "cursor.execute(alter_query)"
   ]
  },
  {
   "cell_type": "markdown",
   "metadata": {},
   "source": [
    "##### queries to insert \n"
   ]
  },
  {
   "cell_type": "markdown",
   "metadata": {},
   "source": [
    "##### pass a list of tuples to it (or a dict)"
   ]
  },
  {
   "cell_type": "code",
   "execution_count": null,
   "metadata": {},
   "outputs": [],
   "source": [
    "def yelp_call(url_params, api_key):\n",
    "    url = 'https://api.yelp.com/v3/businesses/search'\n",
    "    headers = {'Authorization': 'Bearer {}'.format(api_key)}\n",
    "    response = requests.get(url, headers=headers, params=url_params)\n",
    "    data = response.json()\n",
    "    return data"
   ]
  },
  {
   "cell_type": "code",
   "execution_count": null,
   "metadata": {},
   "outputs": [],
   "source": [
    "my_url_params = {'location':'Manhattan', 'categories':'massage, All', 'sort_by':'review_count'}"
   ]
  },
  {
   "cell_type": "code",
   "execution_count": null,
   "metadata": {},
   "outputs": [],
   "source": [
    "my_api_key = 'hCKY3B7kZZDUIkc7JiW5RM3RluzA562cAFztq2zGnaoax9bHYkZ8S_2vGkmg5FQ5snTcdhjN1TvMzjX89sLbLMmcN-n-APL3986KpquzNcSnhImY0GOrzXm25OaxXXYx'\n"
   ]
  },
  {
   "cell_type": "code",
   "execution_count": null,
   "metadata": {},
   "outputs": [],
   "source": [
    "data = yelp_call(my_url_params, my_api_key)"
   ]
  },
  {
   "cell_type": "code",
   "execution_count": null,
   "metadata": {},
   "outputs": [],
   "source": [
    "data['total']"
   ]
  },
  {
   "cell_type": "code",
   "execution_count": null,
   "metadata": {},
   "outputs": [],
   "source": [
    "data.keys()"
   ]
  },
  {
   "cell_type": "code",
   "execution_count": null,
   "metadata": {},
   "outputs": [],
   "source": [
    "data['businesses']"
   ]
  },
  {
   "cell_type": "code",
   "execution_count": null,
   "metadata": {},
   "outputs": [],
   "source": [
    "param_list = []"
   ]
  },
  {
   "cell_type": "code",
   "execution_count": null,
   "metadata": {},
   "outputs": [],
   "source": [
    "len(data['businesses'])"
   ]
  },
  {
   "cell_type": "code",
   "execution_count": null,
   "metadata": {},
   "outputs": [],
   "source": [
    "len(data['businesses'])"
   ]
  },
  {
   "cell_type": "code",
   "execution_count": null,
   "metadata": {},
   "outputs": [],
   "source": [
    "# for n in range(len(data['businesses'])):\n",
    "all_rows = []\n",
    "for business in data['businesses']:\n",
    "    print(business['name'])\n",
    "    entry_tup = (business['id'], business['alias'], business['name'], business['review_count'], business['categories'][0]['alias'], business['rating'], business['location']['city'])\n",
    "    all_rows.append(entry_tup)\n",
    "\n"
   ]
  },
  {
   "cell_type": "code",
   "execution_count": null,
   "metadata": {},
   "outputs": [],
   "source": [
    "data_tup = tuple(all_rows)"
   ]
  },
  {
   "cell_type": "code",
   "execution_count": null,
   "metadata": {},
   "outputs": [],
   "source": [
    "all_rows"
   ]
  },
  {
   "cell_type": "code",
   "execution_count": null,
   "metadata": {},
   "outputs": [],
   "source": [
    "# data['businesses'][1].keys()"
   ]
  },
  {
   "cell_type": "code",
   "execution_count": null,
   "metadata": {},
   "outputs": [],
   "source": [
    "# dict_keys(['id', 'alias', 'name', 'image_url', 'is_closed', \n",
    "#            'url', 'review_count', 'categories', 'rating',\n",
    "#            'coordinates', 'transactions', 'price', 'location', \n",
    "#            'phone', 'display_phone', 'distance'])"
   ]
  },
  {
   "cell_type": "code",
   "execution_count": null,
   "metadata": {},
   "outputs": [],
   "source": [
    "# qry = \"\"\"INSERT INTO Businesses \n",
    "# (business_id, alias, name, review_count, categories, rating, city) \n",
    "# VALUES (%(id)s, %(alias)s, %(name)s, %(review_count)s, %(categories)s,\n",
    "# %(rating)s, %(location['city'])s)\"\"\""
   ]
  },
  {
   "cell_type": "code",
   "execution_count": null,
   "metadata": {},
   "outputs": [],
   "source": [
    "for biz in businesses:\n",
    "    if 'price' not in biz:\n",
    "        biz['price'] = None\n",
    "    (biz['id'], biz['name'], biz['reveiw_count'], biz['price'])"
   ]
  },
  {
   "cell_type": "code",
   "execution_count": null,
   "metadata": {},
   "outputs": [],
   "source": [
    "# vrb = data['businesses'][0]\n"
   ]
  },
  {
   "cell_type": "markdown",
   "metadata": {},
   "source": [
    "##### # Create a list of tuples from data, which is dictionary of lists of dictionaries\n"
   ]
  },
  {
   "cell_type": "code",
   "execution_count": null,
   "metadata": {},
   "outputs": [],
   "source": [
    "# Create a list of tuples from data, which is dictionary of lists of dictionaries\n",
    "tuple1 = ()"
   ]
  },
  {
   "cell_type": "code",
   "execution_count": null,
   "metadata": {},
   "outputs": [],
   "source": [
    "type(cursor)\n",
    "print(cnx)"
   ]
  },
  {
   "cell_type": "code",
   "execution_count": null,
   "metadata": {},
   "outputs": [],
   "source": [
    "cursor.execute(\"SELECT * FROM MP.businesses\")"
   ]
  },
  {
   "cell_type": "code",
   "execution_count": null,
   "metadata": {},
   "outputs": [],
   "source": [
    "cursor.fetchall()"
   ]
  },
  {
   "cell_type": "code",
   "execution_count": null,
   "metadata": {},
   "outputs": [],
   "source": [
    "query = \"\"\"CREATE TABLE \n",
    "\"\"\""
   ]
  },
  {
   "cell_type": "code",
   "execution_count": null,
   "metadata": {},
   "outputs": [],
   "source": [
    "for n in range(1, len(all_rows)):\n",
    "    cursor.execute(qry, all_rows[n])"
   ]
  },
  {
   "cell_type": "code",
   "execution_count": null,
   "metadata": {},
   "outputs": [],
   "source": []
  },
  {
   "cell_type": "code",
   "execution_count": null,
   "metadata": {},
   "outputs": [],
   "source": [
    "def db_insert(results):\n",
    "    qry = \"\"\"INSERT INTO businesses \n",
    "    (business_id, alias, name, review_count, categories, rating, city) \n",
    "    VALUES (%s, %s, %s, %s, %s, %s, %s)\"\"\"\n",
    "    for n in range(0, len(all_rows)):\n",
    "        cursor.execute(qry, all_rows[n])"
   ]
  },
  {
   "cell_type": "code",
   "execution_count": null,
   "metadata": {},
   "outputs": [],
   "source": [
    "def parse_results(results):\n",
    "    parsed_results = []\n",
    "    for business in data['businesses']:\n",
    "        entry_tup = (business['id'], business['alias'], business['name'], business['review_count'], business['categories'][0]['alias'], business['rating'], business['location']['city'])\n",
    "        parsed_results.append(entry_tup)\n",
    "    return parsed_results"
   ]
  },
  {
   "cell_type": "code",
   "execution_count": null,
   "metadata": {},
   "outputs": [],
   "source": [
    "# Your code here; use a function or loop to retrieve all the results from your original request\n",
    "import time\n",
    "\n",
    "all_url_params = {'location':'Manhattan', 'categories':'massage, All', 'sort_by':'review_count'}\n",
    "\n",
    "def all_results(url_params, api_key):\n",
    "    response = yelp_call(url_params, api_key)\n",
    "    num = data['total']\n",
    "    print('{} total matches found.'.format(num))\n",
    "    cur = 0\n",
    "    \n",
    "    while cur < num and cur < 100:\n",
    "        url_params['offset'] = cur\n",
    "        results = yelp_call(url_params, api_key)\n",
    "        parsed_results = parse_results(results)\n",
    "        db_insert(parsed_results)\n",
    "        time.sleep(1) #Wait a second\n",
    "#          for yelp you dont really need to wait a second\n",
    "        cur += 20\n",
    "\n",
    "# term = 'pizza'\n",
    "# location = 'Astoria NY'\n",
    "# url_params = {  'term': term.replace(' ', '+'),\n",
    "#                 'location': location.replace(' ', '+'),\n",
    "#                 'limit' : 50\n",
    "#              }\n",
    "df = pd.DataFrame(all_results(all_url_params, my_api_key))\n",
    "print(len(df))\n",
    "df.head()"
   ]
  },
  {
   "cell_type": "code",
   "execution_count": null,
   "metadata": {},
   "outputs": [],
   "source": []
  }
 ],
 "metadata": {
  "kernelspec": {
   "display_name": "Python 3",
   "language": "python",
   "name": "python3"
  },
  "language_info": {
   "codemirror_mode": {
    "name": "ipython",
    "version": 3
   },
   "file_extension": ".py",
   "mimetype": "text/x-python",
   "name": "python",
   "nbconvert_exporter": "python",
   "pygments_lexer": "ipython3",
   "version": "3.7.3"
  }
 },
 "nbformat": 4,
 "nbformat_minor": 2
}
