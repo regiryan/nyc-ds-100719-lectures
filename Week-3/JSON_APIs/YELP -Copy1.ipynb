{
 "cells": [
  {
   "cell_type": "code",
   "execution_count": null,
   "metadata": {},
   "outputs": [],
   "source": [
    "cursor.execute(\"\"\"DROP DATABASE MP\"\"\")"
   ]
  },
  {
   "cell_type": "code",
   "execution_count": null,
   "metadata": {},
   "outputs": [],
   "source": [
    "# !pip install mysql-connector-python"
   ]
  },
  {
   "cell_type": "code",
   "execution_count": 26,
   "metadata": {},
   "outputs": [],
   "source": [
    "import json\n",
    "import mysql as m\n",
    "import mysql.connector\n",
    "import config\n",
    "import requests\n",
    "import pandas as pd\n",
    "# import sqlite3"
   ]
  },
  {
   "cell_type": "code",
   "execution_count": null,
   "metadata": {},
   "outputs": [],
   "source": [
    "db_name = 'MP'"
   ]
  },
  {
   "cell_type": "code",
   "execution_count": null,
   "metadata": {},
   "outputs": [],
   "source": [
    "cnx = mysql.connector.connect(\n",
    "    host = config.host,\n",
    "    user = config.user,\n",
    "    passwd = config.password,\n",
    ")\n"
   ]
  },
  {
   "cell_type": "code",
   "execution_count": 4,
   "metadata": {},
   "outputs": [],
   "source": [
    "# conn = sqlite3.connect('tutorial.db')\n",
    "# c = conn.cursor()"
   ]
  },
  {
   "cell_type": "code",
   "execution_count": 5,
   "metadata": {},
   "outputs": [],
   "source": [
    "cursor = cnx.cursor()"
   ]
  },
  {
   "cell_type": "code",
   "execution_count": null,
   "metadata": {},
   "outputs": [],
   "source": [
    "def create_database(cursor, database):\n",
    "    try:\n",
    "        cursor.execute(\n",
    "            \"CREATE DATABASE {}\".format(database))\n",
    "    except mysql.connector.Error as err:\n",
    "        print(\"Failed creating database: {}\".format(err))\n",
    "        exit(1)\n",
    "        \n",
    "create_database(cursor, db_name)\n",
    "\n",
    "# try:\n",
    "#     cursor.execute(\"USE {}\".format(db_name))\n",
    "# except mysql.connector.Error as err:\n",
    "#     print(\"Database {} does not exist.\".format(db_name))\n",
    "#     if err.errno == errorcode.ER_BAD_DB_ERROR:\n",
    "#         create_database(cursor, db_name)\n",
    "#         print(\"Database {} created successfully.\".format(db_name))\n",
    "#         cnx.database = db_name\n",
    "#     else:\n",
    "#         print(err)\n",
    "#         exit(1)\n",
    "        \n"
   ]
  },
  {
   "cell_type": "code",
   "execution_count": 6,
   "metadata": {},
   "outputs": [],
   "source": [
    "try:\n",
    "    cursor.execute(\"USE MP\")\n",
    "except mysql.connector.Error as err:\n",
    "    print(\"Database {} does not exist.\".format(db_name))\n",
    "    if err.errno == errorcode.ER_BAD_DB_ERROR:\n",
    "        create_database(cursor, db_name)\n",
    "        print(\"Database {} created successfully.\".format(db_name))\n",
    "        cnx.database = db_name\n",
    "    else:\n",
    "        print(err)\n",
    "        exit(1)\n",
    "        "
   ]
  },
  {
   "cell_type": "code",
   "execution_count": null,
   "metadata": {},
   "outputs": [],
   "source": [
    "TABLES = {}\n",
    "\n",
    "TABLES['Businesses'] = (\"\"\"\n",
    "CREATE TABLE IF NOT EXISTS businesses (\n",
    "    business_id VARCHAR(255) NOT NULL PRIMARY KEY,\n",
    "    alias VARCHAR(255) NOT NULL,\n",
    "    name VARCHAR(255) NOT NULL,\n",
    "    review_count SMALLINT NOT NULL,\n",
    "    categories TEXT NOT NULL,\n",
    "    rating FLOAT NOT NULL,\n",
    "    city VARCHAR(255) NOT NULL\n",
    ")  ENGINE=INNODB;\n",
    "\"\"\")\n",
    "\n",
    "TABLES['Reviews'] = (\"\"\"\n",
    "CREATE TABLE IF NOT EXISTS reviews (\n",
    "    business_id VARCHAR(255) NOT NULL PRIMARY KEY, \n",
    "    total_reviews SMALLINT NOT NULL,\n",
    "    review_text TEXT NOT NULL,\n",
    "    time_created DATE NOT NULL,\n",
    "    username VARCHAR(255) NOT NULL\n",
    " ) ENGINE=INNODB;\n",
    "\"\"\")\n",
    "\n"
   ]
  },
  {
   "cell_type": "code",
   "execution_count": null,
   "metadata": {},
   "outputs": [],
   "source": [
    "#     FOREIGN KEY (business_id) REFERENCES businesses(business_id)"
   ]
  },
  {
   "cell_type": "code",
   "execution_count": 7,
   "metadata": {},
   "outputs": [
    {
     "name": "stdout",
     "output_type": "stream",
     "text": [
      "<mysql.connector.connection_cext.CMySQLConnection object at 0x103c71128>\n"
     ]
    }
   ],
   "source": [
    "cnx = mysql.connector .connect(\n",
    "    host = config.host,\n",
    "    user = config.user,\n",
    "    passwd = config.password,\n",
    "    database = db_name\n",
    ")\n",
    "\n",
    "cursor = cnx.cursor(buffered=True)\n",
    "print(cnx)\n"
   ]
  },
  {
   "cell_type": "code",
   "execution_count": null,
   "metadata": {},
   "outputs": [],
   "source": [
    "for table_name in TABLES:\n",
    "    table_description = TABLES[table_name]\n",
    "    print(table_name)"
   ]
  },
  {
   "cell_type": "code",
   "execution_count": null,
   "metadata": {},
   "outputs": [],
   "source": [
    "for table_name in TABLES:\n",
    "    table_description = TABLES[str(table_name)]\n",
    "    print(f\"Creating table {table_name}: \")\n",
    "    cursor.execute(table_description)\n",
    "#         except mysql.connector.Error as err:\n",
    "#             if err.errno == errorcode.ER_TABLE_EXISTS_ERROR:\n",
    "#                 print(\"already exists.\")\n",
    "#             else:\n",
    "#                 print(err.msg)\n",
    "#         else:\n",
    "#             print(\"OK\")"
   ]
  },
  {
   "cell_type": "code",
   "execution_count": null,
   "metadata": {},
   "outputs": [],
   "source": [
    "alter_query = \"\"\"ALTER TABLE reviews\n",
    "                 ADD FOREIGN KEY (business_id) REFERENCES businesses(business_id)\"\"\""
   ]
  },
  {
   "cell_type": "code",
   "execution_count": null,
   "metadata": {},
   "outputs": [],
   "source": [
    "alter_query2 = \"\"\"ALTER TABLE businesses\n",
    "                 ADD \"\"\""
   ]
  },
  {
   "cell_type": "code",
   "execution_count": null,
   "metadata": {},
   "outputs": [],
   "source": [
    "cursor.execute(alter_query)"
   ]
  },
  {
   "cell_type": "markdown",
   "metadata": {},
   "source": [
    "##### queries to insert \n"
   ]
  },
  {
   "cell_type": "markdown",
   "metadata": {},
   "source": [
    "##### pass a list of tuples to it (or a dict)"
   ]
  },
  {
   "cell_type": "code",
   "execution_count": 8,
   "metadata": {},
   "outputs": [],
   "source": [
    "def yelp_call(url_params, api_key):\n",
    "    url = 'https://api.yelp.com/v3/businesses/search'\n",
    "    headers = {'Authorization': 'Bearer {}'.format(api_key)}\n",
    "    response = requests.get(url, headers=headers, params=url_params)\n",
    "    data = response.json()\n",
    "    return data"
   ]
  },
  {
   "cell_type": "code",
   "execution_count": 9,
   "metadata": {},
   "outputs": [],
   "source": [
    "my_url_params = {'location':'Manhattan', 'categories':'massage, All', 'sort_by':'review_count'}"
   ]
  },
  {
   "cell_type": "code",
   "execution_count": 10,
   "metadata": {},
   "outputs": [],
   "source": [
    "my_api_key = 'hCKY3B7kZZDUIkc7JiW5RM3RluzA562cAFztq2zGnaoax9bHYkZ8S_2vGkmg5FQ5snTcdhjN1TvMzjX89sLbLMmcN-n-APL3986KpquzNcSnhImY0GOrzXm25OaxXXYx'\n"
   ]
  },
  {
   "cell_type": "code",
   "execution_count": 11,
   "metadata": {},
   "outputs": [],
   "source": [
    "data = yelp_call(my_url_params, my_api_key)"
   ]
  },
  {
   "cell_type": "code",
   "execution_count": 12,
   "metadata": {},
   "outputs": [
    {
     "data": {
      "text/plain": [
       "818"
      ]
     },
     "execution_count": 12,
     "metadata": {},
     "output_type": "execute_result"
    }
   ],
   "source": [
    "data['total']"
   ]
  },
  {
   "cell_type": "code",
   "execution_count": null,
   "metadata": {},
   "outputs": [],
   "source": [
    "data.keys()"
   ]
  },
  {
   "cell_type": "code",
   "execution_count": null,
   "metadata": {},
   "outputs": [],
   "source": [
    "data['businesses']"
   ]
  },
  {
   "cell_type": "code",
   "execution_count": null,
   "metadata": {},
   "outputs": [],
   "source": [
    "param_list = []"
   ]
  },
  {
   "cell_type": "code",
   "execution_count": null,
   "metadata": {},
   "outputs": [],
   "source": [
    "len(data['businesses'])"
   ]
  },
  {
   "cell_type": "code",
   "execution_count": null,
   "metadata": {},
   "outputs": [],
   "source": [
    "len(data['businesses'])"
   ]
  },
  {
   "cell_type": "code",
   "execution_count": 13,
   "metadata": {},
   "outputs": [
    {
     "name": "stdout",
     "output_type": "stream",
     "text": [
      "Mian Tian Sing  Hair Salon\n",
      "Aire Ancient Baths\n",
      "Premier57\n",
      "Kimberly Spa\n",
      "Renew Day Spa\n",
      "Skin Spa New York - Midtown\n",
      "Nams Skin Care & Spa\n",
      "Zuyuan\n",
      "Skin Spa New York\n",
      "Renew Body & Mind Spa\n",
      "Skin Spa New York\n",
      "Tribeca Spa of Tranquility\n",
      "Modern Spa\n",
      "Skin Spa New York - Fashion\n",
      "Taiji Body Work\n",
      "Russian & Turkish Baths\n",
      "The Nail Boutique\n",
      "Bliss Soho\n",
      "Black Label Nails & Spa\n",
      "Renewing Spa\n"
     ]
    }
   ],
   "source": [
    "# for n in range(len(data['businesses'])):\n",
    "all_rows = []\n",
    "for business in data['businesses']:\n",
    "    print(business['name'])\n",
    "    entry_tup = (business['id'], business['alias'], business['name'], business['review_count'], business['categories'][0]['alias'], business['rating'], business['location']['city'])\n",
    "    all_rows.append(entry_tup)\n",
    "\n"
   ]
  },
  {
   "cell_type": "code",
   "execution_count": null,
   "metadata": {},
   "outputs": [],
   "source": [
    "data_tup = tuple(all_rows)"
   ]
  },
  {
   "cell_type": "code",
   "execution_count": 14,
   "metadata": {
    "collapsed": true
   },
   "outputs": [
    {
     "data": {
      "text/plain": [
       "[('myftXTr-yUnFTjf1ZM7YnA',\n",
       "  'mian-tian-sing-hair-salon-new-york-15',\n",
       "  'Mian Tian Sing  Hair Salon',\n",
       "  948,\n",
       "  'hair',\n",
       "  4.0,\n",
       "  'New York'),\n",
       " ('mM1uQFMZNZtrGHZzB1ghMQ',\n",
       "  'aire-ancient-baths-new-york',\n",
       "  'Aire Ancient Baths',\n",
       "  758,\n",
       "  'massage',\n",
       "  4.0,\n",
       "  'New York'),\n",
       " ('LrqC8HfSF7MrGVWiOTBFCw',\n",
       "  'premier57-new-york',\n",
       "  'Premier57',\n",
       "  685,\n",
       "  'spas',\n",
       "  3.0,\n",
       "  'New York'),\n",
       " ('jOA8rJehImz34TuLmvhwMQ',\n",
       "  'kimberly-spa-new-york-3',\n",
       "  'Kimberly Spa',\n",
       "  673,\n",
       "  'massage',\n",
       "  4.5,\n",
       "  'New York'),\n",
       " ('-R4lcVkMi05sQc2vQOTUiA',\n",
       "  'renew-day-spa-new-york',\n",
       "  'Renew Day Spa',\n",
       "  575,\n",
       "  'massage',\n",
       "  4.5,\n",
       "  'New York'),\n",
       " ('wmv9vGht17V8Jrob-k15ug',\n",
       "  'skin-spa-new-york-midtown-new-york-2',\n",
       "  'Skin Spa New York - Midtown',\n",
       "  536,\n",
       "  'skincare',\n",
       "  3.5,\n",
       "  'New York'),\n",
       " ('6mnSfcr5Tlf65nSso5HmBw',\n",
       "  'nams-skin-care-and-spa-new-york',\n",
       "  'Nams Skin Care & Spa',\n",
       "  534,\n",
       "  'skincare',\n",
       "  4.5,\n",
       "  'New York'),\n",
       " ('ClY7IwXYIqMF-GPFuH6e_A',\n",
       "  'zuyuan-new-york-3',\n",
       "  'Zuyuan',\n",
       "  531,\n",
       "  'massage',\n",
       "  4.5,\n",
       "  'New York'),\n",
       " ('KQo0KPZZCt2srDmmt0Qy-Q',\n",
       "  'skin-spa-new-york-new-york-11',\n",
       "  'Skin Spa New York',\n",
       "  514,\n",
       "  'laser_hair_removal',\n",
       "  3.5,\n",
       "  'New York'),\n",
       " ('I0bQzuTFY09dt-DKN_-n_A',\n",
       "  'renew-body-and-mind-spa-new-york',\n",
       "  'Renew Body & Mind Spa',\n",
       "  500,\n",
       "  'massage',\n",
       "  4.5,\n",
       "  'New York'),\n",
       " ('6UeM65PNZH1MHKRMZjREAg',\n",
       "  'skin-spa-new-york-new-york-9',\n",
       "  'Skin Spa New York',\n",
       "  459,\n",
       "  'laser_hair_removal',\n",
       "  3.5,\n",
       "  'New York'),\n",
       " ('eqAnbLSj3f1osvKeERI3-A',\n",
       "  'tribeca-spa-of-tranquility-new-york-3',\n",
       "  'Tribeca Spa of Tranquility',\n",
       "  418,\n",
       "  'spas',\n",
       "  3.5,\n",
       "  'New York'),\n",
       " ('Hz6Fs0yAT8WH3XlqxbxliA',\n",
       "  'modern-spa-new-york-3',\n",
       "  'Modern Spa',\n",
       "  415,\n",
       "  'othersalons',\n",
       "  4.0,\n",
       "  'New York'),\n",
       " ('jelNtQELe-kym8n4xsCh0A',\n",
       "  'skin-spa-new-york-fashion-new-york',\n",
       "  'Skin Spa New York - Fashion',\n",
       "  409,\n",
       "  'skincare',\n",
       "  4.0,\n",
       "  'New York'),\n",
       " ('7Kq2KedRhNiohr2P2rEFJw',\n",
       "  'taiji-body-work-new-york-7',\n",
       "  'Taiji Body Work',\n",
       "  404,\n",
       "  'massage',\n",
       "  4.0,\n",
       "  'New York'),\n",
       " ('1OBCuK8iNv9dEkpnL2HbYg',\n",
       "  'russian-and-turkish-baths-new-york',\n",
       "  'Russian & Turkish Baths',\n",
       "  393,\n",
       "  'massage',\n",
       "  3.0,\n",
       "  'New York'),\n",
       " ('8ZY_cGtOhWw7fveATNdR8Q',\n",
       "  'the-nail-boutique-brooklyn',\n",
       "  'The Nail Boutique',\n",
       "  384,\n",
       "  'othersalons',\n",
       "  3.5,\n",
       "  'Brooklyn'),\n",
       " ('sUkztsGbkYaanUACHk25aw',\n",
       "  'bliss-soho-new-york',\n",
       "  'Bliss Soho',\n",
       "  381,\n",
       "  'spas',\n",
       "  3.5,\n",
       "  'New York'),\n",
       " ('XKhorv5XtgBswQOn7czFmw',\n",
       "  'black-label-nails-and-spa-new-york',\n",
       "  'Black Label Nails & Spa',\n",
       "  359,\n",
       "  'othersalons',\n",
       "  3.5,\n",
       "  'New York'),\n",
       " ('t6UFpoFwCJ-Wu82ydIFIrw',\n",
       "  'renewing-spa-new-york',\n",
       "  'Renewing Spa',\n",
       "  357,\n",
       "  'massage',\n",
       "  4.5,\n",
       "  'New York')]"
      ]
     },
     "execution_count": 14,
     "metadata": {},
     "output_type": "execute_result"
    }
   ],
   "source": [
    "\n",
    "all_rows"
   ]
  },
  {
   "cell_type": "code",
   "execution_count": null,
   "metadata": {},
   "outputs": [],
   "source": [
    "# data['businesses'][1].keys()"
   ]
  },
  {
   "cell_type": "code",
   "execution_count": null,
   "metadata": {},
   "outputs": [],
   "source": [
    "# dict_keys(['id', 'alias', 'name', 'image_url', 'is_closed', \n",
    "#            'url', 'review_count', 'categories', 'rating',\n",
    "#            'coordinates', 'transactions', 'price', 'location', \n",
    "#            'phone', 'display_phone', 'distance'])"
   ]
  },
  {
   "cell_type": "code",
   "execution_count": null,
   "metadata": {},
   "outputs": [],
   "source": [
    "# qry = \"\"\"INSERT INTO Businesses \n",
    "# (business_id, alias, name, review_count, categories, rating, city) \n",
    "# VALUES (%(id)s, %(alias)s, %(name)s, %(review_count)s, %(categories)s,\n",
    "# %(rating)s, %(location['city'])s)\"\"\""
   ]
  },
  {
   "cell_type": "code",
   "execution_count": 15,
   "metadata": {},
   "outputs": [],
   "source": []
  },
  {
   "cell_type": "code",
   "execution_count": null,
   "metadata": {},
   "outputs": [],
   "source": [
    "# vrb = data['businesses'][0]\n"
   ]
  },
  {
   "cell_type": "markdown",
   "metadata": {},
   "source": [
    "##### # Create a list of tuples from data, which is dictionary of lists of dictionaries\n"
   ]
  },
  {
   "cell_type": "code",
   "execution_count": null,
   "metadata": {},
   "outputs": [],
   "source": [
    "# Create a list of tuples from data, which is dictionary of lists of dictionaries\n",
    "tuple1 = ()"
   ]
  },
  {
   "cell_type": "code",
   "execution_count": null,
   "metadata": {},
   "outputs": [],
   "source": [
    "type(cursor)\n",
    "print(cnx)"
   ]
  },
  {
   "cell_type": "code",
   "execution_count": 21,
   "metadata": {},
   "outputs": [],
   "source": [
    "cursor.execute(\"SELECT * FROM MP.businesses\")"
   ]
  },
  {
   "cell_type": "code",
   "execution_count": 22,
   "metadata": {},
   "outputs": [
    {
     "data": {
      "text/plain": [
       "[('-R4lcVkMi05sQc2vQOTUiA',\n",
       "  'renew-day-spa-new-york',\n",
       "  'Renew Day Spa',\n",
       "  575,\n",
       "  'massage',\n",
       "  4.5,\n",
       "  'New York'),\n",
       " ('1OBCuK8iNv9dEkpnL2HbYg',\n",
       "  'russian-and-turkish-baths-new-york',\n",
       "  'Russian & Turkish Baths',\n",
       "  393,\n",
       "  'massage',\n",
       "  3.0,\n",
       "  'New York'),\n",
       " ('6mnSfcr5Tlf65nSso5HmBw',\n",
       "  'nams-skin-care-and-spa-new-york',\n",
       "  'Nams Skin Care & Spa',\n",
       "  534,\n",
       "  'skincare',\n",
       "  4.5,\n",
       "  'New York'),\n",
       " ('6UeM65PNZH1MHKRMZjREAg',\n",
       "  'skin-spa-new-york-new-york-9',\n",
       "  'Skin Spa New York',\n",
       "  459,\n",
       "  'laser_hair_removal',\n",
       "  3.5,\n",
       "  'New York'),\n",
       " ('7Kq2KedRhNiohr2P2rEFJw',\n",
       "  'taiji-body-work-new-york-7',\n",
       "  'Taiji Body Work',\n",
       "  404,\n",
       "  'massage',\n",
       "  4.0,\n",
       "  'New York'),\n",
       " ('8ZY_cGtOhWw7fveATNdR8Q',\n",
       "  'the-nail-boutique-brooklyn',\n",
       "  'The Nail Boutique',\n",
       "  384,\n",
       "  'othersalons',\n",
       "  3.5,\n",
       "  'Brooklyn'),\n",
       " ('ClY7IwXYIqMF-GPFuH6e_A',\n",
       "  'zuyuan-new-york-3',\n",
       "  'Zuyuan',\n",
       "  531,\n",
       "  'massage',\n",
       "  4.5,\n",
       "  'New York'),\n",
       " ('eqAnbLSj3f1osvKeERI3-A',\n",
       "  'tribeca-spa-of-tranquility-new-york-3',\n",
       "  'Tribeca Spa of Tranquility',\n",
       "  418,\n",
       "  'spas',\n",
       "  3.5,\n",
       "  'New York'),\n",
       " ('Hz6Fs0yAT8WH3XlqxbxliA',\n",
       "  'modern-spa-new-york-3',\n",
       "  'Modern Spa',\n",
       "  415,\n",
       "  'othersalons',\n",
       "  4.0,\n",
       "  'New York'),\n",
       " ('I0bQzuTFY09dt-DKN_-n_A',\n",
       "  'renew-body-and-mind-spa-new-york',\n",
       "  'Renew Body & Mind Spa',\n",
       "  500,\n",
       "  'massage',\n",
       "  4.5,\n",
       "  'New York'),\n",
       " ('jelNtQELe-kym8n4xsCh0A',\n",
       "  'skin-spa-new-york-fashion-new-york',\n",
       "  'Skin Spa New York - Fashion',\n",
       "  409,\n",
       "  'skincare',\n",
       "  4.0,\n",
       "  'New York'),\n",
       " ('jOA8rJehImz34TuLmvhwMQ',\n",
       "  'kimberly-spa-new-york-3',\n",
       "  'Kimberly Spa',\n",
       "  673,\n",
       "  'massage',\n",
       "  4.5,\n",
       "  'New York'),\n",
       " ('KQo0KPZZCt2srDmmt0Qy-Q',\n",
       "  'skin-spa-new-york-new-york-11',\n",
       "  'Skin Spa New York',\n",
       "  514,\n",
       "  'laser_hair_removal',\n",
       "  3.5,\n",
       "  'New York'),\n",
       " ('LrqC8HfSF7MrGVWiOTBFCw',\n",
       "  'premier57-new-york',\n",
       "  'Premier57',\n",
       "  685,\n",
       "  'spas',\n",
       "  3.0,\n",
       "  'New York'),\n",
       " ('mM1uQFMZNZtrGHZzB1ghMQ',\n",
       "  'aire-ancient-baths-new-york',\n",
       "  'Aire Ancient Baths',\n",
       "  758,\n",
       "  'massage',\n",
       "  4.0,\n",
       "  'New York'),\n",
       " ('myftXTr-yUnFTjf1ZM7YnA',\n",
       "  'mian-tian-sing-hair-salon-new-york-15',\n",
       "  'Mian Tian Sing  Hair Salon',\n",
       "  948,\n",
       "  'hair',\n",
       "  4.0,\n",
       "  'New York'),\n",
       " ('sUkztsGbkYaanUACHk25aw',\n",
       "  'bliss-soho-new-york',\n",
       "  'Bliss Soho',\n",
       "  381,\n",
       "  'spas',\n",
       "  3.5,\n",
       "  'New York'),\n",
       " ('t6UFpoFwCJ-Wu82ydIFIrw',\n",
       "  'renewing-spa-new-york',\n",
       "  'Renewing Spa',\n",
       "  357,\n",
       "  'massage',\n",
       "  4.5,\n",
       "  'New York'),\n",
       " ('wmv9vGht17V8Jrob-k15ug',\n",
       "  'skin-spa-new-york-midtown-new-york-2',\n",
       "  'Skin Spa New York - Midtown',\n",
       "  536,\n",
       "  'skincare',\n",
       "  3.5,\n",
       "  'New York'),\n",
       " ('XKhorv5XtgBswQOn7czFmw',\n",
       "  'black-label-nails-and-spa-new-york',\n",
       "  'Black Label Nails & Spa',\n",
       "  359,\n",
       "  'othersalons',\n",
       "  3.5,\n",
       "  'New York')]"
      ]
     },
     "execution_count": 22,
     "metadata": {},
     "output_type": "execute_result"
    }
   ],
   "source": [
    "cursor.fetchall()"
   ]
  },
  {
   "cell_type": "code",
   "execution_count": null,
   "metadata": {},
   "outputs": [],
   "source": [
    "query = \"\"\"CREATE TABLE \n",
    "\"\"\""
   ]
  },
  {
   "cell_type": "code",
   "execution_count": 20,
   "metadata": {},
   "outputs": [],
   "source": [
    "for n in range(1, len(all_rows)):\n",
    "    cursor.execute(qry, all_rows[n])"
   ]
  },
  {
   "cell_type": "code",
   "execution_count": 16,
   "metadata": {},
   "outputs": [],
   "source": []
  },
  {
   "cell_type": "code",
   "execution_count": 23,
   "metadata": {},
   "outputs": [],
   "source": [
    "def db_insert(results):\n",
    "    qry = \"\"\"INSERT INTO businesses \n",
    "    (business_id, alias, name, review_count, categories, rating, city) \n",
    "    VALUES (%s, %s, %s, %s, %s, %s, %s)\"\"\"\n",
    "    for n in range(0, len(all_rows)):\n",
    "        cursor.execute(qry, all_rows[n])"
   ]
  },
  {
   "cell_type": "code",
   "execution_count": 31,
   "metadata": {},
   "outputs": [],
   "source": [
    "def parse_results(results):\n",
    "    parsed_results = []\n",
    "    for business in data['businesses']:\n",
    "        entry_tup = (business['id'], business['alias'], business['name'], business['review_count'], business['categories'][0]['alias'], business['rating'], business['location']['city'])\n",
    "        parsed_results.append(entry_tup)\n",
    "    return parsed_results"
   ]
  },
  {
   "cell_type": "code",
   "execution_count": 32,
   "metadata": {},
   "outputs": [
    {
     "name": "stdout",
     "output_type": "stream",
     "text": [
      "818 total matches found.\n"
     ]
    },
    {
     "ename": "IntegrityError",
     "evalue": "1062 (23000): Duplicate entry 'myftXTr-yUnFTjf1ZM7YnA' for key 'PRIMARY'",
     "output_type": "error",
     "traceback": [
      "\u001b[0;31m---------------------------------------------------------------------------\u001b[0m",
      "\u001b[0;31mMySQLInterfaceError\u001b[0m                       Traceback (most recent call last)",
      "\u001b[0;32m~/miniconda3/lib/python3.7/site-packages/mysql/connector/connection_cext.py\u001b[0m in \u001b[0;36mcmd_query\u001b[0;34m(self, query, raw, buffered, raw_as_string)\u001b[0m\n\u001b[1;32m    471\u001b[0m                                \u001b[0mraw\u001b[0m\u001b[0;34m=\u001b[0m\u001b[0mraw\u001b[0m\u001b[0;34m,\u001b[0m \u001b[0mbuffered\u001b[0m\u001b[0;34m=\u001b[0m\u001b[0mbuffered\u001b[0m\u001b[0;34m,\u001b[0m\u001b[0;34m\u001b[0m\u001b[0;34m\u001b[0m\u001b[0m\n\u001b[0;32m--> 472\u001b[0;31m                                raw_as_string=raw_as_string)\n\u001b[0m\u001b[1;32m    473\u001b[0m         \u001b[0;32mexcept\u001b[0m \u001b[0mMySQLInterfaceError\u001b[0m \u001b[0;32mas\u001b[0m \u001b[0mexc\u001b[0m\u001b[0;34m:\u001b[0m\u001b[0;34m\u001b[0m\u001b[0;34m\u001b[0m\u001b[0m\n",
      "\u001b[0;31mMySQLInterfaceError\u001b[0m: Duplicate entry 'myftXTr-yUnFTjf1ZM7YnA' for key 'PRIMARY'",
      "\nDuring handling of the above exception, another exception occurred:\n",
      "\u001b[0;31mIntegrityError\u001b[0m                            Traceback (most recent call last)",
      "\u001b[0;32m<ipython-input-32-0fd1c0ae7868>\u001b[0m in \u001b[0;36m<module>\u001b[0;34m\u001b[0m\n\u001b[1;32m     25\u001b[0m \u001b[0;31m#                 'limit' : 50\u001b[0m\u001b[0;34m\u001b[0m\u001b[0;34m\u001b[0m\u001b[0;34m\u001b[0m\u001b[0m\n\u001b[1;32m     26\u001b[0m \u001b[0;31m#              }\u001b[0m\u001b[0;34m\u001b[0m\u001b[0;34m\u001b[0m\u001b[0;34m\u001b[0m\u001b[0m\n\u001b[0;32m---> 27\u001b[0;31m \u001b[0mdf\u001b[0m \u001b[0;34m=\u001b[0m \u001b[0mpd\u001b[0m\u001b[0;34m.\u001b[0m\u001b[0mDataFrame\u001b[0m\u001b[0;34m(\u001b[0m\u001b[0mall_results\u001b[0m\u001b[0;34m(\u001b[0m\u001b[0mall_url_params\u001b[0m\u001b[0;34m,\u001b[0m \u001b[0mmy_api_key\u001b[0m\u001b[0;34m)\u001b[0m\u001b[0;34m)\u001b[0m\u001b[0;34m\u001b[0m\u001b[0;34m\u001b[0m\u001b[0m\n\u001b[0m\u001b[1;32m     28\u001b[0m \u001b[0mprint\u001b[0m\u001b[0;34m(\u001b[0m\u001b[0mlen\u001b[0m\u001b[0;34m(\u001b[0m\u001b[0mdf\u001b[0m\u001b[0;34m)\u001b[0m\u001b[0;34m)\u001b[0m\u001b[0;34m\u001b[0m\u001b[0;34m\u001b[0m\u001b[0m\n\u001b[1;32m     29\u001b[0m \u001b[0mdf\u001b[0m\u001b[0;34m.\u001b[0m\u001b[0mhead\u001b[0m\u001b[0;34m(\u001b[0m\u001b[0;34m)\u001b[0m\u001b[0;34m\u001b[0m\u001b[0;34m\u001b[0m\u001b[0m\n",
      "\u001b[0;32m<ipython-input-32-0fd1c0ae7868>\u001b[0m in \u001b[0;36mall_results\u001b[0;34m(url_params, api_key)\u001b[0m\n\u001b[1;32m     14\u001b[0m         \u001b[0mresults\u001b[0m \u001b[0;34m=\u001b[0m \u001b[0myelp_call\u001b[0m\u001b[0;34m(\u001b[0m\u001b[0murl_params\u001b[0m\u001b[0;34m,\u001b[0m \u001b[0mapi_key\u001b[0m\u001b[0;34m)\u001b[0m\u001b[0;34m\u001b[0m\u001b[0;34m\u001b[0m\u001b[0m\n\u001b[1;32m     15\u001b[0m         \u001b[0mparsed_results\u001b[0m \u001b[0;34m=\u001b[0m \u001b[0mparse_results\u001b[0m\u001b[0;34m(\u001b[0m\u001b[0mresults\u001b[0m\u001b[0;34m)\u001b[0m\u001b[0;34m\u001b[0m\u001b[0;34m\u001b[0m\u001b[0m\n\u001b[0;32m---> 16\u001b[0;31m         \u001b[0mdb_insert\u001b[0m\u001b[0;34m(\u001b[0m\u001b[0mparsed_results\u001b[0m\u001b[0;34m)\u001b[0m\u001b[0;34m\u001b[0m\u001b[0;34m\u001b[0m\u001b[0m\n\u001b[0m\u001b[1;32m     17\u001b[0m         \u001b[0mtime\u001b[0m\u001b[0;34m.\u001b[0m\u001b[0msleep\u001b[0m\u001b[0;34m(\u001b[0m\u001b[0;36m1\u001b[0m\u001b[0;34m)\u001b[0m \u001b[0;31m#Wait a second\u001b[0m\u001b[0;34m\u001b[0m\u001b[0;34m\u001b[0m\u001b[0m\n\u001b[1;32m     18\u001b[0m \u001b[0;31m#          for yelp you dont really need to wait a second\u001b[0m\u001b[0;34m\u001b[0m\u001b[0;34m\u001b[0m\u001b[0;34m\u001b[0m\u001b[0m\n",
      "\u001b[0;32m<ipython-input-23-2e84cbcf9c72>\u001b[0m in \u001b[0;36mdb_insert\u001b[0;34m(results)\u001b[0m\n\u001b[1;32m      4\u001b[0m     VALUES (%s, %s, %s, %s, %s, %s, %s)\"\"\"\n\u001b[1;32m      5\u001b[0m     \u001b[0;32mfor\u001b[0m \u001b[0mn\u001b[0m \u001b[0;32min\u001b[0m \u001b[0mrange\u001b[0m\u001b[0;34m(\u001b[0m\u001b[0;36m0\u001b[0m\u001b[0;34m,\u001b[0m \u001b[0mlen\u001b[0m\u001b[0;34m(\u001b[0m\u001b[0mall_rows\u001b[0m\u001b[0;34m)\u001b[0m\u001b[0;34m)\u001b[0m\u001b[0;34m:\u001b[0m\u001b[0;34m\u001b[0m\u001b[0;34m\u001b[0m\u001b[0m\n\u001b[0;32m----> 6\u001b[0;31m         \u001b[0mcursor\u001b[0m\u001b[0;34m.\u001b[0m\u001b[0mexecute\u001b[0m\u001b[0;34m(\u001b[0m\u001b[0mqry\u001b[0m\u001b[0;34m,\u001b[0m \u001b[0mall_rows\u001b[0m\u001b[0;34m[\u001b[0m\u001b[0mn\u001b[0m\u001b[0;34m]\u001b[0m\u001b[0;34m)\u001b[0m\u001b[0;34m\u001b[0m\u001b[0;34m\u001b[0m\u001b[0m\n\u001b[0m",
      "\u001b[0;32m~/miniconda3/lib/python3.7/site-packages/mysql/connector/cursor_cext.py\u001b[0m in \u001b[0;36mexecute\u001b[0;34m(self, operation, params, multi)\u001b[0m\n\u001b[1;32m    264\u001b[0m             result = self._cnx.cmd_query(stmt, raw=self._raw,\n\u001b[1;32m    265\u001b[0m                                          \u001b[0mbuffered\u001b[0m\u001b[0;34m=\u001b[0m\u001b[0mself\u001b[0m\u001b[0;34m.\u001b[0m\u001b[0m_buffered\u001b[0m\u001b[0;34m,\u001b[0m\u001b[0;34m\u001b[0m\u001b[0;34m\u001b[0m\u001b[0m\n\u001b[0;32m--> 266\u001b[0;31m                                          raw_as_string=self._raw_as_string)\n\u001b[0m\u001b[1;32m    267\u001b[0m         \u001b[0;32mexcept\u001b[0m \u001b[0mMySQLInterfaceError\u001b[0m \u001b[0;32mas\u001b[0m \u001b[0mexc\u001b[0m\u001b[0;34m:\u001b[0m\u001b[0;34m\u001b[0m\u001b[0;34m\u001b[0m\u001b[0m\n\u001b[1;32m    268\u001b[0m             raise errors.get_mysql_exception(msg=exc.msg, errno=exc.errno,\n",
      "\u001b[0;32m~/miniconda3/lib/python3.7/site-packages/mysql/connector/connection_cext.py\u001b[0m in \u001b[0;36mcmd_query\u001b[0;34m(self, query, raw, buffered, raw_as_string)\u001b[0m\n\u001b[1;32m    473\u001b[0m         \u001b[0;32mexcept\u001b[0m \u001b[0mMySQLInterfaceError\u001b[0m \u001b[0;32mas\u001b[0m \u001b[0mexc\u001b[0m\u001b[0;34m:\u001b[0m\u001b[0;34m\u001b[0m\u001b[0;34m\u001b[0m\u001b[0m\n\u001b[1;32m    474\u001b[0m             raise errors.get_mysql_exception(exc.errno, msg=exc.msg,\n\u001b[0;32m--> 475\u001b[0;31m                                              sqlstate=exc.sqlstate)\n\u001b[0m\u001b[1;32m    476\u001b[0m         \u001b[0;32mexcept\u001b[0m \u001b[0mAttributeError\u001b[0m\u001b[0;34m:\u001b[0m\u001b[0;34m\u001b[0m\u001b[0;34m\u001b[0m\u001b[0m\n\u001b[1;32m    477\u001b[0m             \u001b[0;32mif\u001b[0m \u001b[0mself\u001b[0m\u001b[0;34m.\u001b[0m\u001b[0m_unix_socket\u001b[0m\u001b[0;34m:\u001b[0m\u001b[0;34m\u001b[0m\u001b[0;34m\u001b[0m\u001b[0m\n",
      "\u001b[0;31mIntegrityError\u001b[0m: 1062 (23000): Duplicate entry 'myftXTr-yUnFTjf1ZM7YnA' for key 'PRIMARY'"
     ]
    }
   ],
   "source": [
    "# Your code here; use a function or loop to retrieve all the results from your original request\n",
    "import time\n",
    "\n",
    "all_url_params = {'location':'Manhattan', 'categories':'massage, All', 'sort_by':'review_count'}\n",
    "\n",
    "def all_results(url_params, api_key):\n",
    "    response = yelp_call(url_params, api_key)\n",
    "    num = data['total']\n",
    "    print('{} total matches found.'.format(num))\n",
    "    cur = 0\n",
    "    \n",
    "    while cur < num and cur < 100:\n",
    "        url_params['offset'] = cur\n",
    "        results = yelp_call(url_params, api_key)\n",
    "        parsed_results = parse_results(results)\n",
    "        db_insert(parsed_results)\n",
    "        time.sleep(1) #Wait a second\n",
    "#          for yelp you dont really need to wait a second\n",
    "        cur += 20\n",
    "\n",
    "# term = 'pizza'\n",
    "# location = 'Astoria NY'\n",
    "# url_params = {  'term': term.replace(' ', '+'),\n",
    "#                 'location': location.replace(' ', '+'),\n",
    "#                 'limit' : 50\n",
    "#              }\n",
    "df = pd.DataFrame(all_results(all_url_params, my_api_key))\n",
    "print(len(df))\n",
    "df.head()"
   ]
  },
  {
   "cell_type": "code",
   "execution_count": null,
   "metadata": {},
   "outputs": [],
   "source": []
  }
 ],
 "metadata": {
  "kernelspec": {
   "display_name": "Python 3",
   "language": "python",
   "name": "python3"
  },
  "language_info": {
   "codemirror_mode": {
    "name": "ipython",
    "version": 3
   },
   "file_extension": ".py",
   "mimetype": "text/x-python",
   "name": "python",
   "nbconvert_exporter": "python",
   "pygments_lexer": "ipython3",
   "version": "3.7.3"
  }
 },
 "nbformat": 4,
 "nbformat_minor": 2
}
