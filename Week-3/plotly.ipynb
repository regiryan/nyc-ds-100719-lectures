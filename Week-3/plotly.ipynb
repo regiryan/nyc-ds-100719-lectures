{
 "cells": [
  {
   "cell_type": "code",
   "execution_count": null,
   "metadata": {},
   "outputs": [],
   "source": [
    "pip install plotly==3.10.0\n",
    "\n"
   ]
  },
  {
   "cell_type": "code",
   "execution_count": null,
   "metadata": {},
   "outputs": [],
   "source": [
    "import pandas as pd\n",
    "import numpy as np\n",
    "# import matplotlib.pyplot as plt\n",
    "# import seaborn as sns\n",
    "# import matplotlib.font_manager\n",
    "# %matplotlib inline\n",
    "import plotly.plotly  as py\n",
    "import plotly.graph_objs as go\n",
    "# plotly.tools.set_credentials_file(username='***', api_key='***')"
   ]
  },
  {
   "cell_type": "code",
   "execution_count": null,
   "metadata": {},
   "outputs": [],
   "source": [
    "fig = go.Figure(data=go.Bar(y=[2, 3, 1]))\n",
    "fig.show()"
   ]
  },
  {
   "cell_type": "code",
   "execution_count": null,
   "metadata": {},
   "outputs": [],
   "source": [
    "import  plotly.plotly  as py\n",
    "import plotly.graph_objs as go\n",
    "color_palette_list = ['#009ACD', '#ADD8E6', '#63D1F4', '#0EBFE9', \n",
    "                      '#C1F0F6', '#0099CC']\n",
    "trace = go.Bar(\n",
    "            x=df['Q Code'],\n",
    "            y=df['Percentage of Respondents'],\n",
    "            marker=dict(\n",
    "            color=color_palette_list))\n",
    "data = [trace]\n",
    "layout = go.Layout(\n",
    "    title='Elephant in the Valley Survey Results',\n",
    "    font=dict(color='#909090'),\n",
    "    xaxis=dict(\n",
    "        title='Question Key',\n",
    "        titlefont=dict(\n",
    "            family='Arial, sans-serif',\n",
    "            size=12,\n",
    "            color='#909090'\n",
    "        ),\n",
    "        showticklabels=True,\n",
    "        tickangle=-45,\n",
    "        tickfont=dict(\n",
    "            family='Arial, sans-serif',\n",
    "            size=12,\n",
    "            color='#909090'\n",
    "        ),\n",
    "),\n",
    "    yaxis=dict(\n",
    "        range=[0,100],\n",
    "        title=\"Percentage of Yes Responses to Question\",\n",
    "        titlefont=dict(\n",
    "            family='Arial, sans-serif',\n",
    "            size=12,\n",
    "            color='#909090'\n",
    "        ),\n",
    "        showticklabels=True,\n",
    "        tickangle=0,\n",
    "        tickfont=dict(\n",
    "            family='Arial, sans-serif',\n",
    "            size=12,\n",
    "            color='#909090'\n",
    "        )\n",
    "    )\n",
    ")\n",
    "fig = go.Figure(data=data, layout=layout)\n",
    "py.iplot(fig, filename='barplot-elephant-in-the-valley')\n",
    "# This produces the following output:\n",
    "\n",
    "# Fig. 6 — Plotly Bar Chart Example\n",
    "# Plotly Pie Chart Example\n",
    "# By now you’ve likely caught on to how we are formatting and calling the parameters within Matplotlib and Plotly to build our visualizations. Let’s take a look at one last chart — an example of how we can create a similar pie chart to the one above using Plotly.\n",
    "# The following code sets up and outputs our chart. We are specifying our start angle through the rotation parameter, and noting what information should be available when we hover over each component of our pie chart using the hoverover parameter.\n",
    "labels = ['Bay Area / Silicon Valley', \n",
    "          'Non Bay Area / Silicon Valley']\n",
    "percentages = [91, 9]\n",
    "trace = go.Pie(labels=labels, \n",
    "               hoverinfo='label+percent', \n",
    "               values=percentages, \n",
    "               textposition='outside',\n",
    "               marker=dict(colors=color_palette_list[0:2]),\n",
    "              rotation=90)\n",
    "layout = go.Layout(\n",
    "                    title=\"Elephant in the Valley Survey Respondent Make-up\",\n",
    "                    font=dict(family='Arial', size=12, color='#909090'),\n",
    "                    legend=dict(x=0.9, y=0.5)\n",
    "                    )\n",
    "data = [trace]\n",
    "fig = go.Figure(data=data, layout=layout)\n",
    "py.iplot(fig, filename='basic_pie_chart_elephant_in_the_valley')"
   ]
  },
  {
   "cell_type": "code",
   "execution_count": null,
   "metadata": {},
   "outputs": [],
   "source": [
    "fig = {\n",
    "    \"data\": [{\"type\": \"bar\",\n",
    "              \"x\": [1, 2, 3],\n",
    "              \"y\": [1, 3, 2]}],\n",
    "    \"layout\": {\"title\": {\"text\": \"A Bar Chart\"}}\n",
    "}\n",
    "\n",
    "# To display the figure defined by this dict, use the low-level plotly.io.show function\n",
    "import plotly.io as pio\n",
    "pio.show(fig)\n",
    "\n",
    "\n"
   ]
  },
  {
   "cell_type": "code",
   "execution_count": null,
   "metadata": {},
   "outputs": [],
   "source": [
    "df = read\n"
   ]
  },
  {
   "cell_type": "code",
   "execution_count": null,
   "metadata": {},
   "outputs": [],
   "source": [
    "import numpy as np # linear algebra\n",
    "import pandas as pd # data processing, CSV file I/O (e.g. pd.read_csv)\n",
    "\n",
    "# seaborn library\n",
    "import seaborn as sns\n",
    "\n",
    "# plotly library\n",
    "import plotly.plotly as py\n",
    "from plotly.offline import init_notebook_mode, iplot\n",
    "init_notebook_mode(connected=True)\n",
    "import plotly.graph_objs as go\n",
    "\n",
    "# matplotlib library\n",
    "import matplotlib.pyplot as plt\n",
    "\n",
    "%matplotlib notebook\n",
    "%matplotlib inline\n",
    "\n",
    "# Input data files are available in the \"../input/\" directory.\n",
    "# For example, running this (by clicking run or pressing Shift+Enter) will list the files in the input directory\n",
    "\n",
    "import os\n",
    "print(os.listdir(\"../input\"))"
   ]
  }
 ],
 "metadata": {
  "kernelspec": {
   "display_name": "Python 3",
   "language": "python",
   "name": "python3"
  },
  "language_info": {
   "codemirror_mode": {
    "name": "ipython",
    "version": 3
   },
   "file_extension": ".py",
   "mimetype": "text/x-python",
   "name": "python",
   "nbconvert_exporter": "python",
   "pygments_lexer": "ipython3",
   "version": "3.7.3"
  }
 },
 "nbformat": 4,
 "nbformat_minor": 2
}
